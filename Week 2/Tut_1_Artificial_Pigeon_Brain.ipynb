{
 "cells": [
  {
   "cell_type": "markdown",
   "metadata": {
    "colab_type": "text",
    "id": "t_7PSrzbdQbT"
   },
   "source": [
    "# Tutorial 1 - Artificial Pigeon Brain\n",
    "\n",
    "## Last Lecture\n",
    "* Biological Neural Networks (BNNs)\n",
    "* Artificial Neurons Networks (ANNs)\n",
    "* Forward Pass\n",
    "* Activation Functions\n",
    "* Mean Squared Error and Cross-Entropy\n",
    "* Gradient Descent and Backpropagation\n",
    "* Nonlinearity\n",
    "\n",
    "Sample code:"
   ]
  },
  {
   "cell_type": "markdown",
   "metadata": {
    "colab_type": "text",
    "id": "5vk1HIgTbbKt"
   },
   "source": [
    "#### Example: 1-layer ANN with MSE and Gradient Descent\n"
   ]
  },
  {
   "cell_type": "code",
   "execution_count": 1,
   "metadata": {
    "colab": {},
    "colab_type": "code",
    "id": "8tmvmSv7bSvm"
   },
   "outputs": [],
   "source": [
    "import math\n",
    "\n",
    "# data (first column is the bias term)\n",
    "x = [[1, 0.1,-0.2], \n",
    "     [1,-0.1, 0.9], \n",
    "     [1, 1.2, 0.1], \n",
    "     [1, 1.1, 1.5]]\n",
    "\n",
    "# labels (desired output)\n",
    "t = [0, 0, 0, 1]\n",
    "\n",
    "# initial weights\n",
    "w = [1, -1, 1]\n",
    "\n",
    "iterations = 50\n",
    "learning = 10\n",
    "\n",
    "def simple_ann(x, w, t, iterations, learning):\n",
    "\n",
    "    E = []\n",
    "    \n",
    "    #iterate over epochs\n",
    "    # An epoch is one complete presentation of the data set to be learned to a learning machine\n",
    "    for ii in range(iterations):\n",
    "        err = [] \n",
    "        y = []\n",
    "        #iterate over all the samples x\n",
    "        for n in range(len(x)):\n",
    "            v = 0\n",
    "            # compute w.x\n",
    "            for p in range(len(x[0])):\n",
    "                v = v + x[n][p]*w[p]\n",
    "            \n",
    "            #sigmoidal activation    \n",
    "            y.append(1 / (1 + math.e**(-v))) \n",
    "            \n",
    "            #MSE classification error\n",
    "            err.append((y[n]-t[n])**2)\n",
    "            \n",
    "            #gradient descent to compute new weights\n",
    "            for p in range(len(w)):\n",
    "                d = x[n][p]*(y[n]-t[n])*(1-y[n])*(y[n]) # The gradient\n",
    "                w[p] = w[p] - learning*d\n",
    "                \n",
    "        #sum up classification error\n",
    "        E.append(sum(err)/len(x))\n",
    "    \n",
    "    return (y, w, E)\n",
    "\n",
    "(y, w, E) = simple_ann(x, w, t, iterations, learning)"
   ]
  },
  {
   "cell_type": "code",
   "execution_count": 2,
   "metadata": {
    "colab": {},
    "colab_type": "code",
    "id": "TncfaRORb5tN"
   },
   "outputs": [
    {
     "name": "stdout",
     "output_type": "stream",
     "text": [
      "[0.0006555859880223744, 0.052128479309599574, 0.04486688739303947, 0.9484229735074757]\n"
     ]
    }
   ],
   "source": [
    "print(y)"
   ]
  },
  {
   "cell_type": "markdown",
   "metadata": {
    "colab_type": "text",
    "id": "Sv7VdSNxcFWT"
   },
   "source": [
    "#### Example: 1-layer ANN with Cross-Entropy and Gradient Descent"
   ]
  },
  {
   "cell_type": "code",
   "execution_count": 3,
   "metadata": {
    "colab": {},
    "colab_type": "code",
    "id": "ytnwNDitduho"
   },
   "outputs": [],
   "source": [
    "import math\n",
    "\n",
    "# data (first column is the bias term)\n",
    "x = [[1, 0.1,-0.2], \n",
    "     [1,-0.1, 0.9], \n",
    "     [1, 1.2, 0.1], \n",
    "     [1, 1.1, 1.5]]\n",
    "\n",
    "# labels (desired output)\n",
    "t = [0, 0, 0, 1]\n",
    "\n",
    "# initial weights\n",
    "w = [1, -1, 1]\n",
    "\n",
    "iterations = 50\n",
    "learning = 10\n",
    "\n",
    "def simple_ann(x, w, t, iterations, learning):\n",
    "\n",
    "    E = []\n",
    "    \n",
    "    #iterate over epochs\n",
    "    for ii in range(iterations):\n",
    "        err = [] \n",
    "        y = []\n",
    "        \n",
    "        #iterate over all the samples x\n",
    "        for n in range(len(x)):\n",
    "            v = 0\n",
    "            \n",
    "            #compute w.x\n",
    "            for p in range(len(x[0])):\n",
    "                v = v + x[n][p]*w[p]\n",
    "            \n",
    "            #sigmoidal activation\n",
    "            y.append(1 / (1 + math.e**(-v))) \n",
    "            \n",
    "            #cross-entropy classification error\n",
    "            err.append(-t[n]*math.log(y[n]) - (1-t[n])*math.log(1-y[n]))\n",
    "\n",
    "            #gradient descent to compute new weights\n",
    "            for p in range(len(w)):\n",
    "                d = x[n][p]*(y[n]-t[n]) #cross_entropy\n",
    "                w[p] = w[p] - learning*d\n",
    "                \n",
    "        #sum up classification error\n",
    "        E.append(sum(err))\n",
    "    \n",
    "    return (y, w, E)\n",
    "\n",
    "(y, w, E) = simple_ann(x, w, t, iterations, learning)"
   ]
  },
  {
   "cell_type": "code",
   "execution_count": 6,
   "metadata": {
    "colab": {},
    "colab_type": "code",
    "id": "MnsiF6FDdvM7"
   },
   "outputs": [
    {
     "name": "stdout",
     "output_type": "stream",
     "text": [
      "[2.5634098868906284e-08, 0.00038213770365918653, 0.0014428852065389562, 0.9988476237831357]\n"
     ]
    }
   ],
   "source": [
    "print(y)\n",
    "#print(E)\n"
   ]
  },
  {
   "cell_type": "markdown",
   "metadata": {
    "colab_type": "text",
    "id": "dVrJJw84dbiJ"
   },
   "source": [
    "### Exploring the Iris dataset\n",
    "\n",
    "Let us modify the above code to work with the iris data set.\n",
    "\n",
    "To begin, load the iris data into Google Colab. Last time we had some difficulty with this, so it's suggested that you use Chrome or Chromium. Another approach to load the iris data is shown below:"
   ]
  },
  {
   "cell_type": "code",
   "execution_count": 7,
   "metadata": {
    "colab": {},
    "colab_type": "code",
    "id": "38Qu2LlAIDlQ"
   },
   "outputs": [],
   "source": [
    "# use sklearn.datasets to load iris data\n",
    "\n",
    "from sklearn.datasets import load_iris\n",
    "features, labels = load_iris(return_X_y=True)"
   ]
  },
  {
   "cell_type": "markdown",
   "metadata": {
    "colab_type": "text",
    "id": "dCcmOIFyIbge"
   },
   "source": [
    "The iris data has 150 samples spread across three classes: \n",
    "1. Iris-setosa, \n",
    "2. Iris-versicolor,\n",
    "3. Iris-virginica. \n",
    "\n",
    "There are four features used: \n",
    "1. sepal length in cm\n",
    "2. sepal width in cm\n",
    "3. petal length in cm\n",
    "4. petal width in cm\n",
    "\n",
    "To keep things simple, let us pick two of the classes and perform binary classification with our sample code. We will select **Iris-setosa** and **Iris-versicolor** to start:"
   ]
  },
  {
   "cell_type": "code",
   "execution_count": 11,
   "metadata": {
    "colab": {},
    "colab_type": "code",
    "id": "sj2vXappwiUA"
   },
   "outputs": [],
   "source": [
    "# classification iris-setosa and iris-versicolor\n",
    "import numpy as np\n",
    "\n",
    "indices = np.array(range(0,100))\n",
    "\n",
    "#setup x matrix\n",
    "x = np.zeros((len(indices), 4 + 1))\n",
    "x[:,1:5] = features[indices,:]\n",
    "\n",
    "#add bias column\n",
    "x[:,0] = np.ones(len(indices))\n",
    "\n",
    "#labels\n",
    "t = labels[indices]\n",
    "\n",
    "# initial weights\n",
    "w = np.random.rand(5)\n",
    "\n",
    "\n",
    "iterations = 100\n",
    "learning = 0.0001"
   ]
  },
  {
   "cell_type": "code",
   "execution_count": 12,
   "metadata": {
    "colab": {},
    "colab_type": "code",
    "id": "6vMfTNVFJFif"
   },
   "outputs": [],
   "source": [
    "import math\n",
    "\n",
    "def simple_ann(x, w, t, iterations, learning):\n",
    "\n",
    "    E = []\n",
    "    \n",
    "    #iterate over epochs\n",
    "    for ii in range(iterations):\n",
    "        err = [] \n",
    "        y = []\n",
    "        \n",
    "        #iterate over all the samples x\n",
    "        for n in range(len(x)):\n",
    "            \n",
    "            v = 0\n",
    "            #compute w.x\n",
    "            for p in range(len(x[0])):\n",
    "                v = v + x[n,p]*w[p]\n",
    "            \n",
    "            #sigmoidal activation\n",
    "            y.append(1 / (1 + math.e**(-v))) \n",
    "            \n",
    "\n",
    "            #cross-entropy classification error\n",
    "            err.append(-t[n]*math.log(y[n]+ 0.000001) - (1-t[n])*math.log(1-y[n]+ 0.000001))\n",
    "\n",
    "            #gradient descent to compute new weights\n",
    "            for p in range(len(w)):\n",
    "                d = x[n][p]*(y[n]-t[n]) #cross_entropy\n",
    "                w[p] = w[p] - learning*d\n",
    "                \n",
    "        #sum up classification error\n",
    "        E.append(sum(err))\n",
    "    \n",
    "    return (y, w, E)\n",
    "\n",
    "(y, w, E) = simple_ann(x, w, t, iterations, learning)"
   ]
  },
  {
   "cell_type": "code",
   "execution_count": 14,
   "metadata": {
    "colab": {},
    "colab_type": "code",
    "id": "WgPIaMRLzjXC"
   },
   "outputs": [
    {
     "name": "stdout",
     "output_type": "stream",
     "text": [
      "Target:  0 Prediction:  0.2766508626683238\n",
      "Target:  0 Prediction:  0.2979754196534353\n",
      "Target:  0 Prediction:  0.29490018934357537\n",
      "Target:  0 Prediction:  0.33885070412818313\n",
      "Target:  0 Prediction:  0.28238806184374454\n",
      "Target:  0 Prediction:  0.3043944892252767\n",
      "Target:  0 Prediction:  0.32103686286054084\n",
      "Target:  0 Prediction:  0.300451366058546\n",
      "Target:  0 Prediction:  0.3395955097539036\n",
      "Target:  0 Prediction:  0.3075887267910046\n",
      "Target:  0 Prediction:  0.2648033030863128\n",
      "Target:  0 Prediction:  0.33355479368561686\n",
      "Target:  0 Prediction:  0.29937871873890515\n",
      "Target:  0 Prediction:  0.2897504696319979\n",
      "Target:  0 Prediction:  0.19175697930025726\n",
      "Target:  0 Prediction:  0.24151903778512906\n",
      "Target:  0 Prediction:  0.23864449151352743\n",
      "Target:  0 Prediction:  0.27663352302945937\n",
      "Target:  0 Prediction:  0.27415602062429434\n",
      "Target:  0 Prediction:  0.28885364697979704\n",
      "Target:  0 Prediction:  0.29816908210877213\n",
      "Target:  0 Prediction:  0.2935759875016401\n",
      "Target:  0 Prediction:  0.2465132511486622\n",
      "Target:  0 Prediction:  0.3367840661228111\n",
      "Target:  0 Prediction:  0.38534564089979495\n",
      "Target:  0 Prediction:  0.31799784169896844\n",
      "Target:  0 Prediction:  0.32122958632858867\n",
      "Target:  0 Prediction:  0.27833916458908897\n",
      "Target:  0 Prediction:  0.2634860620948363\n",
      "Target:  0 Prediction:  0.34031737577777027\n",
      "Target:  0 Prediction:  0.33261296080605707\n",
      "Target:  0 Prediction:  0.27076317898350616\n",
      "Target:  0 Prediction:  0.26623506285866283\n",
      "Target:  0 Prediction:  0.2317007759561711\n",
      "Target:  0 Prediction:  0.30580165172284735\n",
      "Target:  0 Prediction:  0.24868756155955846\n",
      "Target:  0 Prediction:  0.2243163097959122\n",
      "Target:  0 Prediction:  0.2784902320534722\n",
      "Target:  0 Prediction:  0.31404834784951513\n",
      "Target:  0 Prediction:  0.28468651836131\n",
      "Target:  0 Prediction:  0.26325025725643675\n",
      "Target:  0 Prediction:  0.31820753247051875\n",
      "Target:  0 Prediction:  0.3106523427228631\n",
      "Target:  0 Prediction:  0.3243345305657838\n",
      "Target:  0 Prediction:  0.3560583521823098\n",
      "Target:  0 Prediction:  0.3001475015193371\n",
      "Target:  0 Prediction:  0.29441456419993106\n",
      "Target:  0 Prediction:  0.3096542200006928\n",
      "Target:  0 Prediction:  0.2632563924379186\n",
      "Target:  0 Prediction:  0.27536011755325035\n",
      "Target:  1 Prediction:  0.7534937142054423\n",
      "Target:  1 Prediction:  0.7713638796583139\n",
      "Target:  1 Prediction:  0.7934674322987066\n",
      "Target:  1 Prediction:  0.7667172145864252\n",
      "Target:  1 Prediction:  0.7833737987442506\n",
      "Target:  1 Prediction:  0.8149943824255576\n",
      "Target:  1 Prediction:  0.8079024630708765\n",
      "Target:  1 Prediction:  0.6914415224979004\n",
      "Target:  1 Prediction:  0.7697295039277846\n",
      "Target:  1 Prediction:  0.7740859513420038\n",
      "Target:  1 Prediction:  0.7221198732868356\n",
      "Target:  1 Prediction:  0.7685969063650472\n",
      "Target:  1 Prediction:  0.7215577587887848\n",
      "Target:  1 Prediction:  0.819197311953747\n",
      "Target:  1 Prediction:  0.6920288627366917\n",
      "Target:  1 Prediction:  0.7363378221980788\n",
      "Target:  1 Prediction:  0.8272110233988837\n",
      "Target:  1 Prediction:  0.7480356869011379\n",
      "Target:  1 Prediction:  0.7991620819629178\n",
      "Target:  1 Prediction:  0.7390322380154749\n",
      "Target:  1 Prediction:  0.85084534889933\n",
      "Target:  1 Prediction:  0.7209568434904519\n",
      "Target:  1 Prediction:  0.8388796194238906\n",
      "Target:  1 Prediction:  0.8164362892429431\n",
      "Target:  1 Prediction:  0.7446148617321824\n",
      "Target:  1 Prediction:  0.7479221822990422\n",
      "Target:  1 Prediction:  0.7930192210297137\n",
      "Target:  1 Prediction:  0.8308257575116538\n",
      "Target:  1 Prediction:  0.8072745797153946\n",
      "Target:  1 Prediction:  0.6613007847344561\n",
      "Target:  1 Prediction:  0.7351042242465059\n",
      "Target:  1 Prediction:  0.7154961096225959\n",
      "Target:  1 Prediction:  0.7288617055443534\n",
      "Target:  1 Prediction:  0.8757523014100438\n",
      "Target:  1 Prediction:  0.841517065175203\n",
      "Target:  1 Prediction:  0.8073934462571886\n",
      "Target:  1 Prediction:  0.7891604856656168\n",
      "Target:  1 Prediction:  0.7762550855248957\n",
      "Target:  1 Prediction:  0.774992955929945\n",
      "Target:  1 Prediction:  0.77310162810072\n",
      "Target:  1 Prediction:  0.82086654594698\n",
      "Target:  1 Prediction:  0.8125471532645411\n",
      "Target:  1 Prediction:  0.7478409269791585\n",
      "Target:  1 Prediction:  0.6933787492947371\n",
      "Target:  1 Prediction:  0.7928616487775506\n",
      "Target:  1 Prediction:  0.780315632380266\n",
      "Target:  1 Prediction:  0.7848966563040399\n",
      "Target:  1 Prediction:  0.7652947898945968\n",
      "Target:  1 Prediction:  0.6342753075675388\n",
      "Target:  1 Prediction:  0.7728799790027907\n"
     ]
    }
   ],
   "source": [
    "for i in range(len(t)):\n",
    "  print(\"Target: \", t[i], \"Prediction: \", y[i])"
   ]
  },
  {
   "cell_type": "markdown",
   "metadata": {
    "colab_type": "text",
    "id": "ZO8CMusz29hQ"
   },
   "source": [
    "We're able to successfully classify iris-setosa and iris-versicolor."
   ]
  },
  {
   "cell_type": "code",
   "execution_count": 15,
   "metadata": {
    "colab": {},
    "colab_type": "code",
    "id": "cKtAXhNZJUok"
   },
   "outputs": [],
   "source": [
    "# classification iris-versicolor and iris virginica\n",
    "import numpy as np\n",
    "\n",
    "indices = np.array(range(50,150))\n",
    "\n",
    "#setup x matrix\n",
    "x = np.zeros((len(indices), 4 + 1))\n",
    "x[:,1:5] = features[indices,:]\n",
    "\n",
    "#add bias column\n",
    "x[:,0] = np.ones(len(indices))\n",
    "\n",
    "#labels, we substract by 1 to test for iris-versicolor and iris-virginica\n",
    "t = labels[indices]-1\n",
    "\n",
    "# initial weights\n",
    "w = np.random.rand(5)\n",
    "\n",
    "iterations = 100\n",
    "learning = 0.0001\n",
    "\n",
    "\n",
    "import math\n",
    "\n",
    "def simple_ann(x, w, t, iterations, learning):\n",
    "\n",
    "    E = []\n",
    "    \n",
    "    #iterate over epochs\n",
    "    for ii in range(iterations):\n",
    "        err = [] \n",
    "        y = []\n",
    "        \n",
    "        #iterate over all the samples x\n",
    "        for n in range(len(x)):\n",
    "            \n",
    "            v = 0\n",
    "            #compute w.x\n",
    "            for p in range(len(x[0])):\n",
    "                v = v + x[n,p]*w[p]\n",
    "            \n",
    "            #sigmoidal activation\n",
    "            y.append(1 / (1 + math.e**(-v))) \n",
    "            \n",
    "\n",
    "            #cross-entropy classification error\n",
    "            err.append(-t[n]*math.log(y[n]+ 0.000001) - (1-t[n])*math.log(1-y[n]+ 0.000001))\n",
    "\n",
    "            #gradient descent to compute new weights\n",
    "            for p in range(len(w)):\n",
    "                d = x[n][p]*(y[n]-t[n]) #cross_entropy\n",
    "                w[p] = w[p] - learning*d\n",
    "                \n",
    "        #sum up classification error\n",
    "        E.append(sum(err))\n",
    "    \n",
    "    return (y, w, E)\n",
    "\n",
    "(y, w, E) = simple_ann(x, w, t, iterations, learning)"
   ]
  },
  {
   "cell_type": "code",
   "execution_count": 16,
   "metadata": {
    "colab": {},
    "colab_type": "code",
    "id": "G5DlhozN2gOW"
   },
   "outputs": [
    {
     "name": "stdout",
     "output_type": "stream",
     "text": [
      "0 0.4363864379293717\n",
      "0 0.5222752390249817\n",
      "0 0.46525228427479387\n",
      "0 0.476483965526174\n",
      "0 0.46477169633712495\n",
      "0 0.5385923341534689\n",
      "0 0.5721036786786923\n",
      "0 0.4770792391962961\n",
      "0 0.4278384255396125\n",
      "0 0.570609752254864\n",
      "0 0.42737868663236545\n",
      "0 0.5413499187841195\n",
      "0 0.34537227426265343\n",
      "0 0.5165690256200592\n",
      "0 0.4994820409171554\n",
      "0 0.43434137724717\n",
      "0 0.5983437274866383\n",
      "0 0.43073218532730095\n",
      "0 0.41919524867178964\n",
      "0 0.43700244854472803\n",
      "0 0.6403527415775614\n",
      "0 0.43753350628358445\n",
      "0 0.46223677635817756\n",
      "0 0.4650781445594051\n",
      "0 0.4238630307355648\n",
      "0 0.42843765506733605\n",
      "0 0.4020520917704592\n",
      "0 0.4977983560572928\n",
      "0 0.5214168889431338\n",
      "0 0.3874021390284273\n",
      "0 0.4254875449492252\n",
      "0 0.4034682837204345\n",
      "0 0.43861131394922903\n",
      "0 0.5484564552489019\n",
      "0 0.6127420730320107\n",
      "0 0.5895148000462657\n",
      "0 0.4510869202715022\n",
      "0 0.3663771065329802\n",
      "0 0.5258365311262199\n",
      "0 0.4744934654563095\n",
      "0 0.49520810558136746\n",
      "0 0.4992497577931269\n",
      "0 0.425762082696148\n",
      "0 0.4292349481037497\n",
      "0 0.4928876623357179\n",
      "0 0.49716468247266876\n",
      "0 0.5004085816652348\n",
      "0 0.43430205964968477\n",
      "0 0.4319764078437624\n",
      "0 0.4804039983557826\n",
      "1 0.7385924661077551\n",
      "1 0.609505693130522\n",
      "1 0.5414512567349512\n",
      "1 0.5795106568644414\n",
      "1 0.6359393509648089\n",
      "1 0.5168155523716017\n",
      "1 0.6477158163779273\n",
      "1 0.4841994108422853\n",
      "1 0.4932228145993726\n",
      "1 0.6730178322927415\n",
      "1 0.5917536019268911\n",
      "1 0.5462885638898733\n",
      "1 0.5688788764452885\n",
      "1 0.619422575731028\n",
      "1 0.7006353539826694\n",
      "1 0.6647437800974774\n",
      "1 0.567746437019778\n",
      "1 0.6279717186344762\n",
      "1 0.519706390982152\n",
      "1 0.46958896616987034\n",
      "1 0.6272951162418623\n",
      "1 0.6647671135164092\n",
      "1 0.48752249276962345\n",
      "1 0.5296868085360084\n",
      "1 0.6391085492217288\n",
      "1 0.532707714905127\n",
      "1 0.5517593181491524\n",
      "1 0.5958027277068474\n",
      "1 0.6215449361379918\n",
      "1 0.46872291604269206\n",
      "1 0.48471570080579424\n",
      "1 0.5676072322729119\n",
      "1 0.6402744734261321\n",
      "1 0.5162339096594977\n",
      "1 0.538623491567373\n",
      "1 0.5343331455038315\n",
      "1 0.7422907811519749\n",
      "1 0.6123542000105192\n",
      "1 0.6123530724369676\n",
      "1 0.5850889791135025\n",
      "1 0.6687134091618002\n",
      "1 0.5982968208430697\n",
      "1 0.6416044402147756\n",
      "1 0.6722053226928919\n",
      "1 0.7107543028657299\n",
      "1 0.6230381555630984\n",
      "1 0.5473274712049412\n",
      "1 0.6065202993912732\n",
      "1 0.7382016209991265\n",
      "1 0.6510800059089741\n"
     ]
    }
   ],
   "source": [
    "for i in range(len(t)):\n",
    "  print(t[i], y[i])"
   ]
  },
  {
   "cell_type": "markdown",
   "metadata": {
    "colab_type": "text",
    "id": "7iwvTlW43L8h"
   },
   "source": [
    "The performance on the iris-versicolor and iris virginica is not as good. To find out why, we will try to visualize the data."
   ]
  },
  {
   "cell_type": "markdown",
   "metadata": {
    "colab_type": "text",
    "id": "wb_g2BEdU_Fu"
   },
   "source": [
    "### Visualize Iris Dataset\n",
    "Since the Iris dataset has only 4 inputs we can try to visualize it on a 2-dimensional plane to get a better idea of what is happening."
   ]
  },
  {
   "cell_type": "code",
   "execution_count": 17,
   "metadata": {
    "colab": {
     "base_uri": "https://localhost:8080/",
     "height": 297
    },
    "colab_type": "code",
    "id": "B6SleB-DVS25",
    "outputId": "a8070bfc-2868-48d1-a989-dc3af3256009"
   },
   "outputs": [
    {
     "data": {
      "image/png": "[encoded data removed]",
      "text/plain": [
       "<Figure size 360x288 with 2 Axes>"
      ]
     },
     "metadata": {
      "needs_background": "light"
     },
     "output_type": "display_data"
    }
   ],
   "source": [
    "#scatter plot of iris-setosa and iris-versicolor\n",
    "import numpy as np\n",
    "from matplotlib import pyplot as plt\n",
    "\n",
    "indices = np.array(range(0,100))\n",
    "\n",
    "selected_features = features[indices,:]\n",
    "selected_labels = labels[indices]\n",
    "\n",
    "feature_name = ['sepal length in cm', 'sepal width in cm', 'petal length in cm', 'petal width in cm']\n",
    "\n",
    "x_index = 0\n",
    "y_index = 1\n",
    "\n",
    "plt.figure(figsize=(5, 4))\n",
    "plt.scatter(selected_features[:,x_index], selected_features[:,y_index], c= selected_labels)\n",
    "plt.colorbar(ticks=[0, 1, 2])\n",
    "plt.xlabel(feature_name[x_index])\n",
    "plt.ylabel(feature_name[y_index])\n",
    "\n",
    "plt.tight_layout()\n",
    "plt.show()"
   ]
  },
  {
   "cell_type": "code",
   "execution_count": 18,
   "metadata": {
    "colab": {
     "base_uri": "https://localhost:8080/",
     "height": 297
    },
    "colab_type": "code",
    "id": "mcLbUFswvBCE",
    "outputId": "7fdcc856-068e-4534-c4ff-17429c0e9f2b"
   },
   "outputs": [
    {
     "data": {
      "image/png": "[encoded data removed]",
      "text/plain": [
       "<Figure size 360x288 with 2 Axes>"
      ]
     },
     "metadata": {
      "needs_background": "light"
     },
     "output_type": "display_data"
    }
   ],
   "source": [
    "# scatter plot of iris-versicolor and iris virginica\n",
    "import numpy as np\n",
    "from matplotlib import pyplot as plt\n",
    "\n",
    "indices = np.array(range(50,150))\n",
    "\n",
    "selected_features = features[indices,:]\n",
    "selected_labels = labels[indices]\n",
    "\n",
    "feature_name = ['sepal length in cm', 'sepal width in cm', 'petal length in cm', 'petal width in cm']\n",
    "\n",
    "x_index = 0\n",
    "y_index = 1\n",
    "\n",
    "plt.figure(figsize=(5, 4))\n",
    "plt.scatter(selected_features[:,x_index], selected_features[:,y_index], c= selected_labels)\n",
    "plt.colorbar(ticks=[0, 1, 2])\n",
    "plt.xlabel(feature_name[x_index])\n",
    "plt.ylabel(feature_name[y_index])\n",
    "\n",
    "plt.tight_layout()\n",
    "plt.show()\n",
    "\n",
    "# You can see that classifying these cases based on the two features\n",
    "# outlined below, shows that it isn't as easy to make that distinction."
   ]
  },
  {
   "cell_type": "markdown",
   "metadata": {
    "colab_type": "text",
    "id": "7Cqsdyg1de8M"
   },
   "source": [
    "### Nonlinear Separation\n",
    "Our 1-layer ANN was only successful one of the binary classification combinations. A 1-layer ANN is unable to handle nonlinear separations (or decisions boundaries). To address this we can introduce a second layer known as a hidden layer. How could we do this?\n",
    "\n",
    "We can just include an additional 1-layer networks as shown in the image below. \n",
    "\n",
    "![alt text](https://miro.medium.com/max/1000/1*sX6T0Y4aa3ARh7IBS_sdqw.png)\n",
    "\n",
    "\n",
    "We would follow the same process as with the 1-layer network:\n",
    "\n",
    "1. write out the equations for the forward pass\n",
    "2. error term can stay the same MSE or Cross-Entropy\n",
    "3. Gradient descent would be applied now to two layers of weights\n",
    "\n",
    "First we would consider the forward pass for a 2-layer ANN. We could use a sigmoidal (logistic) activation function to keep things consistent with our earlier example. Note that the activation function will be applied once on the hidden layer, and also on the output layer.\n",
    "\n",
    "Computing the gradient with respect to the different layers of weights will become more difficult, but still manageable. There are just some additional terms in the chain rule. The second layer weights will be almost identical to what we computed for a 1-layer network, except the input will be the hidden layer activation.\n",
    "\n",
    "Instead of spending the time to compute gradients with each change to the network, which can be a fun mathematical exercise, we will instead focus on using the PyTorch libraries which handle all of this internally."
   ]
  },
  {
   "cell_type": "markdown",
   "metadata": {
    "colab_type": "text",
    "id": "5g4umO_YStI4"
   },
   "source": [
    "### (Optional) Develop a 2-layer ANN\n",
    "Build a 2-layer network using cross-entropy. Determine the gradients with resepect to the layer 1 and layer 2 weights. How could you validate if the gradients were computed correctly?"
   ]
  },
  {
   "cell_type": "code",
   "execution_count": 0,
   "metadata": {
    "colab": {},
    "colab_type": "code",
    "id": "xXNbhFSFTJp1"
   },
   "outputs": [],
   "source": [
    "#write code to build a 2-layer network using cross-entropy\n",
    "\n",
    "\n",
    "\n",
    "\n",
    "\n",
    "\n",
    "\n",
    "\n",
    "\n"
   ]
  },
  {
   "cell_type": "markdown",
   "metadata": {
    "colab_type": "text",
    "id": "JiwXNn3SNZfu"
   },
   "source": [
    "### What is PyTorch?\n",
    "\n",
    "PyTorch is a scientific computing package that builds on the NumPy library to allow for the use of GPUs. It incorporates deep learning capabilities while maximizing flexibility and speed.\n",
    "\n",
    "### PyTorch Basics\n",
    "\n",
    "To use PyTorch you must first import the library\n",
    "\n",
    "\n",
    "\n",
    "\n",
    "\n",
    "\n",
    "\n"
   ]
  },
  {
   "cell_type": "code",
   "execution_count": 22,
   "metadata": {
    "colab": {},
    "colab_type": "code",
    "id": "TU7EUSNcVN9x"
   },
   "outputs": [],
   "source": [
    "import torch"
   ]
  },
  {
   "cell_type": "markdown",
   "metadata": {
    "colab_type": "text",
    "id": "2bTAo6LzVJwg"
   },
   "source": [
    "#### Tensors\n",
    "Tensors are n-dimensional arrays that allow that can be used with a GPU to accelerate computing. There are several ways to work with Tensors:"
   ]
  },
  {
   "cell_type": "code",
   "execution_count": 0,
   "metadata": {
    "colab": {},
    "colab_type": "code",
    "id": "1MuUNQZ3UksM"
   },
   "outputs": [],
   "source": [
    "# initialize a random tensor\n",
    "x = torch.rand(4, 3)\n",
    "print(x)"
   ]
  },
  {
   "cell_type": "code",
   "execution_count": 0,
   "metadata": {
    "colab": {},
    "colab_type": "code",
    "id": "SmcpRB48VVFe"
   },
   "outputs": [],
   "source": [
    "# initialize a tensor loaded with zeros\n",
    "x = torch.zeros(4, 3)\n",
    "print(x)"
   ]
  },
  {
   "cell_type": "code",
   "execution_count": 0,
   "metadata": {
    "colab": {},
    "colab_type": "code",
    "id": "LI84uJM-VjyL"
   },
   "outputs": [],
   "source": [
    "# initialized with data entered manually\n",
    "x = torch.tensor([2.1, 4.0, -5.2])\n",
    "print(x)"
   ]
  },
  {
   "cell_type": "code",
   "execution_count": 0,
   "metadata": {
    "colab": {},
    "colab_type": "code",
    "id": "421on8nnWE3e"
   },
   "outputs": [],
   "source": [
    "# initialized with data from numPy\n",
    "import numpy as np\n",
    "data = np.array([2.1, 4.0, -5.2])\n",
    "print(data)\n",
    "x = torch.tensor(data)\n",
    "print(x)\n",
    "\n",
    "# note you can easily convert fron tensor to numpy\n",
    "x_np = x.numpy()\n",
    "print(x_np)"
   ]
  },
  {
   "cell_type": "markdown",
   "metadata": {
    "colab_type": "text",
    "id": "R_I8gINJWy1g"
   },
   "source": [
    "### Tensor size and shape"
   ]
  },
  {
   "cell_type": "code",
   "execution_count": 0,
   "metadata": {
    "colab": {},
    "colab_type": "code",
    "id": "CUCzrV1nW5XA"
   },
   "outputs": [],
   "source": [
    "# obtain size of tensor data structure\n",
    "x = torch.zeros(4, 3)\n",
    "print(x.size())"
   ]
  },
  {
   "cell_type": "markdown",
   "metadata": {
    "colab_type": "text",
    "id": "cdPIVeeEXFO5"
   },
   "source": [
    "### Operations\n"
   ]
  },
  {
   "cell_type": "code",
   "execution_count": 0,
   "metadata": {
    "colab": {},
    "colab_type": "code",
    "id": "M5AltppKXUZv"
   },
   "outputs": [],
   "source": [
    "# tensor addition\n",
    "x = torch.rand(4, 3)\n",
    "y = torch.ones(4, 3)\n",
    "print(x + y)"
   ]
  },
  {
   "cell_type": "code",
   "execution_count": 0,
   "metadata": {
    "colab": {},
    "colab_type": "code",
    "id": "9UsB6YlwX_p2"
   },
   "outputs": [],
   "source": [
    "# tensor multiplication\n",
    "x = torch.rand(4, 3)\n",
    "y = torch.ones(4, 3)\n",
    "print(x * y)"
   ]
  },
  {
   "cell_type": "code",
   "execution_count": 0,
   "metadata": {
    "colab": {},
    "colab_type": "code",
    "id": "V8W5LZlbXnMu"
   },
   "outputs": [],
   "source": [
    "# Provide output tensor as argument\n",
    "result = torch.ones(4,3)\n",
    "torch.add(x, y, out = result)\n",
    "print(result)"
   ]
  },
  {
   "cell_type": "code",
   "execution_count": 25,
   "metadata": {
    "colab": {},
    "colab_type": "code",
    "id": "FxDlMlhnYWAN"
   },
   "outputs": [
    {
     "name": "stdout",
     "output_type": "stream",
     "text": [
      "torch.Size([4, 3]) torch.Size([12]) torch.Size([3, 4])\n"
     ]
    }
   ],
   "source": [
    "# resize and reshape tensors\n",
    "x = torch.randn(4, 3)\n",
    "y = x.view(12) # Gives you a tensor (an array) with 12 elements\n",
    "z = x.view(-1, 4)  # the size -1 is inferred from other dimensions\n",
    "# Above will give you a tensor with 3, 4 dimensions. \n",
    "# The -1 will refer to the second dimension of the original matrix\n",
    "# The 3 comes from the last element of the x = torch.randn(4,3) <-\n",
    "print(x.size(), y.size(), z.size())"
   ]
  },
  {
   "cell_type": "code",
   "execution_count": 24,
   "metadata": {
    "colab": {},
    "colab_type": "code",
    "id": "IBcAFWNSZnPE"
   },
   "outputs": [
    {
     "name": "stdout",
     "output_type": "stream",
     "text": [
      "tensor([0.0210])\n",
      "0.020986324176192284\n"
     ]
    }
   ],
   "source": [
    "# convert one element tensor to a Python number\n",
    "x = torch.randn(1)\n",
    "print(x)\n",
    "print(x.item())"
   ]
  },
  {
   "cell_type": "markdown",
   "metadata": {
    "colab_type": "text",
    "id": "OhBQXibrZy0Z"
   },
   "source": [
    "### Automatic Differentiation\n",
    "\n",
    "The PyTorch autograd package allows for easy computation of derivative. This is handled automatically using a define-by-run framework, which works as you write your code. \n",
    "\n",
    "To enable this feature you need to set the Tensor attribute .required_grat to True, at which point it begins to track all operations performed on it. After your computation have been completed you can call .backward() and all the gradients will be computed for you. The gradient for each tensor will be stored in the tensor attribute .grad.\n",
    "\n",
    "Each tensor also has a .grad_fn attribute which references Function that has created it.\n",
    "\n"
   ]
  },
  {
   "cell_type": "code",
   "execution_count": 26,
   "metadata": {
    "colab": {},
    "colab_type": "code",
    "id": "bKqBTFK2cRZW"
   },
   "outputs": [
    {
     "name": "stdout",
     "output_type": "stream",
     "text": [
      "tensor([[0.0110, 0.4733, 0.6852],\n",
      "        [0.6261, 0.7434, 0.6684],\n",
      "        [0.7568, 0.7263, 0.3144],\n",
      "        [0.5488, 0.6925, 0.1500]], requires_grad=True)\n",
      "tensor([[100.2210, 109.6907, 114.1739],\n",
      "        [112.9138, 115.4199, 113.8150],\n",
      "        [115.7091, 115.0526, 106.3865],\n",
      "        [111.2761, 114.3299, 103.0234]], grad_fn=<MulBackward0>) tensor(111.0010, grad_fn=<MeanBackward0>)\n"
     ]
    }
   ],
   "source": [
    "# Example computation of gradients\n",
    "x = torch.rand(4, 3, requires_grad=True)\n",
    "print(x)\n",
    "\n",
    "#perform some operations\n",
    "y = x + 10\n",
    "z = y*y\n",
    "out = z.mean()\n",
    "\n",
    "print(z, out)"
   ]
  },
  {
   "cell_type": "code",
   "execution_count": 27,
   "metadata": {
    "colab": {},
    "colab_type": "code",
    "id": "6JDr3PgVdGMp"
   },
   "outputs": [
    {
     "name": "stdout",
     "output_type": "stream",
     "text": [
      "tensor([[1.6685, 1.7456, 1.7809],\n",
      "        [1.7710, 1.7906, 1.7781],\n",
      "        [1.7928, 1.7877, 1.7191],\n",
      "        [1.7581, 1.7821, 1.6917]])\n"
     ]
    }
   ],
   "source": [
    "# compute the gradient with respect to the output\n",
    "out.backward() # The .backward will compute all the gradients.\n",
    "print(x.grad) # The .grab will grab all the gradient values of matrix x"
   ]
  },
  {
   "cell_type": "markdown",
   "metadata": {
    "colab_type": "text",
    "id": "8ntVfJhxUjtN"
   },
   "source": [
    "## Artificial Neural Networks in PyTorch\n",
    "In this example we will train an \"artificial pigeon\" to perform a digit recognition\n",
    "task. That is, we will use the MNIST dataset of hand-written digits, and train\n",
    "the pigeon to **recognize a small digit, namely a digit that is less than 3**.\n",
    "This problem is a **binary classification problem** we want to predict\n",
    "which of two classes an input image is a part of.\n",
    "\n",
    "### 1) Load MNIST Data\n",
    "The MNIST dataset contains hand-written digits that are 28x28 pixels large.\n",
    "Here are a few digits in the dataset:\n"
   ]
  },
  {
   "cell_type": "code",
   "execution_count": 28,
   "metadata": {
    "colab": {},
    "colab_type": "code",
    "id": "FOu8rvDVMpSq"
   },
   "outputs": [
    {
     "name": "stdout",
     "output_type": "stream",
     "text": [
      "Downloading http://yann.lecun.com/exdb/mnist/train-images-idx3-ubyte.gz to data/MNIST/raw/train-images-idx3-ubyte.gz\n"
     ]
    },
    {
     "data": {
      "application/vnd.jupyter.widget-view+json": {
       "model_id": "769668ef466943faaf649e226f63375c",
       "version_major": 2,
       "version_minor": 0
      },
      "text/plain": [
       "HBox(children=(FloatProgress(value=1.0, bar_style='info', max=1.0), HTML(value='')))"
      ]
     },
     "metadata": {},
     "output_type": "display_data"
    },
    {
     "name": "stdout",
     "output_type": "stream",
     "text": [
      "Extracting data/MNIST/raw/train-images-idx3-ubyte.gz to data/MNIST/raw\n",
      "Downloading http://yann.lecun.com/exdb/mnist/train-labels-idx1-ubyte.gz to data/MNIST/raw/train-labels-idx1-ubyte.gz\n"
     ]
    },
    {
     "data": {
      "application/vnd.jupyter.widget-view+json": {
       "model_id": "a035a78bdded49f397595b7e547b553e",
       "version_major": 2,
       "version_minor": 0
      },
      "text/plain": [
       "HBox(children=(FloatProgress(value=1.0, bar_style='info', max=1.0), HTML(value='')))"
      ]
     },
     "metadata": {},
     "output_type": "display_data"
    },
    {
     "name": "stdout",
     "output_type": "stream",
     "text": [
      "Extracting data/MNIST/raw/train-labels-idx1-ubyte.gz to data/MNIST/raw\n",
      "Downloading http://yann.lecun.com/exdb/mnist/t10k-images-idx3-ubyte.gz to data/MNIST/raw/t10k-images-idx3-ubyte.gz\n"
     ]
    },
    {
     "data": {
      "application/vnd.jupyter.widget-view+json": {
       "model_id": "4c91b7d00f4f477695fb222045374ded",
       "version_major": 2,
       "version_minor": 0
      },
      "text/plain": [
       "HBox(children=(FloatProgress(value=1.0, bar_style='info', max=1.0), HTML(value='')))"
      ]
     },
     "metadata": {},
     "output_type": "display_data"
    },
    {
     "name": "stdout",
     "output_type": "stream",
     "text": [
      "Extracting data/MNIST/raw/t10k-images-idx3-ubyte.gz to data/MNIST/raw\n",
      "Downloading http://yann.lecun.com/exdb/mnist/t10k-labels-idx1-ubyte.gz to data/MNIST/raw/t10k-labels-idx1-ubyte.gz\n"
     ]
    },
    {
     "data": {
      "application/vnd.jupyter.widget-view+json": {
       "model_id": "d8cb26350c9f4aef8d0da821338f505f",
       "version_major": 2,
       "version_minor": 0
      },
      "text/plain": [
       "HBox(children=(FloatProgress(value=1.0, bar_style='info', max=1.0), HTML(value='')))"
      ]
     },
     "metadata": {},
     "output_type": "display_data"
    },
    {
     "name": "stdout",
     "output_type": "stream",
     "text": [
      "Extracting data/MNIST/raw/t10k-labels-idx1-ubyte.gz to data/MNIST/raw\n",
      "Processing...\n",
      "Done!\n",
      "\n",
      "\n",
      "\n",
      "\n"
     ]
    },
    {
     "name": "stderr",
     "output_type": "stream",
     "text": [
      "../torch/csrc/utils/tensor_numpy.cpp:141: UserWarning: The given NumPy array is not writeable, and PyTorch does not support non-writeable tensors. This means you can write to the underlying (supposedly non-writeable) NumPy array using the tensor. You may want to copy the array to protect its data or make it writeable before converting it to a tensor. This type of warning will be suppressed for the rest of this program.\n"
     ]
    }
   ],
   "source": [
    "from torchvision import datasets, transforms\n",
    "\n",
    "# load the data\n",
    "mnist_train = datasets.MNIST('data', train=True, download=True)\n",
    "mnist_train = list(mnist_train)[:2000]"
   ]
  },
  {
   "cell_type": "code",
   "execution_count": 29,
   "metadata": {
    "colab": {},
    "colab_type": "code",
    "id": "U3xCgqcwMvCl"
   },
   "outputs": [
    {
     "data": {
      "image/png": "[encoded data removed]",
      "text/plain": [
       "<Figure size 432x288 with 18 Axes>"
      ]
     },
     "metadata": {
      "needs_background": "light"
     },
     "output_type": "display_data"
    }
   ],
   "source": [
    "# plot the first 18 images in the training data\n",
    "for k, (image, label) in enumerate(mnist_train[:18]):\n",
    "    plt.subplot(3, 6, k+1)\n",
    "    plt.imshow(image)\n"
   ]
  },
  {
   "cell_type": "markdown",
   "metadata": {
    "colab_type": "text",
    "id": "F-DcwbkZ3Nlx"
   },
   "source": [
    "### 2) Defining the ANN Forward Pass\n",
    "Here is an implementation of the artificial pigeon brain in PyTorch.\n",
    "Don't worry if this code or the explanations don't make sense yet."
   ]
  },
  {
   "cell_type": "code",
   "execution_count": 33,
   "metadata": {
    "colab": {},
    "colab_type": "code",
    "id": "1-ueh5jh3I5p"
   },
   "outputs": [
    {
     "name": "stdout",
     "output_type": "stream",
     "text": [
      "Pigeon(\n",
      "  (layer1): Linear(in_features=784, out_features=30, bias=True)\n",
      "  (layer2): Linear(in_features=30, out_features=1, bias=True)\n",
      ")\n"
     ]
    }
   ],
   "source": [
    "import torch\n",
    "import torch.nn as nn\n",
    "import torch.nn.functional as F\n",
    "from torchvision import datasets, transforms\n",
    "import matplotlib.pyplot as plt # for plotting\n",
    "\n",
    "import torch.optim as optim\n",
    "\n",
    "torch.manual_seed(1) # set the random seed\n",
    "\n",
    "class Pigeon(nn.Module):\n",
    "    def __init__(self):\n",
    "        super(Pigeon, self).__init__() ## This is setting up the Pytorch module that this class is built off of\n",
    "        self.layer1 = nn.Linear(28 * 28, 30) # First layer takes the 28x28 pixel, 784 inputs, and returns 30 outputs to the next layer.\n",
    "        self.layer2 = nn.Linear(30, 1) # Second layer takes 30 inputs and returns a single output.\n",
    "    def forward(self, img): # Forward propogation pipeline\n",
    "        flattened = img.view(-1, 28 * 28) # This will create a vector of pixels. \n",
    "        activation1 = self.layer1(flattened) # Fully connected layer\n",
    "        activation1 = F.relu(activation1) # \n",
    "        activation2 = self.layer2(activation1) # Fully connected layer\n",
    "        return activation2\n",
    "\n",
    "pigeon = Pigeon()\n",
    "\n",
    "print(pigeon)"
   ]
  },
  {
   "cell_type": "markdown",
   "metadata": {
    "colab_type": "text",
    "id": "hi9lSSOtKhEE"
   },
   "source": [
    "In this network, there are 28x28 = 784 input neurons, to work with our 28x28 pixel images. We have a single output neuron and a hidden layer of 30 neurons.\n",
    "\n",
    "The variable `pigeon.layer1` contains information about the connectivity\n",
    "between the input layer and the hidden layer (stored as a matrix), and the\n",
    "biases (stored as a vector).\n",
    "\n",
    "Similarly, the variable `pigeon.layer2` contains information about the weights\n",
    "between the hidden layer and the output layer, and the bias.\n",
    "\n",
    "The weights and biases adjust during training, so they are called the model's\n",
    "**parameters**."
   ]
  },
  {
   "cell_type": "code",
   "execution_count": 31,
   "metadata": {
    "colab": {},
    "colab_type": "code",
    "id": "82KQZkDlLx7j"
   },
   "outputs": [
    {
     "name": "stdout",
     "output_type": "stream",
     "text": [
      "Parameter containing:\n",
      "tensor([[ 0.0184, -0.0158, -0.0069,  ...,  0.0068, -0.0041,  0.0025],\n",
      "        [-0.0274, -0.0224, -0.0309,  ..., -0.0029,  0.0013, -0.0167],\n",
      "        [ 0.0282, -0.0095, -0.0340,  ..., -0.0141,  0.0056, -0.0335],\n",
      "        ...,\n",
      "        [ 0.0267,  0.0186, -0.0326,  ...,  0.0047, -0.0072, -0.0301],\n",
      "        [-0.0190,  0.0291,  0.0221,  ...,  0.0067,  0.0206,  0.0151],\n",
      "        [ 0.0226,  0.0331,  0.0182,  ...,  0.0150,  0.0278, -0.0073]],\n",
      "       requires_grad=True)\n",
      "Parameter containing:\n",
      "tensor([-0.0210,  0.0144,  0.0214, -0.0018, -0.0185,  0.0275, -0.0284, -0.0248,\n",
      "        -0.0180, -0.0168, -0.0226, -0.0093,  0.0211, -0.0311,  0.0002, -0.0010,\n",
      "         0.0201,  0.0176, -0.0050,  0.0118, -0.0089,  0.0078, -0.0072,  0.0118,\n",
      "         0.0122, -0.0125,  0.0326,  0.0306,  0.0058, -0.0089],\n",
      "       requires_grad=True)\n"
     ]
    }
   ],
   "source": [
    "# view parameters\n",
    "for w in pigeon.layer1.parameters():\n",
    "    print(w)\n",
    "    \n",
    "# The weights are 30x784 large - Because we have a fully connected layer, and so we have 784 inputs and 30 outputs. ** I think ** "
   ]
  },
  {
   "cell_type": "markdown",
   "metadata": {
    "colab_type": "text",
    "id": "86ubAvO03eMp"
   },
   "source": [
    "### 3) Test Network Forward Pass\n",
    "Here is an example of using the network to classify whether the\n",
    "image contains a small digit."
   ]
  },
  {
   "cell_type": "code",
   "execution_count": 34,
   "metadata": {
    "colab": {},
    "colab_type": "code",
    "id": "OtiBP83X247A"
   },
   "outputs": [
    {
     "name": "stdout",
     "output_type": "stream",
     "text": [
      "tensor([[0.5009]], grad_fn=<SigmoidBackward>)\n",
      "tensor([[0.5219]], grad_fn=<SigmoidBackward>)\n",
      "tensor([[0.4872]], grad_fn=<SigmoidBackward>)\n",
      "tensor([[0.5012]], grad_fn=<SigmoidBackward>)\n",
      "tensor([[0.4940]], grad_fn=<SigmoidBackward>)\n",
      "tensor([[0.4966]], grad_fn=<SigmoidBackward>)\n",
      "tensor([[0.5027]], grad_fn=<SigmoidBackward>)\n",
      "tensor([[0.4993]], grad_fn=<SigmoidBackward>)\n",
      "tensor([[0.4996]], grad_fn=<SigmoidBackward>)\n",
      "tensor([[0.4942]], grad_fn=<SigmoidBackward>)\n"
     ]
    }
   ],
   "source": [
    "# make predictions for the first 10 images in mnist_train\n",
    "img_to_tensor = transforms.ToTensor() #transform the image data into a 28x28 matrix of numbers\n",
    "\n",
    "for k, (image, label) in enumerate(mnist_train[:10]):\n",
    "    inval = img_to_tensor(image)\n",
    "    outval = pigeon(inval)       # find the output activation given input\n",
    "    prob = torch.sigmoid(outval) # turn the activation into a probability\n",
    "    print(prob)"
   ]
  },
  {
   "cell_type": "markdown",
   "metadata": {
    "colab_type": "text",
    "id": "SHkHYl0aO7ot"
   },
   "source": [
    "Since we haven't trained the network\n",
    "yet, the predicted probability of images containing a small digit \n",
    "is close to half. The \"pigeon\" is unsure.\n",
    "\n",
    "In order for the network to be useful, we need to actually train it, so\n",
    "that the weights are actually meaningful, non-random values."
   ]
  },
  {
   "cell_type": "markdown",
   "metadata": {
    "colab_type": "text",
    "id": "RiUzssKS3ifv"
   },
   "source": [
    "### 4) Update Parameters using Gradient Descent with Cross-Entropy\n",
    "To update the parameters (weights) we will first use the network to make predictions, then compare the predictions\n",
    "agains the ground truth. To compare the predictions against actual values we'll compute a classification error using the Cross-Entropy equation.\n",
    "\n",
    "The classification error, that is how good or bad the prediction was compared to the actual values is more commonly referred to as the **loss** and Cross-Entropy is the **loss function**. The introduction of a loss function makes our problem a **optimization** problem: what set of parameters minimizes the loss across the training examples?\n",
    "\n",
    "Turning a learning problem into an optimization problem\n",
    "is actually a very subtle but important step in many machine learning tools,\n",
    "because it allows us to use tools from mathematical optimization.\n",
    "\n",
    "That there are **optimizers** that can tune the network parameters for\n",
    "us is also really, really cool. The gradient descent algorithm we derived in the last lecture is one example of an optimizer.\n",
    "\n",
    "For now, we will choose a standard loss function for a binary classification\n",
    "problem: the **binary cross-entropy loss**. We'll also choose\n",
    "a **stochastic gradient descent** optimizer. We'll talk about\n",
    "what these mean later in the course."
   ]
  },
  {
   "cell_type": "code",
   "execution_count": 36,
   "metadata": {
    "colab": {},
    "colab_type": "code",
    "id": "qZhbr5Bw270k"
   },
   "outputs": [],
   "source": [
    "# simplified training code to train `pigeon` on the \"small digit recognition\" task\n",
    "import torch.optim as optim\n",
    "criterion = nn.BCEWithLogitsLoss() # BCE: Binary cross-entropy loss equation\n",
    "optimizer = optim.SGD(pigeon.parameters(), lr=0.005, momentum=0.9) # Gradient descent\n",
    "\n",
    "# Optimizer is a way to tune the weights\n",
    "# Criterion: Tells you what criteria to optimize your weights with"
   ]
  },
  {
   "cell_type": "markdown",
   "metadata": {
    "colab_type": "text",
    "id": "BtHoiE6AYadE"
   },
   "source": [
    "Now, we can start to train the pigeon network, similar to the way we would train\n",
    "a real pigeon:\n",
    "\n",
    "1. We'll show the network pictures of digits, one by one\n",
    "2. We'll see what the network predicts\n",
    "3. We'll check the loss function for that example digit, comparing the network prediction against the ground truth\n",
    "4. We'll make a small update to the parameters to try and improve the loss for that digit\n",
    "5. We'll continue doing this many times -- let's say 1000 times\n",
    "\n",
    "For simplicity, we'll use 1000 images, and show the network each image only once."
   ]
  },
  {
   "cell_type": "code",
   "execution_count": 37,
   "metadata": {
    "colab": {},
    "colab_type": "code",
    "id": "LHmT89U0RM3C"
   },
   "outputs": [],
   "source": [
    "for (image, label) in mnist_train[:1000]:\n",
    "    # actual ground truth: is the digit less than 3?\n",
    "    actual = torch.tensor(label < 3).reshape([1,1]).type(torch.FloatTensor)\n",
    "    # pigeon prediction\n",
    "    out = pigeon(img_to_tensor(image)) # step 1-2\n",
    "    # update the parameters based on the loss\n",
    "    loss = criterion(out, actual)      # step 3\n",
    "    loss.backward()                    # step 4 (compute the updates for each parameter)\n",
    "    optimizer.step()                   # step 4 (make the updates for each parameter) / make the updates for the weights\n",
    "    optimizer.zero_grad()              # a clean up step for PyTorch"
   ]
  },
  {
   "cell_type": "markdown",
   "metadata": {
    "colab_type": "text",
    "id": "JfzAfZiuRQWx"
   },
   "source": [
    "It is very common to run into errors with changing different data types to tensors with the correct shape."
   ]
  },
  {
   "cell_type": "markdown",
   "metadata": {
    "colab_type": "text",
    "id": "p9Gieq973sDh"
   },
   "source": [
    "### 5) Test Updated Network Forward Pass"
   ]
  },
  {
   "cell_type": "code",
   "execution_count": 38,
   "metadata": {
    "colab": {
     "base_uri": "https://localhost:8080/",
     "height": 187
    },
    "colab_type": "code",
    "id": "N-RgzimS3FEW",
    "outputId": "755932da-a249-445e-de2c-94b6dda6b5b3"
   },
   "outputs": [
    {
     "name": "stdout",
     "output_type": "stream",
     "text": [
      "5 tensor([[0.0075]], grad_fn=<SigmoidBackward>)\n",
      "0 tensor([[0.9746]], grad_fn=<SigmoidBackward>)\n",
      "4 tensor([[0.0339]], grad_fn=<SigmoidBackward>)\n",
      "1 tensor([[0.9749]], grad_fn=<SigmoidBackward>)\n",
      "9 tensor([[0.0022]], grad_fn=<SigmoidBackward>)\n",
      "2 tensor([[0.4031]], grad_fn=<SigmoidBackward>)\n",
      "1 tensor([[0.9636]], grad_fn=<SigmoidBackward>)\n",
      "3 tensor([[0.0011]], grad_fn=<SigmoidBackward>)\n",
      "1 tensor([[0.9194]], grad_fn=<SigmoidBackward>)\n",
      "4 tensor([[0.0008]], grad_fn=<SigmoidBackward>)\n"
     ]
    }
   ],
   "source": [
    "# make predictions for the first 10 images in mnist_train\n",
    "for k, (image, label) in enumerate(mnist_train[:10]):\n",
    "    print(label, torch.sigmoid(pigeon(img_to_tensor(image))))"
   ]
  },
  {
   "cell_type": "markdown",
   "metadata": {
    "colab_type": "text",
    "id": "Otc8_sYjOk1I"
   },
   "source": [
    "Not bad! We'll use the probability 50% as the cutoff for making a \n",
    "discrete prediction. Then, we can compute the accuracy on the 1000\n",
    "images we used to train the network."
   ]
  },
  {
   "cell_type": "markdown",
   "metadata": {
    "colab_type": "text",
    "id": "-pluL_aN30CC"
   },
   "source": [
    "### 6)a) Validation of Network on Training Data"
   ]
  },
  {
   "cell_type": "code",
   "execution_count": 39,
   "metadata": {
    "colab": {
     "base_uri": "https://localhost:8080/",
     "height": 51
    },
    "colab_type": "code",
    "id": "r-Qq5Bgh4Hx9",
    "outputId": "5496037d-c29d-4c6f-c1f7-b7689d3d2ecb"
   },
   "outputs": [
    {
     "name": "stdout",
     "output_type": "stream",
     "text": [
      "Training Error Rate: 0.036\n",
      "Training Accuracy: 0.964\n"
     ]
    }
   ],
   "source": [
    "# computing the error and accuracy on the training set\n",
    "error = 0\n",
    "for (image, label) in mnist_train[:1000]:\n",
    "    prob = torch.sigmoid(pigeon(img_to_tensor(image)))\n",
    "    if (prob < 0.5 and label < 3) or (prob >= 0.5 and label >= 3):\n",
    "        error += 1\n",
    "print(\"Training Error Rate:\", error/1000)\n",
    "print(\"Training Accuracy:\", 1 - error/1000)"
   ]
  },
  {
   "cell_type": "markdown",
   "metadata": {
    "colab_type": "text",
    "id": "ZNozPD5XOk1L"
   },
   "source": [
    "The accuracy on those 1000 images is 96%, which is really good considering\n",
    "that we only showed the network each image only once.\n",
    "\n",
    "However, this accuracy is not representative of how well the network is doing,\n",
    "because the network was *trained* on the data. The network had a chance to\n",
    "see the actual answer, and learn from that answer. To get a better sense of\n",
    "the network's predictive accuracy, we should compute accuracy numbers on\n",
    "a **test set**: a set of images that were not seen in training."
   ]
  },
  {
   "cell_type": "markdown",
   "metadata": {
    "colab_type": "text",
    "id": "VplQogR24Aue"
   },
   "source": [
    "### 6)b) Validation of Network on Testing Data"
   ]
  },
  {
   "cell_type": "code",
   "execution_count": 40,
   "metadata": {
    "colab": {
     "base_uri": "https://localhost:8080/",
     "height": 51
    },
    "colab_type": "code",
    "id": "blrK9sxS4IX5",
    "outputId": "d6632712-ed0f-4145-8623-e936a6d5f6ee"
   },
   "outputs": [
    {
     "name": "stdout",
     "output_type": "stream",
     "text": [
      "Test Error Rate: 0.079\n",
      "Test Accuracy: 0.921\n"
     ]
    }
   ],
   "source": [
    "# computing the error and accuracy on a test set\n",
    "error = 0\n",
    "for (image, label) in mnist_train[1000:2000]:\n",
    "    prob = torch.sigmoid(pigeon(img_to_tensor(image)))\n",
    "    if (prob < 0.5 and label < 3) or (prob >= 0.5 and label >= 3):\n",
    "        error += 1\n",
    "print(\"Test Error Rate:\", error/1000)\n",
    "print(\"Test Accuracy:\", 1 - error/1000)"
   ]
  },
  {
   "cell_type": "code",
   "execution_count": null,
   "metadata": {},
   "outputs": [],
   "source": []
  }
 ],
 "metadata": {
  "colab": {
   "collapsed_sections": [],
   "name": "Tutorial 1 - Artificial Pigeon Brain.ipynb",
   "provenance": []
  },
  "kernelspec": {
   "display_name": "Python 3",
   "language": "python",
   "name": "python3"
  },
  "language_info": {
   "codemirror_mode": {
    "name": "ipython",
    "version": 3
   },
   "file_extension": ".py",
   "mimetype": "text/x-python",
   "name": "python",
   "nbconvert_exporter": "python",
   "pygments_lexer": "ipython3",
   "version": "3.6.10"
  }
 },
 "nbformat": 4,
 "nbformat_minor": 1
}
