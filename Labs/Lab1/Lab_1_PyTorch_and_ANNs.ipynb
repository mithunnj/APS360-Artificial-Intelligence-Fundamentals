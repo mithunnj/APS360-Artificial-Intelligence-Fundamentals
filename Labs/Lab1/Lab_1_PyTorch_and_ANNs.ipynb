{
 "cells": [
  {
   "cell_type": "markdown",
   "metadata": {
    "colab_type": "text",
    "id": "3sxa8YxCbzGL"
   },
   "source": [
    "# Lab 1. PyTorch and ANNs\n",
    "\n",
    "**Deadline**: Thursday, May 21, 11:59pm.\n",
    "\n",
    "**Total**: 30 Points\n",
    "\n",
    "**Late Penalty**: There is a penalty-free grace period of one hour past the deadline. Any work that is submitted between 1 hour and 24 hours past the deadline will receive a 20% grade deduction. No other late work is accepted. Quercus submission time will be used, not your local computer time. You can submit your labs as many times as you want before the deadline, so please submit often and early.\n",
    "\n",
    "**Grading TA**: Justin Beland\n",
    "\n",
    "This lab is partially based on an assignment developed by Prof. Jonathan Rose and Harris Chan.\n",
    "\n",
    "This lab is a warm up to get you used to the PyTorch programming environment used\n",
    "in the course, and also to help you review and renew your knowledge\n",
    "of Python and relevant Python libraries.\n",
    "The lab must be done individually. Please recall that the\n",
    "University of Toronto plagarism rules apply.\n",
    "\n",
    "By the end of this lab, you should be able to:\n",
    "\n",
    "1. Be able to perform basic PyTorch tensor operations.\n",
    "2. Be able to load data into PyTorch\n",
    "3. Be able to configure an Artificial Neural Network (ANN) using PyTorch\n",
    "4. Be able to train ANNs using PyTorch\n",
    "5. Be able to evaluate different ANN configuations\n",
    "\n",
    "You will need to use numpy and PyTorch documentations for this assignment:\n",
    "\n",
    "* https://docs.scipy.org/doc/numpy/reference/\n",
    "* https://pytorch.org/docs/stable/torch.html\n",
    "\n",
    "You can also reference Python API documentations freely.\n",
    "\n",
    "\n",
    "### What to submit\n",
    "\n",
    "Submit a PDF file containing all your code, outputs, and write-up\n",
    "from parts 1-5. You can produce a PDF of your Google Colab file by\n",
    "going to **File > Print** and then save as PDF. The Colab instructions\n",
    "has more information.\n",
    "\n",
    "**Do not submit any other files produced by your code.**\n",
    "\n",
    "Include a link to your colab file in your submission.\n",
    "\n",
    "Please use Google Colab to complete this assignment. If you want to use Jupyter Notebook, please complete the assignment and upload your Jupyter Notebook file to Google Colab for submission. \n",
    "\n",
    "With Colab, you can export a PDF file using the menu option\n",
    "`File -> Print` and save as PDF file."
   ]
  },
  {
   "cell_type": "markdown",
   "metadata": {
    "colab_type": "text",
    "id": "_TlLBrWBIGt0"
   },
   "source": [
    "## Colab Link\n",
    "\n",
    "Submit make sure to include a link to your colab file here\n",
    "\n",
    "Colab Link: https://colab.research.google.com/drive/1Ltf36vAWr3VyFCQcjXKYBYXGaVg9bBVg?usp=sharing"
   ]
  },
  {
   "cell_type": "markdown",
   "metadata": {
    "colab_type": "text",
    "id": "mALD3Y2bbzGT"
   },
   "source": [
    "## Part 1. Python Basics [3 pt]\n",
    "\n",
    "The purpose of this section is to get you used to the \n",
    "basics of Python, including working with functions, numbers,\n",
    "lists, and strings.\n",
    "\n",
    "Note that we **will** be checking your code for clarity and efficiency.\n",
    "\n",
    "If you have trouble with this part of the assignment, please review http://cs231n.github.io/python-numpy-tutorial/"
   ]
  },
  {
   "cell_type": "markdown",
   "metadata": {
    "colab_type": "text",
    "id": "7gimRTE9bzGa"
   },
   "source": [
    "### Part (a) -- 1pt\n",
    "\n",
    "Write a function `sum_of_cubes` that computes the sum of cubes up to `n`. If the input to `sum_of_cubes` invalid (e.g. negative or non-integer `n`), the function should print out `\"Invalid input\"` and return `-1`."
   ]
  },
  {
   "cell_type": "code",
   "execution_count": 11,
   "metadata": {
    "colab": {},
    "colab_type": "code",
    "id": "fifG_Wv6bzGf"
   },
   "outputs": [
    {
     "name": "stdout",
     "output_type": "stream",
     "text": [
      "Invalid input\n",
      "Invalid input\n"
     ]
    }
   ],
   "source": [
    "def sum_of_cubes(n):\n",
    "    \"\"\"Return the sum (1^3 + 2^3 + 3^3 + ... + n^3)\n",
    "    \n",
    "    Precondition: n > 0, type(n) == int\n",
    "    \n",
    "    >>> sum_of_cubes(3)\n",
    "    36\n",
    "    >>> sum_of_cubes(1)\n",
    "    1\n",
    "    \"\"\"\n",
    "\n",
    "    # Validate user input\n",
    "    if not isinstance(n, int) or not (n > 0):\n",
    "        print(\"Invalid input\")\n",
    "        return -1\n",
    "\n",
    "    # Compute sum  \n",
    "    sum = 0\n",
    "    for i in range(1,n+1):\n",
    "        sum += i**3\n",
    "\n",
    "    return sum\n",
    "\n",
    "# Test cases\n",
    "assert(sum_of_cubes(3) == 36)\n",
    "assert(sum_of_cubes(1) == 1)\n",
    "assert(sum_of_cubes(\"Mit\") == -1)\n",
    "assert(sum_of_cubes(-9) == -1)"
   ]
  },
  {
   "cell_type": "markdown",
   "metadata": {
    "colab_type": "text",
    "id": "bOxDP8AlbzG2"
   },
   "source": [
    "### Part (b) -- 1pt\n",
    "\n",
    "Write a function `word_lengths` that takes a sentence (string), computes the length of each word in that sentence, and returns the length of each word in a list. You can\n",
    "assume that words are always separated by a space character `\" \"`.\n",
    "\n",
    "Hint: recall the `str.split` function in Python.\n",
    "If you arenot sure how this function works, try\n",
    "typing `help(str.split)` into a Python shell, or check out https://docs.python.org/3.6/library/stdtypes.html#str.split"
   ]
  },
  {
   "cell_type": "code",
   "execution_count": 12,
   "metadata": {
    "colab": {},
    "colab_type": "code",
    "id": "H84jlGrVbzG5"
   },
   "outputs": [
    {
     "name": "stdout",
     "output_type": "stream",
     "text": [
      "Help on method_descriptor:\n",
      "\n",
      "split(self, /, sep=None, maxsplit=-1)\n",
      "    Return a list of the words in the string, using sep as the delimiter string.\n",
      "    \n",
      "    sep\n",
      "      The delimiter according which to split the string.\n",
      "      None (the default value) means split according to any whitespace,\n",
      "      and discard empty strings from the result.\n",
      "    maxsplit\n",
      "      Maximum number of splits to do.\n",
      "      -1 (the default value) means no limit.\n",
      "\n"
     ]
    }
   ],
   "source": [
    "help(str.split)"
   ]
  },
  {
   "cell_type": "code",
   "execution_count": 13,
   "metadata": {
    "colab": {},
    "colab_type": "code",
    "id": "w1lbnwgsbzHG"
   },
   "outputs": [],
   "source": [
    "def word_lengths(sentence):\n",
    "    \"\"\"Return a list containing the length of each word in\n",
    "    sentence.\n",
    "    \n",
    "    >>> word_lengths(\"welcome to APS360!\")\n",
    "    [7, 2, 7]\n",
    "    >>> word_lengths(\"machine learning is so cool\")\n",
    "    [7, 8, 2, 2, 4]\n",
    "    \"\"\"\n",
    "\n",
    "    # Split the input string into an array\n",
    "    word_list = sentence.split(\" \")\n",
    "\n",
    "    # Iterate over the list of words, and replace each index with the length of the corresponding word\n",
    "    for i in range(len(word_list)):\n",
    "        word_list[i] = len(word_list[i])\n",
    "\n",
    "    return word_list      \n",
    "\n",
    "# Test cases\n",
    "assert(word_lengths(\"welcome to APS360!\") == [7, 2, 7])\n",
    "assert(word_lengths(\"machine learning is so cool\") == [7, 8, 2, 2, 4])"
   ]
  },
  {
   "cell_type": "markdown",
   "metadata": {
    "colab_type": "text",
    "id": "iCsnzu4NIGuD"
   },
   "source": [
    "### Part (c) -- 1pt\n",
    "\n",
    "Write a function `all_same_length` that takes a sentence (string),\n",
    "and checks whether every word in the string is the same length.\n",
    "You should call the function `word_lengths` in the body\n",
    "of this new function.\n"
   ]
  },
  {
   "cell_type": "code",
   "execution_count": 14,
   "metadata": {
    "colab": {},
    "colab_type": "code",
    "id": "Z-7qytZEIGuE"
   },
   "outputs": [],
   "source": [
    "def all_same_length(sentence):\n",
    "    \"\"\"Return True if every word in sentence has the same\n",
    "    length, and False otherwise.\n",
    "    \n",
    "    >>> all_same_length(\"all same length\")\n",
    "    False\n",
    "    >>> all_same_length(\"hello world\")\n",
    "    True\n",
    "    \"\"\"\n",
    "\n",
    "    # Get list with the letter counts of each word in the sentence\n",
    "    word_count = word_lengths(sentence)\n",
    "\n",
    "    # Create a list of all the unique elements in the word_count list\n",
    "    unique_ele = list(set(word_count))\n",
    "\n",
    "    if len(unique_ele) == 1:\n",
    "        return True\n",
    "    else:\n",
    "        return False\n",
    "\n",
    "# Test cases\n",
    "assert(all_same_length(\"all same length\") == False)\n",
    "assert(all_same_length(\"hello world\") == True)"
   ]
  },
  {
   "cell_type": "markdown",
   "metadata": {
    "colab_type": "text",
    "id": "yUh1MySTbzHT"
   },
   "source": [
    "## Part 2. NumPy Exercises [5 pt]\n",
    "\n",
    "In this part of the assignment, you'll be manipulating arrays \n",
    "usign NumPy. Normally, we use the shorter name `np` to represent\n",
    "the package `numpy`."
   ]
  },
  {
   "cell_type": "code",
   "execution_count": 15,
   "metadata": {
    "colab": {},
    "colab_type": "code",
    "id": "H2opcxqMbzHW"
   },
   "outputs": [],
   "source": [
    "import numpy as np"
   ]
  },
  {
   "cell_type": "markdown",
   "metadata": {
    "colab_type": "text",
    "id": "Ek29jdqPbzHf"
   },
   "source": [
    "### Part (a) -- 1pt\n",
    "\n",
    "The below variables `matrix` and `vector` are numpy arrays. Explain what you think `<NumpyArray>.size` and `<NumpyArray>.shape` represent."
   ]
  },
  {
   "cell_type": "code",
   "execution_count": 16,
   "metadata": {
    "colab": {},
    "colab_type": "code",
    "id": "Z6eniOV2bzHi"
   },
   "outputs": [],
   "source": [
    "matrix = np.array([[1., 2., 3., 0.5],\n",
    "                   [4., 5., 0., 0.],\n",
    "                   [-1., -2., 1., 1.]])\n",
    "vector = np.array([2., 0., 1., -2.])"
   ]
  },
  {
   "cell_type": "code",
   "execution_count": 17,
   "metadata": {
    "colab": {},
    "colab_type": "code",
    "id": "JMIy15dKIGuP"
   },
   "outputs": [
    {
     "data": {
      "text/plain": [
       "12"
      ]
     },
     "execution_count": 17,
     "metadata": {},
     "output_type": "execute_result"
    }
   ],
   "source": [
    "matrix.size # Total number of elements in np array (in this case a matrix)"
   ]
  },
  {
   "cell_type": "code",
   "execution_count": 18,
   "metadata": {
    "colab": {},
    "colab_type": "code",
    "id": "QoHaPzDNbzHo",
    "scrolled": true
   },
   "outputs": [
    {
     "data": {
      "text/plain": [
       "(3, 4)"
      ]
     },
     "execution_count": 18,
     "metadata": {},
     "output_type": "execute_result"
    }
   ],
   "source": [
    "matrix.shape # Dimensions of np array: (row, col) (in this case a matrix)"
   ]
  },
  {
   "cell_type": "code",
   "execution_count": 19,
   "metadata": {
    "colab": {},
    "colab_type": "code",
    "id": "dErt6w25bzHu"
   },
   "outputs": [
    {
     "data": {
      "text/plain": [
       "4"
      ]
     },
     "execution_count": 19,
     "metadata": {},
     "output_type": "execute_result"
    }
   ],
   "source": [
    "vector.size # Total number of elements in np array "
   ]
  },
  {
   "cell_type": "code",
   "execution_count": 20,
   "metadata": {
    "colab": {},
    "colab_type": "code",
    "id": "TXhHCchIIGua"
   },
   "outputs": [
    {
     "data": {
      "text/plain": [
       "(4,)"
      ]
     },
     "execution_count": 20,
     "metadata": {},
     "output_type": "execute_result"
    }
   ],
   "source": [
    "vector.shape # Dimensions of np array: (row,) - One dimensional arrays will come in this form"
   ]
  },
  {
   "cell_type": "markdown",
   "metadata": {
    "colab_type": "text",
    "id": "9PQ-pRIlbzH8"
   },
   "source": [
    "### Part (b) -- 1pt\n",
    "\n",
    "Perform matrix multiplication `output = matrix x vector` by using\n",
    "for loops to iterate through the columns and rows.\n",
    "Do not use any builtin NumPy functions.\n",
    "Cast your output into a NumPy array, if it isn't one already.\n",
    "\n",
    "Hint: be mindful of the dimension of output"
   ]
  },
  {
   "cell_type": "code",
   "execution_count": 21,
   "metadata": {
    "colab": {},
    "colab_type": "code",
    "id": "SXnZFii2bzH-"
   },
   "outputs": [],
   "source": [
    "output = None # NOTE: This was already in the notebook, not sure why"
   ]
  },
  {
   "cell_type": "code",
   "execution_count": 22,
   "metadata": {
    "colab": {},
    "colab_type": "code",
    "id": "BiIVqVvvbzII"
   },
   "outputs": [],
   "source": [
    "def matrix_multiplication(m, v):\n",
    "    '''\n",
    "    param: m <np.array>: Matrix (nxm)\n",
    "    param: v <np.array>: Vector (mx1)\n",
    "    return: <np.array> : Matrix (nx1)\n",
    "    NOTE: Assuming that the vector will be a nx1 vector for this excercise.\n",
    "    Matrix multiplication requires doing the dot product. \n",
    "    '''\n",
    "\n",
    "    result = list()\n",
    "\n",
    "    def dot_product(row, col):\n",
    "        '''\n",
    "        param: row <arr> - Given a row represented as an arry of size n\n",
    "        param: col <arr> - Given a col represented as an array of size n\n",
    "        return: sum <int> - Dot product of two n sized vectors\n",
    "        '''\n",
    "        sum = 0\n",
    "\n",
    "        for i in range(len(row)):\n",
    "            sum += row[i]*col[i]\n",
    "\n",
    "        return sum\n",
    "    \n",
    "\n",
    "    for i in range(len(m)):\n",
    "        result.append(dot_product(m[i], v))\n",
    "\n",
    "    return np.array(result)\n",
    "\n",
    "output = matrix_multiplication(matrix, vector)\n",
    "\n",
    "# Test cases\n",
    "assert(output.shape == (3,)) # Output should be 3x1\n",
    "assert(output.size == 3) # Output should be a single column with 3 rows"
   ]
  },
  {
   "cell_type": "markdown",
   "metadata": {
    "colab_type": "text",
    "id": "O5UhbilNbzIP"
   },
   "source": [
    "### Part (c) -- 1pt\n",
    "\n",
    "Perform matrix multiplication `output2 = matrix x vector` by using\n",
    "the function `numpy.dot`.\n",
    "\n",
    "We will never actually write code as in\n",
    "part(c), not only because `numpy.dot` is more concise and easier to read/write, but also performance-wise `numpy.dot` is much faster (it is written in C and highly optimized).\n",
    "In general, we will avoid for loops in our code."
   ]
  },
  {
   "cell_type": "code",
   "execution_count": 23,
   "metadata": {
    "colab": {},
    "colab_type": "code",
    "id": "e8dLVrMEbzIR"
   },
   "outputs": [],
   "source": [
    "output2 = None"
   ]
  },
  {
   "cell_type": "markdown",
   "metadata": {
    "colab_type": "text",
    "id": "77XioX6vbzIb"
   },
   "source": [
    "### Part (d) -- 1pt\n",
    "\n",
    "As a way to test for consistency, show that the two outputs match."
   ]
  },
  {
   "cell_type": "code",
   "execution_count": 24,
   "metadata": {
    "colab": {},
    "colab_type": "code",
    "id": "1Vc-Nvf0bzIc"
   },
   "outputs": [],
   "source": [
    "output2 = np.dot(matrix, vector)"
   ]
  },
  {
   "cell_type": "markdown",
   "metadata": {
    "colab_type": "text",
    "id": "wjEGmk8oIGur"
   },
   "source": [
    "### Part (e) -- 1pt\n",
    "\n",
    "Show that using `np.dot` is faster than using your code from part (c).\n",
    "\n",
    "You may find the below code snippit helpful:"
   ]
  },
  {
   "cell_type": "code",
   "execution_count": 25,
   "metadata": {
    "colab": {},
    "colab_type": "code",
    "id": "XlnE0XO8IGur"
   },
   "outputs": [
    {
     "name": "stdout",
     "output_type": "stream",
     "text": [
      "For loop function execution time (s): 0.0001049041748046875\n",
      "np.dot function execution time (s): 0.0001583099365234375\n"
     ]
    }
   ],
   "source": [
    "import time\n",
    "\n",
    "# Record time for my function\n",
    "a_start = time.time()\n",
    "output = matrix_multiplication(matrix, vector)\n",
    "a_end = time.time()\n",
    "diffA = a_end - a_start\n",
    "\n",
    "# Record time for np.dot\n",
    "b_start = time.time()\n",
    "output2 = np.dot(matrix, vector)\n",
    "b_end = time.time()\n",
    "diffB = b_end - b_start\n",
    "\n",
    "print(\"For loop function execution time (s): {}\".format(diffA))\n",
    "print(\"np.dot function execution time (s): {}\".format(diffB))"
   ]
  },
  {
   "cell_type": "code",
   "execution_count": 26,
   "metadata": {
    "colab": {},
    "colab_type": "code",
    "id": "0aBOgCJeIGuv"
   },
   "outputs": [],
   "source": [
    "#NOTE: Why is my execution time actually faster than np.dot()?"
   ]
  },
  {
   "cell_type": "markdown",
   "metadata": {
    "colab_type": "text",
    "id": "LbKJjoHHbzI4"
   },
   "source": [
    "## Part 3. Images [6 pt]\n",
    "\n",
    "A picture or image can be represented as a NumPy array of “pixels”, \n",
    "with dimensions H × W × C, where H is the height of the image, W is the width of the image,\n",
    "and C is the number of colour channels. Typically we will use an image with channels that give the the Red, Green, and Blue “level” of each pixel, which is referred to with the short form RGB.\n",
    "\n",
    "You will write Python code to load an image, and perform several array manipulations to the image and visualize their effects. "
   ]
  },
  {
   "cell_type": "code",
   "execution_count": 27,
   "metadata": {
    "colab": {},
    "colab_type": "code",
    "id": "FRGQKpEgbzI4"
   },
   "outputs": [],
   "source": [
    "import matplotlib.pyplot as plt"
   ]
  },
  {
   "cell_type": "markdown",
   "metadata": {
    "colab_type": "text",
    "id": "p1D5mtCubzI6"
   },
   "source": [
    "### Part (a) -- 1 pt\n",
    "\n",
    "This is a photograph of a dog whose name is Mochi.\n",
    "\n",
    "![alt text](https://drive.google.com/uc?export=view&id=1oaLVR2hr1_qzpKQ47i9rVUIklwbDcews)\n",
    "\n",
    "Load the image from its url (https://drive.google.com/uc?export=view&id=1oaLVR2hr1_qzpKQ47i9rVUIklwbDcews) into the variable `img` using the `plt.imread` function.\n",
    "\n",
    "Hint: You can enter the URL directly into the `plt.imread` function as a Python string."
   ]
  },
  {
   "cell_type": "code",
   "execution_count": 28,
   "metadata": {
    "colab": {},
    "colab_type": "code",
    "id": "RB8lf73vbzI7"
   },
   "outputs": [],
   "source": [
    "img = plt.imread(\"https://drive.google.com/uc?export=view&id=1oaLVR2hr1_qzpKQ47i9rVUIklwbDcews\")"
   ]
  },
  {
   "cell_type": "markdown",
   "metadata": {
    "colab_type": "text",
    "id": "mNli5OsbbzI9"
   },
   "source": [
    "### Part (b) -- 1pt\n",
    "\n",
    "Use the function `plt.imshow` to visualize `img`. \n",
    "\n",
    "This function will also show the coordinate system used to identify pixels.\n",
    "The origin is at the top left corner, and the first dimension indicates the Y (row) direction, \n",
    "and the second dimension indicates the X (column) dimension."
   ]
  },
  {
   "cell_type": "code",
   "execution_count": 29,
   "metadata": {
    "colab": {},
    "colab_type": "code",
    "id": "lEeHKc_abzI9",
    "scrolled": false
   },
   "outputs": [
    {
     "data": {
      "text/plain": [
       "<matplotlib.image.AxesImage at 0x11e7fb4d0>"
      ]
     },
     "execution_count": 29,
     "metadata": {},
     "output_type": "execute_result"
    },
    {
     "data": {
      "image/png": "[encoded data removed]",
      "text/plain": [
       "<Figure size 432x288 with 1 Axes>"
      ]
     },
     "metadata": {
      "needs_background": "light"
     },
     "output_type": "display_data"
    }
   ],
   "source": [
    "plt.imshow(img)"
   ]
  },
  {
   "cell_type": "markdown",
   "metadata": {
    "colab_type": "text",
    "id": "pB-Hx-OFbzJC"
   },
   "source": [
    "### Part (c) -- 2pt\n",
    "\n",
    "Modify the image by adding a constant value of 0.25 to each pixel in the `img` and\n",
    "store the result in the variable `img_add`. Note that, since the range for the pixels \n",
    "needs to be between [0, 1], you will also need to clip img_add to be in the range [0, 1] \n",
    "using `numpy.clip`. Clipping sets any value that is outside of the desired range to the \n",
    "closest endpoint. Display the image using `plt.imshow`."
   ]
  },
  {
   "cell_type": "code",
   "execution_count": 30,
   "metadata": {
    "colab": {},
    "colab_type": "code",
    "id": "GWBhZay2bzJC"
   },
   "outputs": [
    {
     "data": {
      "text/plain": [
       "<matplotlib.image.AxesImage at 0x12871b810>"
      ]
     },
     "execution_count": 30,
     "metadata": {},
     "output_type": "execute_result"
    },
    {
     "data": {
      "image/png": "[encoded data removed]",
      "text/plain": [
       "<Figure size 432x288 with 1 Axes>"
      ]
     },
     "metadata": {
      "needs_background": "light"
     },
     "output_type": "display_data"
    }
   ],
   "source": [
    "img_add = img + 0.25 # Add constant to all the elements\n",
    "img_add = np.clip(img_add, 0, 1) # Clip all the elements\n",
    "\n",
    "plt.imshow(img_add)"
   ]
  },
  {
   "cell_type": "markdown",
   "metadata": {
    "colab_type": "text",
    "id": "DeinKXBCbzJI"
   },
   "source": [
    "### Part (d) -- 2pt\n",
    "\n",
    "Crop the **original** image (`img` variable) to a 130 x 150 image including Mochi's face. Discard the alpha colour channel (i.e. resulting `img_cropped` should **only have RGB channels**)\n",
    "\n",
    "Display the image."
   ]
  },
  {
   "cell_type": "code",
   "execution_count": 31,
   "metadata": {},
   "outputs": [
    {
     "data": {
      "text/plain": [
       "<matplotlib.image.AxesImage at 0x1257552d0>"
      ]
     },
     "execution_count": 31,
     "metadata": {},
     "output_type": "execute_result"
    },
    {
     "data": {
      "image/png": "[encoded data removed]",
      "text/plain": [
       "<Figure size 432x288 with 1 Axes>"
      ]
     },
     "metadata": {
      "needs_background": "light"
     },
     "output_type": "display_data"
    }
   ],
   "source": [
    "img_cropped = img_add[:151, 65:131, :3] # Crop and discard the alpha channel\n",
    "plt.imshow(img_cropped)"
   ]
  },
  {
   "cell_type": "markdown",
   "metadata": {
    "colab_type": "text",
    "id": "FmfE9CQdIGva"
   },
   "source": [
    "## Part 4. Basics of PyTorch [6 pt]\n",
    "\n",
    "PyTorch is a Python-based neural networks package. Along with tensorflow, PyTorch is currently one of the most popular machine learning libraries.\n",
    "\n",
    "PyTorch, at its core, is similar to Numpy in a sense that they both \n",
    "try to make it easier to write codes for scientific computing\n",
    "achieve improved performance over vanilla Python by leveraging highly optimized C back-end.\n",
    "However, compare to Numpy, PyTorch offers much better GPU support and provides many high-level features for machine learning. Technically, Numpy can be used to perform almost every thing PyTorch does. However, Numpy would be a lot slower than PyTorch, especially with CUDA GPU, and it would take more effort to write machine learning related code compared to using PyTorch."
   ]
  },
  {
   "cell_type": "code",
   "execution_count": 32,
   "metadata": {
    "colab": {},
    "colab_type": "code",
    "id": "ppRPK-X2IGvb"
   },
   "outputs": [],
   "source": [
    "import torch"
   ]
  },
  {
   "cell_type": "markdown",
   "metadata": {
    "colab_type": "text",
    "id": "DXrczIrSIGvf"
   },
   "source": [
    "### Part (a) -- 1 pt\n",
    "\n",
    "Use the function `torch.from_numpy` to convert the numpy array `img_cropped` into\n",
    "a PyTorch tensor. Save the result in a variable called `img_torch`."
   ]
  },
  {
   "cell_type": "code",
   "execution_count": 33,
   "metadata": {
    "colab": {},
    "colab_type": "code",
    "id": "j9rYyf4gIGvj"
   },
   "outputs": [],
   "source": [
    "img_torch = torch.from_numpy(img_cropped)\n",
    "\n",
    "backup = torch.from_numpy(img_cropped) # For future excercises"
   ]
  },
  {
   "cell_type": "markdown",
   "metadata": {
    "colab_type": "text",
    "id": "zrpPeRKtIGvn"
   },
   "source": [
    "### Part (b) -- 1pt\n",
    "\n",
    "Use the method `<Tensor>.shape` to find the shape (dimension and size) of `img_torch`."
   ]
  },
  {
   "cell_type": "code",
   "execution_count": 34,
   "metadata": {
    "colab": {},
    "colab_type": "code",
    "id": "ws7G_aaxIGvn"
   },
   "outputs": [
    {
     "name": "stdout",
     "output_type": "stream",
     "text": [
      "torch.Size([151, 66, 3])\n"
     ]
    }
   ],
   "source": [
    "dim = img_torch.shape\n",
    "\n",
    "print(dim)"
   ]
  },
  {
   "cell_type": "markdown",
   "metadata": {
    "colab_type": "text",
    "id": "uorV8t1pIGvp"
   },
   "source": [
    "### Part (c) -- 1pt\n",
    "\n",
    "How many floating-point numbers are stored in the tensor `img_torch`?"
   ]
  },
  {
   "cell_type": "code",
   "execution_count": 35,
   "metadata": {
    "colab": {},
    "colab_type": "code",
    "id": "sucaE_VCIGvq"
   },
   "outputs": [
    {
     "name": "stdout",
     "output_type": "stream",
     "text": [
      "29898\n"
     ]
    }
   ],
   "source": [
    "print((torch.FloatTensor(img_torch)).numel())"
   ]
  },
  {
   "cell_type": "markdown",
   "metadata": {
    "colab_type": "text",
    "id": "sIcXGdg5IGvu"
   },
   "source": [
    "### Part (d) -- 1 pt\n",
    "\n",
    "What does the code `img_torch.transpose(0,2)` do? What does the expression return? \n",
    "Is the original variable `img_torch` updated? Explain."
   ]
  },
  {
   "cell_type": "code",
   "execution_count": 36,
   "metadata": {
    "colab": {},
    "colab_type": "code",
    "id": "omOJqIhEIGvu"
   },
   "outputs": [
    {
     "name": "stdout",
     "output_type": "stream",
     "text": [
      "Transformed: \n",
      "tensor([[[0.5598, 0.5441, 0.5402,  ..., 0.4657, 0.4147, 0.3873],\n",
      "         [0.5598, 0.5480, 0.5480,  ..., 0.4029, 0.3990, 0.4186],\n",
      "         [0.5598, 0.5520, 0.5520,  ..., 0.3794, 0.4069, 0.4578],\n",
      "         ...,\n",
      "         [0.8500, 0.8461, 0.8265,  ..., 0.6029, 0.5363, 0.4696],\n",
      "         [0.8578, 0.8539, 0.8422,  ..., 0.5716, 0.5088, 0.4578],\n",
      "         [0.8618, 0.8657, 0.8696,  ..., 0.5480, 0.4931, 0.4539]],\n",
      "\n",
      "        [[0.4931, 0.4775, 0.4735,  ..., 0.3912, 0.3520, 0.3363],\n",
      "         [0.4971, 0.4853, 0.4853,  ..., 0.3363, 0.3363, 0.3676],\n",
      "         [0.4971, 0.4892, 0.4892,  ..., 0.3088, 0.3441, 0.3951],\n",
      "         ...,\n",
      "         [0.6108, 0.6069, 0.5873,  ..., 0.5363, 0.4735, 0.4147],\n",
      "         [0.6069, 0.6029, 0.5912,  ..., 0.5088, 0.4578, 0.4029],\n",
      "         [0.6069, 0.6108, 0.6147,  ..., 0.4853, 0.4422, 0.3990]],\n",
      "\n",
      "        [[0.4304, 0.4147, 0.4108,  ..., 0.3324, 0.2892, 0.2696],\n",
      "         [0.4343, 0.4225, 0.4225,  ..., 0.2735, 0.2775, 0.3049],\n",
      "         [0.4343, 0.4265, 0.4265,  ..., 0.2539, 0.2853, 0.3363],\n",
      "         ...,\n",
      "         [0.3637, 0.3598, 0.3402,  ..., 0.4657, 0.4147, 0.3637],\n",
      "         [0.3559, 0.3520, 0.3402,  ..., 0.4461, 0.3951, 0.3520],\n",
      "         [0.3559, 0.3598, 0.3637,  ..., 0.4225, 0.3794, 0.3480]]]) \n",
      "\n",
      "Original: \n",
      "tensor([[[0.5598, 0.4931, 0.4304],\n",
      "         [0.5598, 0.4971, 0.4343],\n",
      "         [0.5598, 0.4971, 0.4343],\n",
      "         ...,\n",
      "         [0.8500, 0.6108, 0.3637],\n",
      "         [0.8578, 0.6069, 0.3559],\n",
      "         [0.8618, 0.6069, 0.3559]],\n",
      "\n",
      "        [[0.5441, 0.4775, 0.4147],\n",
      "         [0.5480, 0.4853, 0.4225],\n",
      "         [0.5520, 0.4892, 0.4265],\n",
      "         ...,\n",
      "         [0.8461, 0.6069, 0.3598],\n",
      "         [0.8539, 0.6029, 0.3520],\n",
      "         [0.8657, 0.6108, 0.3598]],\n",
      "\n",
      "        [[0.5402, 0.4735, 0.4108],\n",
      "         [0.5480, 0.4853, 0.4225],\n",
      "         [0.5520, 0.4892, 0.4265],\n",
      "         ...,\n",
      "         [0.8265, 0.5873, 0.3402],\n",
      "         [0.8422, 0.5912, 0.3402],\n",
      "         [0.8696, 0.6147, 0.3637]],\n",
      "\n",
      "        ...,\n",
      "\n",
      "        [[0.4657, 0.3912, 0.3324],\n",
      "         [0.4029, 0.3363, 0.2735],\n",
      "         [0.3794, 0.3088, 0.2539],\n",
      "         ...,\n",
      "         [0.6029, 0.5363, 0.4657],\n",
      "         [0.5716, 0.5088, 0.4461],\n",
      "         [0.5480, 0.4853, 0.4225]],\n",
      "\n",
      "        [[0.4147, 0.3520, 0.2892],\n",
      "         [0.3990, 0.3363, 0.2775],\n",
      "         [0.4069, 0.3441, 0.2853],\n",
      "         ...,\n",
      "         [0.5363, 0.4735, 0.4147],\n",
      "         [0.5088, 0.4578, 0.3951],\n",
      "         [0.4931, 0.4422, 0.3794]],\n",
      "\n",
      "        [[0.3873, 0.3363, 0.2696],\n",
      "         [0.4186, 0.3676, 0.3049],\n",
      "         [0.4578, 0.3951, 0.3363],\n",
      "         ...,\n",
      "         [0.4696, 0.4147, 0.3637],\n",
      "         [0.4578, 0.4029, 0.3520],\n",
      "         [0.4539, 0.3990, 0.3480]]])\n"
     ]
    }
   ],
   "source": [
    "# img_torch.transpose(0,2) takes the first dimension (index 0), and the third dimension (index 2) in img_torch tensor and swaps the dimensions.\n",
    "# Although documentation (https://pytorch.org/docs/master/generated/torch.transpose.html) states that the tensor would be re-written with the changes. \n",
    "# That was not the case as stated below:\n",
    "print(\"Transformed: \")\n",
    "print(img_torch.transpose(0,2), \"\\n\") \n",
    "print(\"Original: \")\n",
    "print(img_torch)"
   ]
  },
  {
   "cell_type": "markdown",
   "metadata": {
    "colab_type": "text",
    "id": "lHrzC0EqIGvx"
   },
   "source": [
    "### Part (e) -- 1 pt\n",
    "\n",
    "What does the code `img_torch.unsqueeze(0)` do? What does the expression return? \n",
    "Is the original variable `img_torch` updated? Explain."
   ]
  },
  {
   "cell_type": "code",
   "execution_count": 37,
   "metadata": {
    "colab": {},
    "colab_type": "code",
    "id": "ZFePj7E5IGvz"
   },
   "outputs": [
    {
     "name": "stdout",
     "output_type": "stream",
     "text": [
      "torch.Size([1, 151, 66, 3])\n",
      "torch.Size([151, 66, 3])\n",
      "torch.Size([151, 66, 3])\n"
     ]
    }
   ],
   "source": [
    "# Returns a new tensor with data assigned to the specified dimension\n",
    "# The data is written with a dimension of size one\n",
    "unsqueeze = img_torch.unsqueeze(0)\n",
    "print(unsqueeze.shape)\n",
    "print(img_torch.shape)\n",
    "print(backup.shape)\n",
    "\n",
    "# The original variable, img_torch wasn't updated as you can see."
   ]
  },
  {
   "cell_type": "markdown",
   "metadata": {
    "colab_type": "text",
    "id": "re16jTB9IGv0"
   },
   "source": [
    "### Part (f) -- 1 pt\n",
    "\n",
    "Find the maximum value of `img_torch` along each colour channel? Your output should be a one-dimensional\n",
    "PyTorch tensor with exactly three values.\n",
    "\n",
    "Hint: lookup the function `torch.max`."
   ]
  },
  {
   "cell_type": "code",
   "execution_count": 38,
   "metadata": {},
   "outputs": [
    {
     "name": "stdout",
     "output_type": "stream",
     "text": [
      "One-dimentsional PyTorch sensor containing three max value: \n",
      " tensor([1.0000, 1.0000, 0.9598])\n"
     ]
    }
   ],
   "source": [
    "max1 = torch.max(img_torch[:,0])\n",
    "max2 = torch.max(img_torch[:,1])\n",
    "max3 = torch.max(img_torch[:,2])\n",
    "\n",
    "max_tensor = torch.tensor([max1, max2, max3])\n",
    "\n",
    "print(\"One-dimentsional PyTorch sensor containing three max value: \\n {}\".format(max_tensor))\n",
    "\n"
   ]
  },
  {
   "cell_type": "markdown",
   "metadata": {
    "colab_type": "text",
    "id": "3hhA2sX0au0D"
   },
   "source": [
    "## Part 5. Training an ANN [10 pt]\n",
    "\n",
    "The sample code provided below is a 2-layer ANN trained on the MNIST dataset to identify digits less than 3 or greater than and equal to 3. Modify the code by changing any of the following and observe how the accuracy and error are affected:\n",
    "\n",
    "- number of training iterations\n",
    "- number of hidden units\n",
    "- numbers of layers\n",
    "- types of activation functions\n",
    "- learning rate\n",
    "\n"
   ]
  },
  {
   "cell_type": "code",
   "execution_count": 43,
   "metadata": {},
   "outputs": [],
   "source": [
    "import torch\n",
    "import sys\n",
    "import torch.nn as nn\n",
    "import torch.nn.functional as F\n",
    "from torchvision import datasets, transforms\n",
    "import matplotlib.pyplot as plt # for plotting\n",
    "import torch.optim as optim\n",
    "import numpy as np\n",
    "\n",
    "torch.manual_seed(1) # set the random seed\n",
    "\n",
    "# define a 2-layer artificial neural network\n",
    "class Pigeon(nn.Module):\n",
    "    def __init__(self):\n",
    "        super(Pigeon, self).__init__()\n",
    "        self.layer1 = nn.Linear(28 * 28, 30)\n",
    "        self.layer2 = nn.Linear(30, 1)\n",
    "    def forward(self, img):\n",
    "        flattened = img.view(-1, 28 * 28) \n",
    "        activation1 = self.layer1(flattened)\n",
    "        activation1 = F.relu(activation1)\n",
    "        activation2 = self.layer2(activation1)\n",
    "        return activation2"
   ]
  },
  {
   "cell_type": "markdown",
   "metadata": {},
   "source": [
    "## Testing different parameters\n",
    "\n",
    "Parameters that we can adjust to manipulate training and testing data:\n",
    "- Batch size: Make adjustments to weights after a certain batch has run through\n",
    "- Learning rate, momentum\n",
    "- Size of network: I'm going to ignore this one for now because I think changing the ANN's architecture is \n",
    "    outside the scope for this problem.\n",
    "- Activation function\n",
    "- Number of iterations\n",
    "- Changing the optimizer perhaps (ex. Adam Optimizer)\n",
    "\n",
    "# Part 1: Original code"
   ]
  },
  {
   "cell_type": "code",
   "execution_count": 45,
   "metadata": {},
   "outputs": [
    {
     "name": "stdout",
     "output_type": "stream",
     "text": [
      "Training Error Rate: 0.036\n",
      "Training Accuracy: 0.964\n",
      "Test Error Rate: 0.079\n",
      "Test Accuracy: 0.921\n"
     ]
    }
   ],
   "source": [
    "pigeon = Pigeon()\n",
    "\n",
    "# load the data\n",
    "mnist_data = datasets.MNIST('data', train=True, download=True)\n",
    "mnist_data = list(mnist_data)\n",
    "mnist_train = mnist_data[:1000]\n",
    "mnist_val   = mnist_data[1000:2000]\n",
    "img_to_tensor = transforms.ToTensor()\n",
    "      \n",
    "    \n",
    "# simplified training code to train `pigeon` on the \"small digit recognition\" task\n",
    "criterion = nn.BCEWithLogitsLoss()\n",
    "optimizer = optim.SGD(pigeon.parameters(), lr=0.005, momentum=0.9) \n",
    "\n",
    "\n",
    "## Part 1: Original code \n",
    "\n",
    "for (image, label) in mnist_train:\n",
    "    # actual ground truth: is the digit less than 3?\n",
    "    actual = torch.tensor(label < 3).reshape([1,1]).type(torch.FloatTensor)\n",
    "    # pigeon prediction\n",
    "    out = pigeon(img_to_tensor(image)) # step 1-2\n",
    "    # update the parameters based on the loss\n",
    "    loss = criterion(out, actual)      # step 3\n",
    "    loss.backward()                    # step 4 (compute the updates for each parameter)\n",
    "    optimizer.step()                   # step 4 (make the updates for each parameter)\n",
    "    optimizer.zero_grad()              # a clean up step for PyTorch\n",
    "\n",
    "# computing the error and accuracy on the training set\n",
    "error = 0\n",
    "for (image, label) in mnist_train:\n",
    "    prob = torch.sigmoid(pigeon(img_to_tensor(image)))\n",
    "    if (prob < 0.5 and label < 3) or (prob >= 0.5 and label >= 3):\n",
    "        error += 1\n",
    "print(\"Training Error Rate:\", error/len(mnist_train))\n",
    "print(\"Training Accuracy:\", 1 - error/len(mnist_train))\n",
    "\n",
    "\n",
    "# computing the error and accuracy on a test set\n",
    "error = 0\n",
    "for (image, label) in mnist_val:\n",
    "    prob = torch.sigmoid(pigeon(img_to_tensor(image)))\n",
    "    if (prob < 0.5 and label < 3) or (prob >= 0.5 and label >= 3):\n",
    "        error += 1\n",
    "print(\"Test Error Rate:\", error/len(mnist_val))\n",
    "print(\"Test Accuracy:\", 1 - error/len(mnist_val))"
   ]
  },
  {
   "cell_type": "markdown",
   "metadata": {},
   "source": [
    "# Part 2: Learning rate"
   ]
  },
  {
   "cell_type": "code",
   "execution_count": 46,
   "metadata": {},
   "outputs": [
    {
     "data": {
      "image/png": "[encoded data removed]",
      "text/plain": [
       "<Figure size 432x288 with 1 Axes>"
      ]
     },
     "metadata": {
      "needs_background": "light"
     },
     "output_type": "display_data"
    }
   ],
   "source": [
    "pigeon = Pigeon()\n",
    "\n",
    "# load the data\n",
    "mnist_data = datasets.MNIST('data', train=True, download=True)\n",
    "mnist_data = list(mnist_data)\n",
    "mnist_train = mnist_data[:1000]\n",
    "mnist_val   = mnist_data[1000:2000]\n",
    "img_to_tensor = transforms.ToTensor()  \n",
    "    \n",
    "# simplified training code to train `pigeon` on the \"small digit recognition\" task\n",
    "criterion = nn.BCEWithLogitsLoss()\n",
    "optimizer = optim.SGD(pigeon.parameters(), lr=0.005, momentum=0.9) \n",
    "\n",
    "## Part 2: Learning rate\n",
    "\n",
    "# Test out different learning rate values\n",
    "lr_increment = np.arange(0,0.1, 0.005).tolist() # Create a list of learning rate values\n",
    "lr_training_val, lr_testing_val = list(), list() # Data structures to store the accuracy of our training and testing based on learning rate.\n",
    "\n",
    "for lr in lr_increment:\n",
    "    optimizer = optim.SGD(pigeon.parameters(), lr=lr, momentum=0.9) # Redefine the optimizer function with the incremented learning rate\n",
    "    for (image, label) in mnist_train:\n",
    "        # actual ground truth: is the digit less than 3?\n",
    "        actual = torch.tensor(label < 3).reshape([1,1]).type(torch.FloatTensor)\n",
    "        # pigeon prediction\n",
    "        out = pigeon(img_to_tensor(image)) # step 1-2\n",
    "        # update the parameters based on the loss\n",
    "        loss = criterion(out, actual)      # step 3\n",
    "        loss.backward()                    # step 4 (compute the updates for each parameter)\n",
    "        optimizer.step()                   # step 4 (make the updates for each parameter)\n",
    "        optimizer.zero_grad()              # a clean up step for PyTorch\n",
    "\n",
    "    # computing the error and accuracy on the training set\n",
    "    error = 0\n",
    "    for (image, label) in mnist_train:\n",
    "        prob = torch.sigmoid(pigeon(img_to_tensor(image))) \n",
    "        if (prob < 0.5 and label < 3) or (prob >= 0.5 and label >= 3):\n",
    "            error += 1\n",
    "\n",
    "    lr_training_val.append(1 - error/len(mnist_train))\n",
    "\n",
    "    # computing the error and accuracy on a test set\n",
    "    error = 0\n",
    "    for (image, label) in mnist_val:\n",
    "        prob = torch.sigmoid(pigeon(img_to_tensor(image)))\n",
    "        if (prob < 0.5 and label < 3) or (prob >= 0.5 and label >= 3):\n",
    "            error += 1\n",
    "\n",
    "    lr_testing_val.append(1 - error/len(mnist_val))\n",
    "\n",
    "# Plot the results of learning rate\n",
    "\n",
    "plt.plot(lr_increment, lr_testing_val, \"-b\", label=\"Testing data accuracy\")\n",
    "plt.plot(lr_increment, lr_training_val, \"-r\", label=\"Training data accuracy\")\n",
    "plt.legend(loc=\"lower right\")\n",
    "plt.xlabel(\"Learning rate\")\n",
    "plt.ylabel(\"Prediction accuracy\")\n",
    "\n",
    "plt.show()\n"
   ]
  },
  {
   "cell_type": "markdown",
   "metadata": {},
   "source": [
    "# Part 3: Momentum"
   ]
  },
  {
   "cell_type": "code",
   "execution_count": 47,
   "metadata": {},
   "outputs": [
    {
     "data": {
      "image/png": "[encoded data removed]",
      "text/plain": [
       "<Figure size 432x288 with 1 Axes>"
      ]
     },
     "metadata": {
      "needs_background": "light"
     },
     "output_type": "display_data"
    }
   ],
   "source": [
    "pigeon = Pigeon()\n",
    "\n",
    "# load the data\n",
    "mnist_data = datasets.MNIST('data', train=True, download=True)\n",
    "mnist_data = list(mnist_data)\n",
    "mnist_train = mnist_data[:1000]\n",
    "mnist_val   = mnist_data[1000:2000]\n",
    "img_to_tensor = transforms.ToTensor()  \n",
    "    \n",
    "# simplified training code to train `pigeon` on the \"small digit recognition\" task\n",
    "criterion = nn.BCEWithLogitsLoss()\n",
    "optimizer = optim.SGD(pigeon.parameters(), lr=0.005, momentum=0.9) \n",
    "\n",
    "## Part 3: Momentum\n",
    "\n",
    "# Test out different learning rate values\n",
    "momentum_increment = np.arange(0,1, 0.05).tolist() # Create a list of momentum values\n",
    "momentum_training_val, momentum_testing_val = list(), list() # Data structures to store the accuracy of our training and testing based on momentum.\n",
    "\n",
    "for momentum in momentum_increment:\n",
    "    optimizer = optim.SGD(pigeon.parameters(), lr=0.005, momentum=momentum) # Redefine the optimizer function with the incremented momentum\n",
    "    for (image, label) in mnist_train:\n",
    "        # actual ground truth: is the digit less than 3?\n",
    "        actual = torch.tensor(label < 3).reshape([1,1]).type(torch.FloatTensor)\n",
    "        # pigeon prediction\n",
    "        out = pigeon(img_to_tensor(image)) # step 1-2\n",
    "        # update the parameters based on the loss\n",
    "        loss = criterion(out, actual)      # step 3\n",
    "        loss.backward()                    # step 4 (compute the updates for each parameter)\n",
    "        optimizer.step()                   # step 4 (make the updates for each parameter)\n",
    "        optimizer.zero_grad()              # a clean up step for PyTorch\n",
    "\n",
    "    # computing the error and accuracy on the training set\n",
    "    error = 0\n",
    "    for (image, label) in mnist_train:\n",
    "        prob = torch.sigmoid(pigeon(img_to_tensor(image))) \n",
    "        if (prob < 0.5 and label < 3) or (prob >= 0.5 and label >= 3):\n",
    "            error += 1\n",
    "\n",
    "    momentum_training_val.append(1 - error/len(mnist_train))\n",
    "\n",
    "    # computing the error and accuracy on a test set\n",
    "    error = 0\n",
    "    for (image, label) in mnist_val:\n",
    "        prob = torch.sigmoid(pigeon(img_to_tensor(image)))\n",
    "        if (prob < 0.5 and label < 3) or (prob >= 0.5 and label >= 3):\n",
    "            error += 1\n",
    "\n",
    "    momentum_testing_val.append(1 - error/len(mnist_val))\n",
    "\n",
    "# Plot the results of learning rate\n",
    "\n",
    "plt.plot(momentum_increment, momentum_testing_val, \"-b\", label=\"Testing data accuracy\")\n",
    "plt.plot(momentum_increment, momentum_training_val, \"-r\", label=\"Training data accuracy\")\n",
    "plt.legend(loc=\"lower right\")\n",
    "plt.xlabel(\"Momentum\")\n",
    "plt.ylabel(\"Prediction accuracy\")\n",
    "\n",
    "plt.show()"
   ]
  },
  {
   "cell_type": "markdown",
   "metadata": {},
   "source": [
    "# Part 4: Epochs"
   ]
  },
  {
   "cell_type": "code",
   "execution_count": 48,
   "metadata": {},
   "outputs": [
    {
     "data": {
      "image/png": "[encoded data removed]",
      "text/plain": [
       "<Figure size 432x288 with 1 Axes>"
      ]
     },
     "metadata": {
      "needs_background": "light"
     },
     "output_type": "display_data"
    }
   ],
   "source": [
    "pigeon = Pigeon()\n",
    "\n",
    "# load the data\n",
    "mnist_data = datasets.MNIST('data', train=True, download=True)\n",
    "mnist_data = list(mnist_data)\n",
    "mnist_train = mnist_data[:1000]\n",
    "mnist_val   = mnist_data[1000:2000]\n",
    "img_to_tensor = transforms.ToTensor()  \n",
    "    \n",
    "# simplified training code to train `pigeon` on the \"small digit recognition\" task\n",
    "criterion = nn.BCEWithLogitsLoss()\n",
    "optimizer = optim.SGD(pigeon.parameters(), lr=0.005, momentum=0.9)\n",
    "\n",
    "## Part 4: Epochs\n",
    "\n",
    "#NOTE: Uncomment code block to see results of epochs.\n",
    "epochs, epoch_train, epoch_val = list(), list(), list()\n",
    "\n",
    "for epoch in range(0,10):\n",
    "    epochs.append(epoch) # Keep a log of the epochs\n",
    "\n",
    "    for (image, label) in mnist_train:\n",
    "        # actual ground truth: is the digit less than 3?\n",
    "        actual = torch.tensor(label < 3).reshape([1,1]).type(torch.FloatTensor)\n",
    "        # pigeon prediction\n",
    "        out = pigeon(img_to_tensor(image)) # step 1-2\n",
    "        # update the parameters based on the loss\n",
    "        loss = criterion(out, actual)      # step 3\n",
    "        loss.backward()                    # step 4 (compute the updates for each parameter)\n",
    "        optimizer.step()                   # step 4 (make the updates for each parameter)\n",
    "        optimizer.zero_grad()              # a clean up step for PyTorch\n",
    "\n",
    "    # computing the error and accuracy on the training set\n",
    "    error = 0\n",
    "    for (image, label) in mnist_train:\n",
    "        prob = torch.sigmoid(pigeon(img_to_tensor(image)))\n",
    "        if (prob < 0.5 and label < 3) or (prob >= 0.5 and label >= 3):\n",
    "            error += 1\n",
    "    epoch_train.append(1 - error/len(mnist_train))\n",
    "\n",
    "    # computing the error and accuracy on a test set\n",
    "    error = 0\n",
    "    for (image, label) in mnist_val:\n",
    "        prob = torch.sigmoid(pigeon(img_to_tensor(image)))\n",
    "        if (prob < 0.5 and label < 3) or (prob >= 0.5 and label >= 3):\n",
    "            error += 1\n",
    "    epoch_val.append(1 - error/len(mnist_val))\n",
    "\n",
    "plt.plot(epochs, epoch_train, \"-b\", label=\"Training data accuracy\")\n",
    "plt.plot(epochs, epoch_val, \"-r\", label=\"Testing data accuracy\")\n",
    "plt.legend(loc=\"lower right\")\n",
    "plt.xlabel(\"Epochs\")\n",
    "plt.ylabel(\"Prediction accuracy\")\n",
    "\n",
    "plt.show()"
   ]
  },
  {
   "cell_type": "markdown",
   "metadata": {},
   "source": [
    "# Part 5: Adam Optimizer"
   ]
  },
  {
   "cell_type": "code",
   "execution_count": 49,
   "metadata": {
    "colab": {},
    "colab_type": "code",
    "id": "GGtthiz1tDh5",
    "scrolled": true
   },
   "outputs": [
    {
     "name": "stdout",
     "output_type": "stream",
     "text": [
      "Adam Training Error Rate: 0.026\n",
      "Adam Training Accuracy: 0.974\n",
      "Adam Test Error Rate: 0.072\n",
      "Adam Test Accuracy: 0.928\n"
     ]
    }
   ],
   "source": [
    "pigeon = Pigeon()\n",
    "\n",
    "# load the data\n",
    "mnist_data = datasets.MNIST('data', train=True, download=True)\n",
    "mnist_data = list(mnist_data)\n",
    "mnist_train = mnist_data[:1000]\n",
    "mnist_val   = mnist_data[1000:2000]\n",
    "img_to_tensor = transforms.ToTensor()  \n",
    "    \n",
    "# simplified training code to train `pigeon` on the \"small digit recognition\" task\n",
    "criterion = nn.BCEWithLogitsLoss()\n",
    "optimizer = optim.SGD(pigeon.parameters(), lr=0.005, momentum=0.9)\n",
    "\n",
    "## Part 5: Adam Optimizer\n",
    "\n",
    "#NOTE: Uncomment block to get Adam optimizer results\n",
    "optimizer = optim.Adam(pigeon.parameters(), lr=0.005) \n",
    "\n",
    "for (image, label) in mnist_train:\n",
    "    # actual ground truth: is the digit less than 3?\n",
    "    actual = torch.tensor(label < 3).reshape([1,1]).type(torch.FloatTensor)\n",
    "    # pigeon prediction\n",
    "    out = pigeon(img_to_tensor(image)) # step 1-2\n",
    "    # update the parameters based on the loss\n",
    "    loss = criterion(out, actual)      # step 3\n",
    "    loss.backward()                    # step 4 (compute the updates for each parameter)\n",
    "    optimizer.step()                   # step 4 (make the updates for each parameter)\n",
    "    optimizer.zero_grad()              # a clean up step for PyTorch\n",
    "\n",
    "# computing the error and accuracy on the training set\n",
    "error = 0\n",
    "for (image, label) in mnist_train:\n",
    "    prob = torch.sigmoid(pigeon(img_to_tensor(image)))\n",
    "    if (prob < 0.5 and label < 3) or (prob >= 0.5 and label >= 3):\n",
    "        error += 1\n",
    "print(\"Adam Training Error Rate:\", error/len(mnist_train))\n",
    "print(\"Adam Training Accuracy:\", 1 - error/len(mnist_train))\n",
    "\n",
    "\n",
    "# computing the error and accuracy on a test set\n",
    "error = 0\n",
    "for (image, label) in mnist_val:\n",
    "    prob = torch.sigmoid(pigeon(img_to_tensor(image)))\n",
    "    if (prob < 0.5 and label < 3) or (prob >= 0.5 and label >= 3):\n",
    "        error += 1\n",
    "print(\"Adam Test Error Rate:\", error/len(mnist_val))\n",
    "print(\"Adam Test Accuracy:\", 1 - error/len(mnist_val))"
   ]
  },
  {
   "cell_type": "markdown",
   "metadata": {
    "colab_type": "text",
    "id": "viYKlFupcgF3"
   },
   "source": [
    "### Part (a) -- 3 pt\n",
    "Comment on which of the above changes resulted in the best accuracy on training data? What accuracy were you able to achieve?\n",
    "\n",
    "The following characteristics proved to be useful to improve the accuracy of the training data:\n",
    "- Learning rate between: 0.005 to 0.02\n",
    "- Higher momentum value: 0.8 to 0.9\n",
    "- Higher epochs\n",
    "\n",
    "I was able to achieve a training accuracy of 99% by using the following parameters:\n",
    "- Learning rate: 0.01\n",
    "- Momentum: 0.9\n",
    "- Epoch: 10"
   ]
  },
  {
   "cell_type": "code",
   "execution_count": 40,
   "metadata": {
    "colab": {},
    "colab_type": "code",
    "id": "FMgRXRqiqAEx"
   },
   "outputs": [
    {
     "name": "stdout",
     "output_type": "stream",
     "text": [
      "Training Error Rate: 0.001\n",
      "Training Accuracy: 0.999\n",
      "Test Error Rate: 0.055\n",
      "Test Accuracy: 0.945\n"
     ]
    }
   ],
   "source": [
    "import torch\n",
    "import sys\n",
    "import torch.nn as nn\n",
    "import torch.nn.functional as F\n",
    "from torchvision import datasets, transforms\n",
    "import matplotlib.pyplot as plt # for plotting\n",
    "import torch.optim as optim\n",
    "import numpy as np\n",
    "\n",
    "torch.manual_seed(1) # set the random seed\n",
    "\n",
    "# define a 2-layer artificial neural network\n",
    "class Pigeon(nn.Module):\n",
    "    def __init__(self):\n",
    "        super(Pigeon, self).__init__()\n",
    "        self.layer1 = nn.Linear(28 * 28, 30)\n",
    "        self.layer2 = nn.Linear(30, 1)\n",
    "    def forward(self, img):\n",
    "        flattened = img.view(-1, 28 * 28) \n",
    "        activation1 = self.layer1(flattened)\n",
    "        activation1 = F.relu(activation1)\n",
    "        activation2 = self.layer2(activation1)\n",
    "        return activation2\n",
    "\n",
    "pigeon = Pigeon()\n",
    "\n",
    "# load the data\n",
    "mnist_data = datasets.MNIST('data', train=True, download=True)\n",
    "mnist_data = list(mnist_data)\n",
    "mnist_train = mnist_data[:1000]\n",
    "mnist_val   = mnist_data[1000:2000]\n",
    "img_to_tensor = transforms.ToTensor()\n",
    "      \n",
    "    \n",
    "# simplified training code to train `pigeon` on the \"small digit recognition\" task\n",
    "criterion = nn.BCEWithLogitsLoss()\n",
    "optimizer = optim.SGD(pigeon.parameters(), lr=0.01, momentum=0.9) \n",
    "\n",
    "for epoch in range(0,10):\n",
    "\n",
    "    for (image, label) in mnist_train:\n",
    "        # actual ground truth: is the digit less than 3?\n",
    "        actual = torch.tensor(label < 3).reshape([1,1]).type(torch.FloatTensor)\n",
    "        # pigeon prediction\n",
    "        out = pigeon(img_to_tensor(image)) # step 1-2\n",
    "        # update the parameters based on the loss\n",
    "        loss = criterion(out, actual)      # step 3\n",
    "        loss.backward()                    # step 4 (compute the updates for each parameter)\n",
    "        optimizer.step()                   # step 4 (make the updates for each parameter)\n",
    "        optimizer.zero_grad()              # a clean up step for PyTorch\n",
    "        \n",
    "# computing the error and accuracy on the training set\n",
    "error = 0\n",
    "for (image, label) in mnist_train:\n",
    "    prob = torch.sigmoid(pigeon(img_to_tensor(image)))\n",
    "    if (prob < 0.5 and label < 3) or (prob >= 0.5 and label >= 3):\n",
    "        error += 1\n",
    "print(\"Training Error Rate:\", error/len(mnist_train))\n",
    "print(\"Training Accuracy:\", 1 - error/len(mnist_train))\n",
    "\n",
    "\n",
    "# computing the error and accuracy on a test set\n",
    "error = 0\n",
    "for (image, label) in mnist_val:\n",
    "    prob = torch.sigmoid(pigeon(img_to_tensor(image)))\n",
    "    if (prob < 0.5 and label < 3) or (prob >= 0.5 and label >= 3):\n",
    "        error += 1\n",
    "print(\"Test Error Rate:\", error/len(mnist_val))\n",
    "print(\"Test Accuracy:\", 1 - error/len(mnist_val))\n"
   ]
  },
  {
   "cell_type": "markdown",
   "metadata": {
    "colab_type": "text",
    "id": "pi6bWs7jcIem"
   },
   "source": [
    "### Part (b) -- 3 pt\n",
    "\n",
    "\n",
    "Comment on which of the above changes resulted in the best accuracy on testing data? What accuracy were you able to achieve?\n",
    "\n",
    "By using the Adam optimizer with a learning rate of 0.005, I was able to achieve a testing set accuracy of ~94%."
   ]
  },
  {
   "cell_type": "code",
   "execution_count": 41,
   "metadata": {
    "colab": {},
    "colab_type": "code",
    "id": "QtyIrtuNqAh0"
   },
   "outputs": [
    {
     "name": "stdout",
     "output_type": "stream",
     "text": [
      "Training Error Rate: 0.02\n",
      "Training Accuracy: 0.98\n",
      "Test Error Rate: 0.064\n",
      "Test Accuracy: 0.9359999999999999\n"
     ]
    }
   ],
   "source": [
    "import torch\n",
    "import sys\n",
    "import torch.nn as nn\n",
    "import torch.nn.functional as F\n",
    "from torchvision import datasets, transforms\n",
    "import matplotlib.pyplot as plt # for plotting\n",
    "import torch.optim as optim\n",
    "import numpy as np\n",
    "\n",
    "torch.manual_seed(1) # set the random seed\n",
    "\n",
    "# define a 2-layer artificial neural network\n",
    "class Pigeon(nn.Module):\n",
    "    def __init__(self):\n",
    "        super(Pigeon, self).__init__()\n",
    "        self.layer1 = nn.Linear(28 * 28, 30)\n",
    "        self.layer2 = nn.Linear(30, 1)\n",
    "    def forward(self, img):\n",
    "        flattened = img.view(-1, 28 * 28) \n",
    "        activation1 = self.layer1(flattened)\n",
    "        activation1 = F.relu(activation1)\n",
    "        activation2 = self.layer2(activation1)\n",
    "        return activation2\n",
    "\n",
    "pigeon = Pigeon()\n",
    "\n",
    "# load the data\n",
    "mnist_data = datasets.MNIST('data', train=True, download=True)\n",
    "mnist_data = list(mnist_data)\n",
    "mnist_train = mnist_data[:1000]\n",
    "mnist_val   = mnist_data[1000:2000]\n",
    "img_to_tensor = transforms.ToTensor()\n",
    "      \n",
    "    \n",
    "# simplified training code to train `pigeon` on the \"small digit recognition\" task\n",
    "criterion = nn.BCEWithLogitsLoss()\n",
    "optimizer = optim.Adam(pigeon.parameters(), lr=0.005) \n",
    "\n",
    "for (image, label) in mnist_train:\n",
    "    # actual ground truth: is the digit less than 3?\n",
    "    actual = torch.tensor(label < 3).reshape([1,1]).type(torch.FloatTensor)\n",
    "    # pigeon prediction\n",
    "    out = pigeon(img_to_tensor(image)) # step 1-2\n",
    "    # update the parameters based on the loss\n",
    "    loss = criterion(out, actual)      # step 3\n",
    "    loss.backward()                    # step 4 (compute the updates for each parameter)\n",
    "    optimizer.step()                   # step 4 (make the updates for each parameter)\n",
    "    optimizer.zero_grad()              # a clean up step for PyTorch\n",
    "        \n",
    "# computing the error and accuracy on the training set\n",
    "error = 0\n",
    "for (image, label) in mnist_train:\n",
    "    prob = torch.sigmoid(pigeon(img_to_tensor(image)))\n",
    "    if (prob < 0.5 and label < 3) or (prob >= 0.5 and label >= 3):\n",
    "        error += 1\n",
    "print(\"Training Error Rate:\", error/len(mnist_train))\n",
    "print(\"Training Accuracy:\", 1 - error/len(mnist_train))\n",
    "\n",
    "\n",
    "# computing the error and accuracy on a test set\n",
    "error = 0\n",
    "for (image, label) in mnist_val:\n",
    "    prob = torch.sigmoid(pigeon(img_to_tensor(image)))\n",
    "    if (prob < 0.5 and label < 3) or (prob >= 0.5 and label >= 3):\n",
    "        error += 1\n",
    "print(\"Test Error Rate:\", error/len(mnist_val))\n",
    "print(\"Test Accuracy:\", 1 - error/len(mnist_val))"
   ]
  },
  {
   "cell_type": "markdown",
   "metadata": {
    "colab_type": "text",
    "id": "j7W2k347wFqo"
   },
   "source": [
    "### Part (c) -- 4 pt\n",
    "Which model hyperparameters should you use, the ones from (a) or (b)?\n",
    "\n",
    "It is best to use the hyperparameters of option B. It is evident that option A is experiencing over-fitting due to the large number of epochs."
   ]
  },
  {
   "cell_type": "code",
   "execution_count": null,
   "metadata": {
    "colab": {},
    "colab_type": "code",
    "id": "nuESNMuewOnT"
   },
   "outputs": [],
   "source": []
  }
 ],
 "metadata": {
  "colab": {
   "collapsed_sections": [],
   "name": "Lab 1 - PyTorch and ANNs.ipynb",
   "provenance": []
  },
  "kernelspec": {
   "display_name": "Python 3",
   "language": "python",
   "name": "python3"
  },
  "language_info": {
   "codemirror_mode": {
    "name": "ipython",
    "version": 3
   },
   "file_extension": ".py",
   "mimetype": "text/x-python",
   "name": "python",
   "nbconvert_exporter": "python",
   "pygments_lexer": "ipython3",
   "version": "3.7.7"
  }
 },
 "nbformat": 4,
 "nbformat_minor": 1
}
