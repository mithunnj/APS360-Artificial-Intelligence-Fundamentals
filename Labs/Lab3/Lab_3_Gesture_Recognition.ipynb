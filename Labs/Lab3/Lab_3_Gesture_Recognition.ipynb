{
 "cells": [
  {
   "cell_type": "markdown",
   "metadata": {
    "colab_type": "text",
    "id": "X6WDvajSqIDs"
   },
   "source": [
    "# Lab 3: Gesture Recognition using Convolutional Neural Networks\n",
    "\n",
    "**Deadlines**: \n",
    "\n",
    "- Lab 3 Part A: June 4, 11:59pm\n",
    "- Lab 3 Part B: June 11, 11:59pm\n",
    "\n",
    "**Late Penalty**: There is a penalty-free grace period of one hour past the deadline. Any work that is submitted between 1 hour and 24 hours past the deadline will receive a 20% grade deduction. No other late work is accepted. Quercus submission time will be used, not your local computer time. You can submit your labs as many times as you want before the deadline, so please submit often and early.\n",
    "\n",
    "**Grading TAs**: \n",
    "- Lab 3 Part A: Geoff Donoghue  \n",
    "- Lab 3 Part B: Geoff Donoghue\n",
    "\n",
    "This lab is based on an assignment developed by Prof. Lisa Zhang.\n",
    "\n",
    "This lab will be completed in two parts. In Part A you will you will gain experience gathering your own data set (specifically images of hand gestures), and understand the challenges involved in the data cleaning process. In Part B you will train a convolutional neural network to make classifications on different hand gestures. By the end of the lab, you should be able to:\n",
    "\n",
    "1. Generate and preprocess your own data\n",
    "2. Load and split data for training, validation and testing\n",
    "3. Train a Convolutional Neural Network\n",
    "4. Apply transfer learning to improve your model\n",
    "\n",
    "Note that for this lab we will not be providing you with any starter code. You should be able to take the code used in previous labs, tutorials and lectures and modify it accordingly to complete the tasks outlined below.\n",
    "\n",
    "### What to submit\n",
    "\n",
    "**Submission for Part A:**  \n",
    "Submit a zip file containing your images. Three images each of American Sign Language gestures for letters A - I (total of 27 images). You will be required to clean the images before submitting them. Details are provided under Part A of the handout.\n",
    "\n",
    "Individual image file names should follow the convention of student-number_Alphabet_file-number.jpg\n",
    "(e.g. 100343434_A_1.jpg).\n",
    "\n",
    "\n",
    "**Submission for Part B:**  \n",
    "Submit a PDF file containing all your code, outputs, and write-up\n",
    "from parts 1-5. You can produce a PDF of your Google Colab file by\n",
    "going to **File > Print** and then save as PDF. The Colab instructions\n",
    "has more information. Make sure to review the PDF submission to ensure that your answers are easy to read. Make sure that your text is not cut off at the margins. \n",
    "\n",
    "**Do not submit any other files produced by your code.**\n",
    "\n",
    "Include a link to your colab file in your submission.\n",
    "\n",
    "Please use Google Colab to complete this assignment. If you want to use Jupyter Notebook, please complete the assignment and upload your Jupyter Notebook file to Google Colab for submission. "
   ]
  },
  {
   "cell_type": "markdown",
   "metadata": {
    "colab_type": "text",
    "id": "LfiFE_WOqIDu"
   },
   "source": [
    "## Colab Link\n",
    "\n",
    "Include a link to your colab file here\n",
    "\n",
    "Colab Link: https://colab.research.google.com/drive/1Dm2YY4k0LXMzp9Y-D7XjD_RC5ClAFBgG?usp=sharing"
   ]
  },
  {
   "cell_type": "markdown",
   "metadata": {
    "colab_type": "text",
    "id": "kvTXpH_kqIDy"
   },
   "source": [
    "## Part A. Data Collection [10 pt]\n",
    "\n",
    "So far, we have worked with data sets that have been collected, cleaned, and curated by machine learning\n",
    "researchers and practitioners. Datasets like MNIST and CIFAR are often used as toy examples, both by\n",
    "students and by researchers testing new machine learning models.\n",
    "\n",
    "In the real world, getting a clean data set is never that easy. More than half the work in applying machine\n",
    "learning is finding, gathering, cleaning, and formatting your data set.\n",
    "\n",
    "The purpose of this lab is to help you gain experience gathering your own data set, and understand the\n",
    "challenges involved in the data cleaning process.\n",
    "\n",
    "### American Sign Language\n",
    "\n",
    "American Sign Language (ASL) is a complete, complex language that employs signs made by moving the\n",
    "hands combined with facial expressions and postures of the body. It is the primary language of many\n",
    "North Americans who are deaf and is one of several communication options used by people who are deaf or\n",
    "hard-of-hearing.\n",
    "\n",
    "The hand gestures representing English alphabet are shown below. This lab focuses on classifying a subset\n",
    "of these hand gesture images using convolutional neural networks. Specifically, given an image of a hand\n",
    "showing one of the letters A-I, we want to detect which letter is being represented.\n",
    "\n",
    "![alt text](https://www.disabled-world.com/pics/1/asl-alphabet.jpg)\n",
    "\n",
    "\n",
    "### Generating Data\n",
    "We will produce the images required for this lab by ourselves. Each student will collect, clean and submit\n",
    "three images each of Americal Sign Language gestures for letters A - I (total of 27 images)\n",
    "Steps involved in data collection\n",
    "\n",
    "1. Familiarize yourself with American Sign Language gestures for letters from A - I (9 letters).\n",
    "2. Take three pictures at slightly different orientation for each letter gesture using your\n",
    "mobile phone.\n",
    " - Ensure adequate lighting while you are capturing the images.\n",
    " - Use a white wall as your background.\n",
    " - Use your right hand to create gestures (for consistency).\n",
    " - Keep your right hand fairly apart from your body and any other obstructions.\n",
    " - Avoid having shadows on parts of your hand.\n",
    "3. Transfer the images to your laptop for cleaning.\n",
    "\n",
    "### Cleaning Data\n",
    "To simplify the machine learning the task, we will standardize the training images. We will make sure that\n",
    "all our images are of the same size (224 x 224 pixels RGB), and have the hand in the center of the cropped\n",
    "regions.\n",
    "\n",
    "You may use the following applications to crop and resize your images:\n",
    "\n",
    "**Mac**\n",
    "- Use Preview:\n",
    "– Holding down CMD + Shift will keep a square aspect ratio while selecting the hand area.\n",
    "– Resize to 224x224 pixels.\n",
    "\n",
    "**Windows 10**\n",
    "- Use Photos app to edit and crop the image and keep the aspect ratio a square.\n",
    "- Use Paint to resize the image to the final image size of 224x224 pixels.\n",
    "\n",
    "**Linux**\n",
    "- You can use GIMP, imagemagick, or other tools of your choosing.\n",
    "You may also use online tools such as http://picresize.com\n",
    "All the above steps are illustrative only. You need not follow these steps but following these will ensure that\n",
    "you produce a good quality dataset. You will be judged based on the quality of the images alone.\n",
    "Please do not edit your photos in any other way. You should not need to change the aspect ratio of your\n",
    "image. You also should not digitally remove the background or shadows—instead, take photos with a white\n",
    "background and minimal shadows.\n",
    "\n",
    "### Accepted Images\n",
    "Images will be accepted and graded based on the criteria below\n",
    "1. The final image should be size 224x224 pixels (RGB).\n",
    "2. The file format should be a .jpg file.\n",
    "3. The hand should be approximately centered on the frame.\n",
    "4. The hand should not be obscured or cut off.\n",
    "5. The photos follows the ASL gestures posted earlier.\n",
    "6. The photos were not edited in any other way (e.g. no electronic removal of shadows or background).\n",
    "\n",
    "### Submission\n",
    "Submit a zip file containing your images. There should be a total of 27 images (3 for each category)\n",
    "1. Individual image file names should follow the convention of student-number_Alphabet_file-number.jpg\n",
    "(e.g. 100343434_A_1.jpg)\n",
    "2. Zip all the images together and name it with the following convention: last-name_student-number.zip\n",
    "(e.g. last-name_100343434.zip).\n",
    "3. Submit the zipped folder.\n",
    "We will be anonymizing and combining the images that everyone submits. We will announce when the\n",
    "combined data set will be available for download.\n",
    "\n",
    "![alt text](https://github.com/UTNeural/APS360/blob/master/Gesture%20Images.PNG?raw=true)"
   ]
  },
  {
   "cell_type": "markdown",
   "metadata": {
    "colab_type": "text",
    "id": "bJxMgWGNqID2"
   },
   "source": [
    "## Part B. Building a CNN [50 pt]\n",
    "\n",
    "For this lab, we are not going to give you any starter code. You will be writing a convolutional neural network\n",
    "from scratch. You are welcome to use any code from previous labs, lectures and tutorials. You should also\n",
    "write your own code.\n",
    "\n",
    "You may use the PyTorch documentation freely. You might also find online tutorials helpful. However, all\n",
    "code that you submit must be your own.\n",
    "\n",
    "Make sure that your code is vectorized, and does not contain obvious inefficiencies (for example, unecessary\n",
    "for loops, or unnecessary calls to unsqueeze()). Ensure enough comments are included in the code so that\n",
    "your TA can understand what you are doing. It is your responsibility to show that you understand what you\n",
    "write.\n",
    "\n",
    "**This is much more challenging and time-consuming than the previous labs.** Make sure that you\n",
    "give yourself plenty of time by starting early."
   ]
  },
  {
   "cell_type": "markdown",
   "metadata": {},
   "source": [
    "# NOTE: My source code\n",
    "\n",
    "Below I'm including my source code that contain all the import's of module dependencies, class definitions, helper functions, etc.\n",
    "\n",
    "I will call functions from here throughout the rest of the assignment."
   ]
  },
  {
   "cell_type": "code",
   "execution_count": 12,
   "metadata": {},
   "outputs": [],
   "source": [
    "'''\n",
    "Owner: Mithun Jothiravi \n",
    "Student #: 1002321258\n",
    "Purpose: Code contains the CNN implementating for Gesture Dataset - Lab 3B\n",
    "'''\n",
    "\n",
    "import numpy as np\n",
    "import time\n",
    "import torch\n",
    "import torch.nn as nn\n",
    "import torch.nn.functional as F\n",
    "import torch.optim as optim\n",
    "import torchvision\n",
    "from torch.utils.data.sampler import SubsetRandomSampler\n",
    "import torchvision.transforms as transforms\n",
    "import matplotlib.pyplot as plt\n",
    "import sys\n",
    "import os\n",
    "import torchvision.models\n",
    "\n",
    "torch.manual_seed(100) # Set the seed to ensure reproducibility of results\n",
    "\n",
    "########## Environment variables and classes ##########\n",
    "class HandCNN(nn.Module):\n",
    "    def __init__(self):\n",
    "        super(HandCNN, self).__init__()\n",
    "        self.name = \"HandCNN\"\n",
    "        self.conv1 = nn.Conv2d(3, 5, 5)\n",
    "        self.pool = nn.MaxPool2d(2, 2)\n",
    "        self.conv2 = nn.Conv2d(5, 10, 5)\n",
    "\n",
    "        self.fc1 = nn.Linear(10 * 53 * 53, 32)\n",
    "        self.fc2 = nn.Linear(32, 9)\n",
    "\n",
    "    def forward(self, img):\n",
    "        x = self.pool(F.relu(self.conv1(img)))\n",
    "        x = self.pool(F.relu(self.conv2(x)))\n",
    "        x = x.view(-1, 10 * 53 * 53)\n",
    "        x = F.relu(self.fc1(x))\n",
    "        x = self.fc2(x)\n",
    "        return x\n",
    "\n",
    "class AlexNetClassifier(nn.Module):\n",
    "    def __init__(self):\n",
    "        super(AlexNetClassifier, self).__init__()\n",
    "        self.name= \"AlexNetClassifier\"\n",
    "        self.fc1 = nn.Linear(256 * 6 * 6, 10)\n",
    "        self.fc2 = nn.Linear(10, 5)\n",
    "\n",
    "    def forward(self, x):\n",
    "        x = x.view(-1, 256 * 6 * 6) #flatten feature data\n",
    "        x = F.relu(self.fc1(x))\n",
    "        x = self.fc2(x)\n",
    "        return x\n",
    "\n",
    "########## Helper functions start here ##########\n",
    "def load_dataset(batch_size=1, overfit_test=False):\n",
    "    '''\n",
    "    param: batch_size <int>\n",
    "    param: overfit_test <bool> - This for is for question 1. c) of the lab where we want to overfit to the small dataset.\n",
    "    return: \n",
    "        train_loader, val_loader, test_loader <torch.utils.data.dataloader.DataLoader> : These are the results of the  \n",
    "            torch.DataLoader utility. These can be parsed using the same method as iterable-style Python datatypes.\n",
    "    '''\n",
    "    # Filepaths for training/val and holdout test data\n",
    "    train_val_fp = './data/Lab_3b_Gesture_Dataset_train_val'\n",
    "    holdout_test_fp = './data/Lab_3b_Gesture_Dataset_holdout_test'\n",
    "    small_dataset_fp = './data/small_dataset'\n",
    "\n",
    "    # Transform Settings - From Lab_3b_Sample_Training_Code\n",
    "    transform = transforms.Compose([transforms.Resize((224,224)), \n",
    "                                    transforms.ToTensor()])\n",
    "\n",
    "    # Generate train/val dataset\n",
    "    if not overfit_test:\n",
    "        dataset = torchvision.datasets.ImageFolder(\n",
    "            root=train_val_fp,\n",
    "            transform=transform\n",
    "        )\n",
    "    else:\n",
    "        dataset = torchvision.datasets.ImageFolder(\n",
    "            root=small_dataset_fp,\n",
    "            transform=transform\n",
    "        )\n",
    "    dataset_indices = list(range(0,len(dataset)))\n",
    "\n",
    "\n",
    "    # Split into train and validation\n",
    "    np.random.seed(500) # Fixed numpy random seed for reproducible shuffling\n",
    "    np.random.shuffle(dataset_indices) # Randomize the elements if the dataset_indices data structure\n",
    "\n",
    "    # 80-20 split was recommended between training and test set: https://developers.google.com/machine-learning/crash-course/training-and-test-sets/splitting-data\n",
    "    split = int(len(dataset_indices) * 0.8) \n",
    "\n",
    "    # Split dataset into training and validation (val set will be spli further)\n",
    "    relevant_train_indices, relevant_val_indices = dataset_indices[:split], dataset_indices[split:]  \n",
    "\n",
    "    # SubsetRandomSampler: Samples elements randomly from a given list of indices, without replacement.\n",
    "    train_sampler = SubsetRandomSampler(relevant_train_indices)\n",
    "    \n",
    "    train_loader = torch.utils.data.DataLoader(dataset, batch_size=batch_size,\n",
    "                                               num_workers=0, sampler=train_sampler)\n",
    "    val_sampler = SubsetRandomSampler(relevant_val_indices)\n",
    "    val_loader = torch.utils.data.DataLoader(dataset, batch_size=batch_size,\n",
    "                                              num_workers=0, sampler=val_sampler)\n",
    "\n",
    "    if not overfit_test:\n",
    "        # Load holdout test dataset\n",
    "        testset = torchvision.datasets.ImageFolder(\n",
    "            root=holdout_test_fp,\n",
    "            transform=transform\n",
    "        )\n",
    "        # Get the list of indices to sample from\n",
    "        test_sampler = SubsetRandomSampler(testset)\n",
    "        test_loader = torch.utils.data.DataLoader(testset, batch_size=batch_size,\n",
    "                                                num_workers=0, sampler=test_sampler)\n",
    "\n",
    "        return train_loader, val_loader, test_loader\n",
    "    else:\n",
    "        # For the overfit question, there is no need for a holdout test dataloader object.\n",
    "        return train_loader, val_loader, None\n",
    "\n",
    "def get_accuracy(model, data_loader, train_alexNet = False, ALNC = None):\n",
    "    '''\n",
    "    param: model <class> - This is the NN architecture\n",
    "    param: data_loader <torch.utils.data> - This is the data loader object\n",
    "    param: train_alexNet <bool> - AlexNET training requires being fed into a different pipeline.\n",
    "    param: ALNC <class> - AlexNet without classifier, used is train_alexNet is True\n",
    "    return: The accuracy results of the model\n",
    "    Accuracy function was sourced from the Lab_3b_Sample_Training_Code.html handout\n",
    "    '''\n",
    "    correct = 0\n",
    "    total = 0\n",
    "\n",
    "    for imgs, labels in data_loader:\n",
    "        \n",
    "        if train_alexNet:\n",
    "            output = model(ALNC(imgs))\n",
    "        else:\n",
    "            output = model(imgs)\n",
    "\n",
    "        #select index with maximum prediction score\n",
    "        pred = output.max(1, keepdim=True)[1]\n",
    "        correct += pred.eq(labels.view_as(pred)).sum().item()\n",
    "        total += imgs.shape[0]\n",
    "\n",
    "    return correct / total\n",
    "\n",
    "def get_model_name(name, batch_size, learning_rate, epoch):\n",
    "    '''\n",
    "    param: name <str> - Name given by the user for this trial\n",
    "    param: batch_size <int> - Training parameter specified by the user\n",
    "    param: learning_rate <float> - Training parameter specified by the user\n",
    "    param: epoch <int> - Training parameter specified by the user\n",
    "    return: path <str> -  A string with the hyperparameter name and value concatenated\n",
    "    Generate a name for the model consisting of all the hyperparameter values\n",
    "    Function taken from Lab_2_Cats_vs_Dogs\n",
    "    '''\n",
    "    path = \"model_{0}_bs{1}_lr{2}_epoch{3}\".format(name, batch_size, learning_rate, epoch)\n",
    "\n",
    "    return path\n",
    "\n",
    "def plot_curves(dataX, dataY, dataX_title, dataY_title, plot_title):\n",
    "    '''\n",
    "    param: dataX <list> - List of values to plot on the x-axis\n",
    "    param: dataY <list> - List of values to plot on the y-axis\n",
    "    param: dataX_title <str> - Title for the x-axis\n",
    "    param: dataY_title <str> - Title for the y-axis\n",
    "    param: plot_title <str> - Title for the entire plot\n",
    "    return: None\n",
    "\n",
    "    Given data, this function will generate a plot.\n",
    "    '''\n",
    "    plt.title(plot_title)\n",
    "    plt.plot(dataX, dataY,'ro', label=dataX_title)\n",
    "    plt.xlabel(dataX_title)\n",
    "    plt.ylabel(dataY_title)\n",
    "    plt.legend(loc='best')\n",
    "    plt.show()\n",
    "    print(\"Plot generated for: {} vs. {}\".format(dataX_title, dataY_title))\n",
    "\n",
    "    return\n",
    "\n",
    "def test_net(model, test_loader, trial_name = None, batch_size=1, num_epochs=1, learn_rate = 0.001, momentum = 0.9, train_alexNet = False, ALNC = None, overfit_test = False, plot=False):\n",
    "    '''\n",
    "    param: model <class> - NN architecture specified by the user.\n",
    "    param: test_loader <torch.utils.data> - This is the data loader object\n",
    "    param: trial_name <str> - User can specify a trial name to store all the backup log files that are generated\n",
    "    param: batch_size <int> - Training parameter specified by the user\n",
    "    param: learning_rate <float> - Training parameter specified by the user\n",
    "    param: epoch <int> - Training parameter specified by the use\n",
    "    param: momentum <float> - Training parameter specified by the use\n",
    "    param: train_alexNet <bool> - AlexNET training requires being fed into a different pipeline.\n",
    "    param: ALNC <class> - AlexNet without classifier, used is train_alexNet is True\n",
    "    param: overfit_false <bool> - If we want to perform overfit test as requested in question 1.c), set as True\n",
    "    param: plot <bool> - If the user requests a plot for the trial.\n",
    "    return: test_acc <float> - The testing accuracy\n",
    "\n",
    "    Given a holdout test dataset, and a NN architecture, determine the accuracy of trained model.\n",
    "    Code was referenced from Lab.\n",
    "    '''\n",
    "        # Training with the AlexNet feature pipeline requires different configs\n",
    "    if train_alexNet:\n",
    "        torch.manual_seed(333) # set the random seed\n",
    "        criterion = nn.CrossEntropyLoss()\n",
    "        optimizer = optim.SGD(model.parameters(), lr=learn_rate, momentum=momentum)\n",
    "\n",
    "        iters, losses, test_acc = [], [], []\n",
    "\n",
    "        # training\n",
    "        n = 0 # the number of iterations\n",
    "        start_time=time.time()\n",
    "        for epoch in range(num_epochs):\n",
    "            mini_b=0\n",
    "            mini_batch_correct = 0\n",
    "            Mini_batch_total = 0\n",
    "            for imgs, labels in iter(test_loader):\n",
    "            \n",
    "            #### ALNC is alexNet.features (AlexNet without classifier) ####\n",
    "            \n",
    "                out = model(ALNC(imgs))             # forward pass\n",
    "                loss = criterion(out, labels) # compute the total loss\n",
    "                loss.backward()               # backward pass (compute parameter updates)\n",
    "                optimizer.step()              # make the updates for each parameter\n",
    "                optimizer.zero_grad()         # a clean up step for PyTorch\n",
    "\n",
    "            # save the current training information\n",
    "                iters.append(n)\n",
    "                losses.append(float(loss)/batch_size)             # compute *average* loss\n",
    "                test_acc.append(get_accuracy(model, test_loader, train_alexNet = True, ALNC = ALNC))  # compute validation accuracy\n",
    "                n += 1\n",
    "                mini_b += 1\n",
    "                print(\"Iteration: \",n,'Progress: % 6.2f ' % ((epoch * len(test_loader) + mini_b) / (num_epochs * len(test_loader))*100),'%', \"Time Elapsed: % 6.2f s \" % (time.time()-start_time))\n",
    "\n",
    "\n",
    "            print (\"Epoch %d Finished. \" % epoch ,\"Time per Epoch: % 6.2f s \"% ((time.time()-start_time) / (epoch +1)))\n",
    "\n",
    "\n",
    "        end_time= time.time()\n",
    "        \n",
    "        test_acc.append(get_accuracy(model, test_loader, train_alexNet = True, ALNC = ALNC))\n",
    "        print(\"Final Testing Accuracy: {}\".format(test_acc[-1]))\n",
    "        print (\"Total time:  % 6.2f s  Time per Epoch: % 6.2f s \" % ( (end_time-start_time), ((end_time-start_time) / num_epochs) ))\n",
    "\n",
    "        return\n",
    "\n",
    "    else:\n",
    "\n",
    "        # If a trial_name is defined, a directory will be created to store all the log files.\n",
    "        if trial_name and not os.path.exists('./checkpoints/{}'.format(trial_name)):\n",
    "            os.mkdir('./checkpoints/{}'.format(trial_name))\n",
    "\n",
    "        torch.manual_seed(444)\n",
    "        criterion = nn.CrossEntropyLoss()\n",
    "        optimizer = optim.Adam(model.parameters(), lr=learn_rate)\n",
    "\n",
    "        test_acc = []\n",
    "\n",
    "        # training\n",
    "        print (\"Training Started...\")\n",
    "        n = 0 # the number of iterations\n",
    "        for epoch in range(num_epochs):\n",
    "            for imgs, labels in iter(test_loader):\n",
    "                \n",
    "                out = model(imgs)             # forward pass\n",
    "                loss = criterion(out, labels) # compute the total loss\n",
    "                loss.backward()               # backward pass (compute parameter updates)\n",
    "                optimizer.step()              # make the updates for each parameter\n",
    "                optimizer.zero_grad()         # a clean up step for PyTorch\n",
    "                n += 1\n",
    "            \n",
    "            # track accuracy\n",
    "            test_acc.append(get_accuracy(model, test_loader))\n",
    "            print(\"Epoch: {}, Testing Accuracy: {}\".format(epoch, test_acc[-1])) \n",
    "\n",
    "            # Backup the checkpoint for this epoch\n",
    "            model_path = get_model_name(model.name, batch_size, learn_rate, epoch)\n",
    "            torch.save(model.state_dict(), \"./checkpoints/{}/{}\".format(trial_name, model_path)) if trial_name else torch.save(model.state_dict(), model_path)\n",
    "        \n",
    "        # Plot results if specified\n",
    "        if plot:\n",
    "            print('Generating plots for Test accuracy results.')\n",
    "            plot_curves(list(range(num_epochs)), test_acc, \"Epochs\", \"Testing Accuracy\", \"Relationship between Epochs and Testing Accuracy\") # Plot training curve\n",
    "\n",
    "        return test_acc\n",
    "\n",
    "def train_net(model, train_loader, val_loader, trial_name = None, batch_size=1, num_epochs=1, learn_rate = 0.001, momentum= 0.9, train_alexNet = False, ALNC = None, overfit_test = False, plot=False):\n",
    "    '''\n",
    "    param: model <class> - NN architecture specified by the user.\n",
    "    param: train_loader, test_loader <torch.utils.data> - This is the data loader object\n",
    "    param: trial_name <str> - User can specify a trial name to store all the backup log files that are generated\n",
    "    param: batch_size <int> - Training parameter specified by the user\n",
    "    param: learning_rate <float> - Training parameter specified by the user\n",
    "    param: epoch <int> - Training parameter specified by the use\n",
    "    param: momentum <float> - Training parameter specified by the use\n",
    "    param: train_alexNet <bool> - AlexNET training requires being fed into a different pipeline.\n",
    "    param: ALNC <class> - AlexNet without classifier, used is train_alexNet is True\n",
    "    param: overfit_false <bool> - If we want to perform overfit test as requested in question 1.c), set as True\n",
    "    param: plot <bool> - If the user requests a plot for the trial.\n",
    "    Training function was sourced from the Lab_3b_Sample_Training_Code.html handout.\n",
    "    '''\n",
    "\n",
    "    # Training with the AlexNet feature pipeline requires different configs\n",
    "    if train_alexNet:\n",
    "        torch.manual_seed(501) # set the random seed\n",
    "        criterion = nn.CrossEntropyLoss()\n",
    "        optimizer = optim.SGD(model.parameters(), lr=learn_rate, momentum=momentum)\n",
    "\n",
    "        iters, losses, train_acc, val_acc = [], [], [], []\n",
    "\n",
    "        # training\n",
    "        n = 0 # the number of iterations\n",
    "        start_time=time.time()\n",
    "        for epoch in range(num_epochs):\n",
    "            mini_b=0\n",
    "            mini_batch_correct = 0\n",
    "            Mini_batch_total = 0\n",
    "            for imgs, labels in iter(train_loader):\n",
    "            \n",
    "            #### ALNC is alexNet.features (AlexNet without classifier) ####\n",
    "            \n",
    "                out = model(ALNC(imgs))             # forward pass\n",
    "                loss = criterion(out, labels) # compute the total loss\n",
    "                loss.backward()               # backward pass (compute parameter updates)\n",
    "                optimizer.step()              # make the updates for each parameter\n",
    "                optimizer.zero_grad()         # a clean up step for PyTorch\n",
    "\n",
    "\n",
    "\n",
    "                ##### Mini_batch Accuracy ##### We don't compute accuracy on the whole trainig set in every iteration!\n",
    "                pred = out.max(1, keepdim=True)[1]\n",
    "                mini_batch_correct = pred.eq(labels.view_as(pred)).sum().item()\n",
    "                Mini_batch_total = imgs.shape[0]\n",
    "                train_acc.append((mini_batch_correct / Mini_batch_total))\n",
    "            ###########################\n",
    "\n",
    "            # save the current training information\n",
    "                iters.append(n)\n",
    "                losses.append(float(loss)/batch_size)             # compute *average* loss\n",
    "                val_acc.append(get_accuracy(model, val_loader, train_alexNet = True, ALNC = ALNC))  # compute validation accuracy\n",
    "                n += 1\n",
    "                mini_b += 1\n",
    "                print(\"Iteration: \",n,'Progress: % 6.2f ' % ((epoch * len(train_loader) + mini_b) / (num_epochs * len(train_loader))*100),'%', \"Time Elapsed: % 6.2f s \" % (time.time()-start_time))\n",
    "\n",
    "\n",
    "            print (\"Epoch %d Finished. \" % epoch ,\"Time per Epoch: % 6.2f s \"% ((time.time()-start_time) / (epoch +1)))\n",
    "\n",
    "\n",
    "        end_time= time.time()\n",
    "        \n",
    "        train_acc.append(get_accuracy(model, train_loader, train_alexNet = True, ALNC = ALNC))\n",
    "        print(\"Final Training Accuracy: {}\".format(train_acc[-1]))\n",
    "        print(\"Final Validation Accuracy: {}\".format(val_acc[-1]))\n",
    "        print (\"Total time:  % 6.2f s  Time per Epoch: % 6.2f s \" % ( (end_time-start_time), ((end_time-start_time) / num_epochs) ))\n",
    "\n",
    "        return\n",
    "\n",
    "    else:\n",
    "\n",
    "        # If a trial_name is defined, a directory will be created to store all the log files.\n",
    "        if trial_name and not os.path.exists('./checkpoints/{}'.format(trial_name)):\n",
    "            os.mkdir('./checkpoints/{}'.format(trial_name))\n",
    "\n",
    "        torch.manual_seed(1000)\n",
    "        criterion = nn.CrossEntropyLoss()\n",
    "        optimizer = optim.Adam(model.parameters(), lr=learn_rate)\n",
    "\n",
    "        train_acc, val_acc = [], []\n",
    "\n",
    "        # training\n",
    "        print (\"Training Started...\")\n",
    "        n = 0 # the number of iterations\n",
    "        for epoch in range(num_epochs):\n",
    "            for imgs, labels in iter(train_loader):\n",
    "                \n",
    "                out = model(imgs)             # forward pass\n",
    "                loss = criterion(out, labels) # compute the total loss\n",
    "                loss.backward()               # backward pass (compute parameter updates)\n",
    "                optimizer.step()              # make the updates for each parameter\n",
    "                optimizer.zero_grad()         # a clean up step for PyTorch\n",
    "                n += 1\n",
    "            \n",
    "            # track accuracy\n",
    "            train_acc.append(get_accuracy(model, train_loader))\n",
    "            val_acc.append(get_accuracy(model, val_loader))\n",
    "            print(\"Epoch: {}, Training Accuracy: {}, Validation Accuracy: {}\".format(epoch, train_acc[-1], val_acc[-1])) if not overfit_test else  print(\"Epoch: {}, Training Accuracy: {}\".format(epoch, train_acc[-1]))\n",
    "\n",
    "            # Backup the checkpoint for this epoch\n",
    "            model_path = get_model_name(model.name, batch_size, learn_rate, epoch)\n",
    "            torch.save(model.state_dict(), \"./checkpoints/{}/{}\".format(trial_name, model_path)) if trial_name else torch.save(model.state_dict(), model_path)\n",
    "        \n",
    "        # Plot results if specified\n",
    "        if plot:\n",
    "            print('Generating plots for Training and Validation accuracy results.')\n",
    "            plot_curves(list(range(num_epochs)), train_acc, \"Epochs\", \"Training Accuracy\", \"Relationship between Epochs and Training Accuracy\") # Plot training curve\n",
    "            plot_curves(list(range(num_epochs)), val_acc, \"Epochs\", \"Validation Accuracy\", \"Relationship between Epochs and Validation Accuracy\") # Plot validation curve\n",
    "\n",
    "        #return train_acc, val_acc\n",
    "        return "
   ]
  },
  {
   "cell_type": "markdown",
   "metadata": {
    "colab_type": "text",
    "id": "MiDuQaAh56sT"
   },
   "source": [
    "### 1. Data Loading and Splitting [5 pt]\n",
    "\n",
    "Download the anonymized data provided on Quercus. To allow you to get a heads start on this project we will provide you with sample data from previous years. Split the data into training, validation, and test sets.\n",
    "\n",
    "Note: Data splitting is not as trivial in this lab. We want our test set to closely resemble the setting in which\n",
    "our model will be used. In particular, our test set should contain hands that are never seen in training!\n",
    "\n",
    "Explain how you split the data, either by describing what you did, or by showing the code that you used.\n",
    "Justify your choice of splitting strategy. How many training, validation, and test images do you have?\n",
    "\n",
    "For loading the data, you can use plt.imread as in Lab 1, or any other method that you choose. You may find\n",
    "torchvision.datasets.ImageFolder helpful. (see https://pytorch.org/docs/master/torchvision/datasets.html#imagefolder\n",
    ") "
   ]
  },
  {
   "cell_type": "markdown",
   "metadata": {},
   "source": [
    "# Explanation\n",
    "\n",
    "- 80-20 split was recommended between training and test set: https://developers.google.com/machine-learning/crash-course/training-and-test-sets/splitting-data\n",
    "- Holdout test set came from the images that I submitted in Lab 3A.\n",
    "- I've printed the number of images I have in each split below."
   ]
  },
  {
   "cell_type": "code",
   "execution_count": 8,
   "metadata": {
    "colab": {},
    "colab_type": "code",
    "id": "WBrH5kBqRLa6"
   },
   "outputs": [
    {
     "name": "stdout",
     "output_type": "stream",
     "text": [
      "# of training data: 1944,\n",
      "# of validation data: 487,\n",
      "# of holdout test data: 27\n"
     ]
    }
   ],
   "source": [
    "# Load the data for training, validation, and holdout test set\n",
    "train_data, val_data, test_data = load_dataset(batch_size=1) \n",
    "\n",
    "print(\"# of training data: {},\\n# of validation data: {},\\n# of holdout test data: {}\".format(len(train_data), len(val_data), len(test_data)))"
   ]
  },
  {
   "cell_type": "markdown",
   "metadata": {
    "colab_type": "text",
    "id": "5VWX4DGY5gQE"
   },
   "source": [
    "### 2. Model Building and Sanity Checking [15 pt]\n",
    "\n",
    "### Part (a) Convolutional Network - 5 pt\n",
    "\n",
    "Build a convolutional neural network model that takes the (224x224 RGB) image as input, and predicts the gesture\n",
    "letter. Your model should be a subclass of nn.Module. Explain your choice of neural network architecture: how\n",
    "many layers did you choose? What types of layers did you use? Were they fully-connected or convolutional?\n",
    "What about other decisions like pooling layers, activation functions, number of channels / hidden units?"
   ]
  },
  {
   "cell_type": "markdown",
   "metadata": {},
   "source": [
    "# Explanation\n",
    "```\n",
    "class HandCNN(nn.Module):\n",
    "    def __init__(self):\n",
    "        super(HandCNN, self).__init__()\n",
    "        self.name = \"HandCNN\"\n",
    "        self.conv1 = nn.Conv2d(3, 5, 5)\n",
    "        self.pool = nn.MaxPool2d(2, 2)\n",
    "        self.conv2 = nn.Conv2d(5, 10, 5)\n",
    "\n",
    "        self.fc1 = nn.Linear(10 * 53 * 53, 32)\n",
    "        self.fc2 = nn.Linear(32, 9)\n",
    "\n",
    "    def forward(self, img):\n",
    "        x = self.pool(F.relu(self.conv1(img)))\n",
    "        x = self.pool(F.relu(self.conv2(x)))\n",
    "        x = x.view(-1, 10 * 53 * 53)\n",
    "        x = F.relu(self.fc1(x))\n",
    "        x = self.fc2(x)\n",
    "        return \n",
    "```\n",
    "\n",
    "- Architecture was given from the announcement earlier this week.\n",
    "- Num. of layers: \n",
    "    - Assuming a layer consist of tunable weights = 4 layers in total: 2 convolutional layers and 2 fully connected layers.\n",
    "    - There are 2 pooling layers.\n",
    "    - Hidden units (tunable weights): 5*5 (kernel #1) + 2*2 (kernel #2) + 10 * 53 * 53 (fully connected layer #1) + 32 (fully connected layer #2)\n",
    "    = 28151"
   ]
  },
  {
   "cell_type": "markdown",
   "metadata": {
    "colab_type": "text",
    "id": "XeGvelvb515e"
   },
   "source": [
    "### Part (b) Training Code - 5 pt\n",
    "\n",
    "Write code that trains your neural network given some training data. Your training code should make it easy\n",
    "to tweak the usual hyperparameters, like batch size, learning rate, and the model object itself. Make sure\n",
    "that you are checkpointing your models from time to time (the frequency is up to you). Explain your choice\n",
    "of loss function and optimizer."
   ]
  },
  {
   "cell_type": "markdown",
   "metadata": {
    "colab": {},
    "colab_type": "code",
    "id": "17YTQv4l54W1"
   },
   "source": [
    "# Explanation\n",
    "\n",
    "Search for **train_net** function in the helper function section.\n",
    "- Adam optimizer is proven to be the best as mentioned in lecture. \n",
    "- Cross entropy loss is meant for CNNs as mentioned in lecture."
   ]
  },
  {
   "cell_type": "markdown",
   "metadata": {
    "colab_type": "text",
    "id": "bk1RNgAj54rZ"
   },
   "source": [
    "### Part (c) “Overfit” to a Small Dataset - 5 pt\n",
    "\n",
    "One way to sanity check our neural network model and training code is to check whether the model is capable\n",
    "of “overfitting” or “memorizing” a small dataset. A properly constructed CNN with correct training code\n",
    "should be able to memorize the answers to a small number of images quickly.\n",
    "\n",
    "Construct a small dataset (e.g. just the images that you have collected). Then show that your model and\n",
    "training code is capable of memorizing the labels of this small data set.\n",
    "\n",
    "With a large batch size (e.g. the entire small dataset) and learning rate that is not too high, You should be\n",
    "able to obtain a 100% training accuracy on that small dataset relatively quickly (within 200 iterations)."
   ]
  },
  {
   "cell_type": "code",
   "execution_count": 11,
   "metadata": {
    "colab": {},
    "colab_type": "code",
    "id": "lXYRBhQO6d3u",
    "scrolled": false
   },
   "outputs": [
    {
     "name": "stdout",
     "output_type": "stream",
     "text": [
      "Training Started...\n",
      "Epoch: 0, Training Accuracy: 0.14285714285714285\n",
      "Epoch: 1, Training Accuracy: 0.2857142857142857\n",
      "Epoch: 2, Training Accuracy: 0.14285714285714285\n",
      "Epoch: 3, Training Accuracy: 0.14285714285714285\n",
      "Epoch: 4, Training Accuracy: 0.42857142857142855\n",
      "Epoch: 5, Training Accuracy: 0.2857142857142857\n",
      "Epoch: 6, Training Accuracy: 0.42857142857142855\n",
      "Epoch: 7, Training Accuracy: 0.7142857142857143\n",
      "Epoch: 8, Training Accuracy: 0.5714285714285714\n",
      "Epoch: 9, Training Accuracy: 0.7142857142857143\n",
      "Epoch: 10, Training Accuracy: 0.5714285714285714\n",
      "Epoch: 11, Training Accuracy: 0.7142857142857143\n",
      "Epoch: 12, Training Accuracy: 0.2857142857142857\n",
      "Epoch: 13, Training Accuracy: 0.5714285714285714\n",
      "Epoch: 14, Training Accuracy: 0.8571428571428571\n",
      "Epoch: 15, Training Accuracy: 0.5714285714285714\n",
      "Epoch: 16, Training Accuracy: 0.7142857142857143\n",
      "Epoch: 17, Training Accuracy: 0.7142857142857143\n",
      "Epoch: 18, Training Accuracy: 0.7142857142857143\n",
      "Epoch: 19, Training Accuracy: 0.7142857142857143\n",
      "Epoch: 20, Training Accuracy: 1.0\n",
      "Epoch: 21, Training Accuracy: 1.0\n",
      "Epoch: 22, Training Accuracy: 1.0\n",
      "Epoch: 23, Training Accuracy: 1.0\n",
      "Epoch: 24, Training Accuracy: 1.0\n",
      "Epoch: 25, Training Accuracy: 1.0\n",
      "Epoch: 26, Training Accuracy: 1.0\n",
      "Epoch: 27, Training Accuracy: 1.0\n",
      "Epoch: 28, Training Accuracy: 1.0\n",
      "Epoch: 29, Training Accuracy: 1.0\n",
      "Epoch: 30, Training Accuracy: 1.0\n",
      "Epoch: 31, Training Accuracy: 1.0\n",
      "Epoch: 32, Training Accuracy: 1.0\n",
      "Epoch: 33, Training Accuracy: 1.0\n",
      "Epoch: 34, Training Accuracy: 1.0\n",
      "Epoch: 35, Training Accuracy: 1.0\n",
      "Epoch: 36, Training Accuracy: 1.0\n",
      "Epoch: 37, Training Accuracy: 1.0\n",
      "Epoch: 38, Training Accuracy: 1.0\n",
      "Epoch: 39, Training Accuracy: 1.0\n",
      "Generating plots for Training and Validation accuracy results.\n"
     ]
    },
    {
     "data": {
      "image/png": "[encoded data removed]",
      "text/plain": [
       "<Figure size 432x288 with 1 Axes>"
      ]
     },
     "metadata": {
      "needs_background": "light"
     },
     "output_type": "display_data"
    },
    {
     "name": "stdout",
     "output_type": "stream",
     "text": [
      "Plot generated for: Epochs vs. Training Accuracy\n"
     ]
    }
   ],
   "source": [
    "# Call the CNN and AlexNet architecture class (subset of nn.module)\n",
    "hand_net = HandCNN()\n",
    "\n",
    "# Small dataset meant for overfitting - Question 1. c)\n",
    "train_data, val_data, test_data = load_dataset(batch_size=1, overfit_test=True) \n",
    "\n",
    "# Train and overfit the model\n",
    "train_net(hand_net, train_data, val_data, num_epochs=40, overfit_test = True, plot = True, trial_name=\"overfit_test\")"
   ]
  },
  {
   "cell_type": "markdown",
   "metadata": {
    "colab_type": "text",
    "id": "nvDLw-Vz6eVS"
   },
   "source": [
    "### 3. Hyperparameter Search [10 pt]\n",
    "\n",
    "### Part (a) - 1 pt\n",
    "\n",
    "List 3 hyperparameters that you think are most worth tuning. Choose at least one hyperparameter related to\n",
    "the model architecture."
   ]
  },
  {
   "cell_type": "markdown",
   "metadata": {
    "colab": {},
    "colab_type": "code",
    "id": "HXRQbgMqR_Qy"
   },
   "source": [
    "# Explanation\n",
    "\n",
    "1. Number of epochs\n",
    "2. Learning rate\n",
    "3. Momentum\n",
    "\n",
    "I'm going to choose **Learning Rate**."
   ]
  },
  {
   "cell_type": "markdown",
   "metadata": {
    "colab_type": "text",
    "id": "zeD6EzPB6kSW"
   },
   "source": [
    "### Part (b) - 5 pt\n",
    "\n",
    "Tune the hyperparameters you listed in Part (a), trying as many values as you need to until you feel satisfied\n",
    "that you are getting a good model. Plot the training curve of at least 4 different hyperparameter settings.\n",
    "\n",
    "# Explanation\n",
    "\n",
    "**NOTE:** I chose an epoch of 5 because time is limited right now."
   ]
  },
  {
   "cell_type": "code",
   "execution_count": 19,
   "metadata": {
    "colab": {},
    "colab_type": "code",
    "id": "UkvdR-cB6nzm",
    "scrolled": false
   },
   "outputs": [
    {
     "name": "stdout",
     "output_type": "stream",
     "text": [
      "\n",
      "Starting training for Learning rate = 0.1 \n",
      "\n",
      "Training Started...\n",
      "Epoch: 0, Training Accuracy: 0.1095679012345679, Validation Accuracy: 0.12320328542094455\n",
      "Epoch: 1, Training Accuracy: 0.102880658436214, Validation Accuracy: 0.10061601642710473\n",
      "Epoch: 2, Training Accuracy: 0.10853909465020577, Validation Accuracy: 0.1273100616016427\n",
      "Epoch: 3, Training Accuracy: 0.11316872427983539, Validation Accuracy: 0.10677618069815195\n",
      "Epoch: 4, Training Accuracy: 0.11213991769547325, Validation Accuracy: 0.11293634496919917\n",
      "Epoch: 5, Training Accuracy: 0.11316872427983539, Validation Accuracy: 0.10882956878850103\n",
      "Epoch: 6, Training Accuracy: 0.11625514403292181, Validation Accuracy: 0.0944558521560575\n",
      "Epoch: 7, Training Accuracy: 0.11316872427983539, Validation Accuracy: 0.10882956878850103\n",
      "Epoch: 8, Training Accuracy: 0.11213991769547325, Validation Accuracy: 0.11293634496919917\n",
      "Epoch: 9, Training Accuracy: 0.11316872427983539, Validation Accuracy: 0.10677618069815195\n",
      "Epoch: 10, Training Accuracy: 0.10853909465020577, Validation Accuracy: 0.1273100616016427\n",
      "Epoch: 11, Training Accuracy: 0.11625514403292181, Validation Accuracy: 0.0944558521560575\n",
      "Epoch: 12, Training Accuracy: 0.1095679012345679, Validation Accuracy: 0.12320328542094455\n",
      "Epoch: 13, Training Accuracy: 0.11265432098765432, Validation Accuracy: 0.11088295687885011\n",
      "Epoch: 14, Training Accuracy: 0.11265432098765432, Validation Accuracy: 0.11088295687885011\n",
      "Epoch: 15, Training Accuracy: 0.102880658436214, Validation Accuracy: 0.10061601642710473\n",
      "Epoch: 16, Training Accuracy: 0.11316872427983539, Validation Accuracy: 0.10882956878850103\n",
      "Epoch: 17, Training Accuracy: 0.11162551440329219, Validation Accuracy: 0.11498973305954825\n",
      "Epoch: 18, Training Accuracy: 0.11316872427983539, Validation Accuracy: 0.10677618069815195\n",
      "Epoch: 19, Training Accuracy: 0.11316872427983539, Validation Accuracy: 0.10677618069815195\n",
      "Epoch: 20, Training Accuracy: 0.11213991769547325, Validation Accuracy: 0.11293634496919917\n",
      "Epoch: 21, Training Accuracy: 0.11265432098765432, Validation Accuracy: 0.11088295687885011\n",
      "Epoch: 22, Training Accuracy: 0.11316872427983539, Validation Accuracy: 0.10882956878850103\n",
      "Epoch: 23, Training Accuracy: 0.10853909465020577, Validation Accuracy: 0.1273100616016427\n",
      "Epoch: 24, Training Accuracy: 0.11162551440329219, Validation Accuracy: 0.11498973305954825\n",
      "Epoch: 25, Training Accuracy: 0.11625514403292181, Validation Accuracy: 0.0944558521560575\n",
      "Epoch: 26, Training Accuracy: 0.11265432098765432, Validation Accuracy: 0.11088295687885011\n",
      "Epoch: 27, Training Accuracy: 0.11316872427983539, Validation Accuracy: 0.10882956878850103\n",
      "Epoch: 28, Training Accuracy: 0.1095679012345679, Validation Accuracy: 0.12320328542094455\n",
      "Epoch: 29, Training Accuracy: 0.11316872427983539, Validation Accuracy: 0.10677618069815195\n",
      "Generating plots for Training and Validation accuracy results.\n"
     ]
    },
    {
     "data": {
      "image/png": "[encoded data removed]",
      "text/plain": [
       "<Figure size 432x288 with 1 Axes>"
      ]
     },
     "metadata": {
      "needs_background": "light"
     },
     "output_type": "display_data"
    },
    {
     "name": "stdout",
     "output_type": "stream",
     "text": [
      "Plot generated for: Epochs vs. Training Accuracy\n"
     ]
    },
    {
     "data": {
      "image/png": "[encoded data removed]",
      "text/plain": [
       "<Figure size 432x288 with 1 Axes>"
      ]
     },
     "metadata": {
      "needs_background": "light"
     },
     "output_type": "display_data"
    },
    {
     "name": "stdout",
     "output_type": "stream",
     "text": [
      "Plot generated for: Epochs vs. Validation Accuracy\n",
      "\n",
      "Starting training for Learning rate = 0.01 \n",
      "\n",
      "Training Started...\n",
      "Epoch: 0, Training Accuracy: 0.11162551440329219, Validation Accuracy: 0.11498973305954825\n",
      "Epoch: 1, Training Accuracy: 0.11265432098765432, Validation Accuracy: 0.11088295687885011\n",
      "Epoch: 2, Training Accuracy: 0.10853909465020577, Validation Accuracy: 0.1273100616016427\n",
      "Epoch: 3, Training Accuracy: 0.11625514403292181, Validation Accuracy: 0.0944558521560575\n",
      "Epoch: 4, Training Accuracy: 0.11316872427983539, Validation Accuracy: 0.10677618069815195\n",
      "Epoch: 5, Training Accuracy: 0.11162551440329219, Validation Accuracy: 0.11498973305954825\n",
      "Epoch: 6, Training Accuracy: 0.10853909465020577, Validation Accuracy: 0.1273100616016427\n",
      "Epoch: 7, Training Accuracy: 0.11316872427983539, Validation Accuracy: 0.10677618069815195\n",
      "Epoch: 8, Training Accuracy: 0.11625514403292181, Validation Accuracy: 0.0944558521560575\n",
      "Epoch: 9, Training Accuracy: 0.11316872427983539, Validation Accuracy: 0.10677618069815195\n",
      "Epoch: 10, Training Accuracy: 0.11625514403292181, Validation Accuracy: 0.0944558521560575\n",
      "Epoch: 11, Training Accuracy: 0.11625514403292181, Validation Accuracy: 0.0944558521560575\n",
      "Epoch: 12, Training Accuracy: 0.11625514403292181, Validation Accuracy: 0.0944558521560575\n",
      "Epoch: 13, Training Accuracy: 0.10853909465020577, Validation Accuracy: 0.1273100616016427\n",
      "Epoch: 14, Training Accuracy: 0.11265432098765432, Validation Accuracy: 0.11088295687885011\n",
      "Epoch: 15, Training Accuracy: 0.11162551440329219, Validation Accuracy: 0.11498973305954825\n",
      "Epoch: 16, Training Accuracy: 0.11316872427983539, Validation Accuracy: 0.10882956878850103\n",
      "Epoch: 17, Training Accuracy: 0.11625514403292181, Validation Accuracy: 0.0944558521560575\n",
      "Epoch: 18, Training Accuracy: 0.11316872427983539, Validation Accuracy: 0.10882956878850103\n",
      "Epoch: 19, Training Accuracy: 0.11625514403292181, Validation Accuracy: 0.0944558521560575\n",
      "Epoch: 20, Training Accuracy: 0.10853909465020577, Validation Accuracy: 0.1273100616016427\n",
      "Epoch: 21, Training Accuracy: 0.11316872427983539, Validation Accuracy: 0.10677618069815195\n",
      "Epoch: 22, Training Accuracy: 0.11625514403292181, Validation Accuracy: 0.0944558521560575\n",
      "Epoch: 23, Training Accuracy: 0.11316872427983539, Validation Accuracy: 0.10882956878850103\n",
      "Epoch: 24, Training Accuracy: 0.11316872427983539, Validation Accuracy: 0.10677618069815195\n",
      "Epoch: 25, Training Accuracy: 0.11625514403292181, Validation Accuracy: 0.0944558521560575\n",
      "Epoch: 26, Training Accuracy: 0.11625514403292181, Validation Accuracy: 0.0944558521560575\n",
      "Epoch: 27, Training Accuracy: 0.11316872427983539, Validation Accuracy: 0.10882956878850103\n",
      "Epoch: 28, Training Accuracy: 0.10853909465020577, Validation Accuracy: 0.1273100616016427\n",
      "Epoch: 29, Training Accuracy: 0.11316872427983539, Validation Accuracy: 0.10882956878850103\n",
      "Generating plots for Training and Validation accuracy results.\n"
     ]
    },
    {
     "data": {
      "image/png": "[encoded data removed]",
      "text/plain": [
       "<Figure size 432x288 with 1 Axes>"
      ]
     },
     "metadata": {
      "needs_background": "light"
     },
     "output_type": "display_data"
    },
    {
     "name": "stdout",
     "output_type": "stream",
     "text": [
      "Plot generated for: Epochs vs. Training Accuracy\n"
     ]
    },
    {
     "data": {
      "image/png": "[encoded data removed]",
      "text/plain": [
       "<Figure size 432x288 with 1 Axes>"
      ]
     },
     "metadata": {
      "needs_background": "light"
     },
     "output_type": "display_data"
    },
    {
     "name": "stdout",
     "output_type": "stream",
     "text": [
      "Plot generated for: Epochs vs. Validation Accuracy\n",
      "\n",
      "Starting training for Learning rate = 0.001 \n",
      "\n",
      "Training Started...\n",
      "Epoch: 0, Training Accuracy: 0.11316872427983539, Validation Accuracy: 0.10882956878850103\n",
      "Epoch: 1, Training Accuracy: 0.11625514403292181, Validation Accuracy: 0.0944558521560575\n",
      "Epoch: 2, Training Accuracy: 0.11625514403292181, Validation Accuracy: 0.0944558521560575\n",
      "Epoch: 3, Training Accuracy: 0.11625514403292181, Validation Accuracy: 0.0944558521560575\n",
      "Epoch: 4, Training Accuracy: 0.11625514403292181, Validation Accuracy: 0.0944558521560575\n",
      "Epoch: 5, Training Accuracy: 0.11625514403292181, Validation Accuracy: 0.0944558521560575\n",
      "Epoch: 6, Training Accuracy: 0.11625514403292181, Validation Accuracy: 0.0944558521560575\n",
      "Epoch: 7, Training Accuracy: 0.11625514403292181, Validation Accuracy: 0.0944558521560575\n",
      "Epoch: 8, Training Accuracy: 0.11625514403292181, Validation Accuracy: 0.0944558521560575\n",
      "Epoch: 9, Training Accuracy: 0.11625514403292181, Validation Accuracy: 0.0944558521560575\n",
      "Epoch: 10, Training Accuracy: 0.11625514403292181, Validation Accuracy: 0.0944558521560575\n",
      "Epoch: 11, Training Accuracy: 0.11625514403292181, Validation Accuracy: 0.0944558521560575\n",
      "Epoch: 12, Training Accuracy: 0.11625514403292181, Validation Accuracy: 0.0944558521560575\n",
      "Epoch: 13, Training Accuracy: 0.11625514403292181, Validation Accuracy: 0.0944558521560575\n",
      "Epoch: 14, Training Accuracy: 0.11625514403292181, Validation Accuracy: 0.0944558521560575\n",
      "Epoch: 15, Training Accuracy: 0.11625514403292181, Validation Accuracy: 0.0944558521560575\n",
      "Epoch: 16, Training Accuracy: 0.11625514403292181, Validation Accuracy: 0.0944558521560575\n",
      "Epoch: 17, Training Accuracy: 0.11625514403292181, Validation Accuracy: 0.0944558521560575\n",
      "Epoch: 18, Training Accuracy: 0.11625514403292181, Validation Accuracy: 0.0944558521560575\n",
      "Epoch: 19, Training Accuracy: 0.11625514403292181, Validation Accuracy: 0.0944558521560575\n",
      "Epoch: 20, Training Accuracy: 0.11625514403292181, Validation Accuracy: 0.0944558521560575\n",
      "Epoch: 21, Training Accuracy: 0.11625514403292181, Validation Accuracy: 0.0944558521560575\n",
      "Epoch: 22, Training Accuracy: 0.11625514403292181, Validation Accuracy: 0.0944558521560575\n",
      "Epoch: 23, Training Accuracy: 0.11625514403292181, Validation Accuracy: 0.0944558521560575\n",
      "Epoch: 24, Training Accuracy: 0.11625514403292181, Validation Accuracy: 0.0944558521560575\n",
      "Epoch: 25, Training Accuracy: 0.11625514403292181, Validation Accuracy: 0.0944558521560575\n",
      "Epoch: 26, Training Accuracy: 0.11625514403292181, Validation Accuracy: 0.0944558521560575\n",
      "Epoch: 27, Training Accuracy: 0.11625514403292181, Validation Accuracy: 0.0944558521560575\n",
      "Epoch: 28, Training Accuracy: 0.11625514403292181, Validation Accuracy: 0.0944558521560575\n",
      "Epoch: 29, Training Accuracy: 0.11625514403292181, Validation Accuracy: 0.0944558521560575\n",
      "Generating plots for Training and Validation accuracy results.\n"
     ]
    },
    {
     "data": {
      "image/png": "[encoded data removed]",
      "text/plain": [
       "<Figure size 432x288 with 1 Axes>"
      ]
     },
     "metadata": {
      "needs_background": "light"
     },
     "output_type": "display_data"
    },
    {
     "name": "stdout",
     "output_type": "stream",
     "text": [
      "Plot generated for: Epochs vs. Training Accuracy\n"
     ]
    },
    {
     "data": {
      "image/png": "[encoded data removed]",
      "text/plain": [
       "<Figure size 432x288 with 1 Axes>"
      ]
     },
     "metadata": {
      "needs_background": "light"
     },
     "output_type": "display_data"
    },
    {
     "name": "stdout",
     "output_type": "stream",
     "text": [
      "Plot generated for: Epochs vs. Validation Accuracy\n",
      "\n",
      "Starting training for Learning rate = 0.0001 \n",
      "\n",
      "Training Started...\n",
      "Epoch: 0, Training Accuracy: 0.11625514403292181, Validation Accuracy: 0.0944558521560575\n",
      "Epoch: 1, Training Accuracy: 0.11625514403292181, Validation Accuracy: 0.0944558521560575\n",
      "Epoch: 2, Training Accuracy: 0.11625514403292181, Validation Accuracy: 0.0944558521560575\n",
      "Epoch: 3, Training Accuracy: 0.11625514403292181, Validation Accuracy: 0.0944558521560575\n",
      "Epoch: 4, Training Accuracy: 0.11625514403292181, Validation Accuracy: 0.0944558521560575\n",
      "Epoch: 5, Training Accuracy: 0.11625514403292181, Validation Accuracy: 0.0944558521560575\n",
      "Epoch: 6, Training Accuracy: 0.11625514403292181, Validation Accuracy: 0.0944558521560575\n",
      "Epoch: 7, Training Accuracy: 0.11625514403292181, Validation Accuracy: 0.0944558521560575\n",
      "Epoch: 8, Training Accuracy: 0.11625514403292181, Validation Accuracy: 0.0944558521560575\n",
      "Epoch: 9, Training Accuracy: 0.11625514403292181, Validation Accuracy: 0.0944558521560575\n",
      "Epoch: 10, Training Accuracy: 0.11625514403292181, Validation Accuracy: 0.0944558521560575\n",
      "Epoch: 11, Training Accuracy: 0.11625514403292181, Validation Accuracy: 0.0944558521560575\n",
      "Epoch: 12, Training Accuracy: 0.11625514403292181, Validation Accuracy: 0.0944558521560575\n",
      "Epoch: 13, Training Accuracy: 0.11625514403292181, Validation Accuracy: 0.0944558521560575\n",
      "Epoch: 14, Training Accuracy: 0.11625514403292181, Validation Accuracy: 0.0944558521560575\n",
      "Epoch: 15, Training Accuracy: 0.11625514403292181, Validation Accuracy: 0.0944558521560575\n",
      "Epoch: 16, Training Accuracy: 0.11625514403292181, Validation Accuracy: 0.0944558521560575\n",
      "Epoch: 17, Training Accuracy: 0.11625514403292181, Validation Accuracy: 0.0944558521560575\n",
      "Epoch: 18, Training Accuracy: 0.11625514403292181, Validation Accuracy: 0.0944558521560575\n",
      "Epoch: 19, Training Accuracy: 0.11625514403292181, Validation Accuracy: 0.0944558521560575\n",
      "Epoch: 20, Training Accuracy: 0.11625514403292181, Validation Accuracy: 0.0944558521560575\n",
      "Epoch: 21, Training Accuracy: 0.11625514403292181, Validation Accuracy: 0.0944558521560575\n",
      "Epoch: 22, Training Accuracy: 0.11625514403292181, Validation Accuracy: 0.0944558521560575\n",
      "Epoch: 23, Training Accuracy: 0.11625514403292181, Validation Accuracy: 0.0944558521560575\n",
      "Epoch: 24, Training Accuracy: 0.11625514403292181, Validation Accuracy: 0.0944558521560575\n",
      "Epoch: 25, Training Accuracy: 0.11625514403292181, Validation Accuracy: 0.0944558521560575\n",
      "Epoch: 26, Training Accuracy: 0.11625514403292181, Validation Accuracy: 0.0944558521560575\n",
      "Epoch: 27, Training Accuracy: 0.11625514403292181, Validation Accuracy: 0.0944558521560575\n",
      "Epoch: 28, Training Accuracy: 0.11625514403292181, Validation Accuracy: 0.0944558521560575\n",
      "Epoch: 29, Training Accuracy: 0.11625514403292181, Validation Accuracy: 0.0944558521560575\n",
      "Generating plots for Training and Validation accuracy results.\n"
     ]
    },
    {
     "data": {
      "image/png": "[encoded data removed]",
      "text/plain": [
       "<Figure size 432x288 with 1 Axes>"
      ]
     },
     "metadata": {
      "needs_background": "light"
     },
     "output_type": "display_data"
    },
    {
     "name": "stdout",
     "output_type": "stream",
     "text": [
      "Plot generated for: Epochs vs. Training Accuracy\n"
     ]
    },
    {
     "data": {
      "image/png": "[encoded data removed]",
      "text/plain": [
       "<Figure size 432x288 with 1 Axes>"
      ]
     },
     "metadata": {
      "needs_background": "light"
     },
     "output_type": "display_data"
    },
    {
     "name": "stdout",
     "output_type": "stream",
     "text": [
      "Plot generated for: Epochs vs. Validation Accuracy\n"
     ]
    },
    {
     "data": {
      "text/plain": [
       "([0.11625514403292181,\n",
       "  0.11625514403292181,\n",
       "  0.11625514403292181,\n",
       "  0.11625514403292181,\n",
       "  0.11625514403292181,\n",
       "  0.11625514403292181,\n",
       "  0.11625514403292181,\n",
       "  0.11625514403292181,\n",
       "  0.11625514403292181,\n",
       "  0.11625514403292181,\n",
       "  0.11625514403292181,\n",
       "  0.11625514403292181,\n",
       "  0.11625514403292181,\n",
       "  0.11625514403292181,\n",
       "  0.11625514403292181,\n",
       "  0.11625514403292181,\n",
       "  0.11625514403292181,\n",
       "  0.11625514403292181,\n",
       "  0.11625514403292181,\n",
       "  0.11625514403292181,\n",
       "  0.11625514403292181,\n",
       "  0.11625514403292181,\n",
       "  0.11625514403292181,\n",
       "  0.11625514403292181,\n",
       "  0.11625514403292181,\n",
       "  0.11625514403292181,\n",
       "  0.11625514403292181,\n",
       "  0.11625514403292181,\n",
       "  0.11625514403292181,\n",
       "  0.11625514403292181],\n",
       " [0.0944558521560575,\n",
       "  0.0944558521560575,\n",
       "  0.0944558521560575,\n",
       "  0.0944558521560575,\n",
       "  0.0944558521560575,\n",
       "  0.0944558521560575,\n",
       "  0.0944558521560575,\n",
       "  0.0944558521560575,\n",
       "  0.0944558521560575,\n",
       "  0.0944558521560575,\n",
       "  0.0944558521560575,\n",
       "  0.0944558521560575,\n",
       "  0.0944558521560575,\n",
       "  0.0944558521560575,\n",
       "  0.0944558521560575,\n",
       "  0.0944558521560575,\n",
       "  0.0944558521560575,\n",
       "  0.0944558521560575,\n",
       "  0.0944558521560575,\n",
       "  0.0944558521560575,\n",
       "  0.0944558521560575,\n",
       "  0.0944558521560575,\n",
       "  0.0944558521560575,\n",
       "  0.0944558521560575,\n",
       "  0.0944558521560575,\n",
       "  0.0944558521560575,\n",
       "  0.0944558521560575,\n",
       "  0.0944558521560575,\n",
       "  0.0944558521560575,\n",
       "  0.0944558521560575])"
      ]
     },
     "execution_count": 19,
     "metadata": {},
     "output_type": "execute_result"
    }
   ],
   "source": [
    "# Reload the data \n",
    "train_data, val_data, test_data = load_dataset(batch_size=1) \n",
    "\n",
    "# Train the network with 4 different Learning rates\n",
    "print('\\nStarting training for Learning rate = 0.1 \\n')\n",
    "train_net(hand_net, train_data, val_data, num_epochs=30, learn_rate=0.1, trial_name=\"learningrate_0.1\", plot=True)\n",
    "print('\\nStarting training for Learning rate = 0.01 \\n')\n",
    "train_net(hand_net, train_data, val_data, num_epochs=30, learn_rate=0.01, trial_name=\"learningrate_0.01\", plot=True)\n",
    "print('\\nStarting training for Learning rate = 0.001 \\n')\n",
    "train_net(hand_net, train_data, val_data, num_epochs=30, learn_rate=0.001, trial_name=\"learningrate_0.001\", plot=True)\n",
    "print('\\nStarting training for Learning rate = 0.0001 \\n')\n",
    "train_net(hand_net, train_data, val_data, num_epochs=30, learn_rate=0.0001, trial_name=\"learningrate_0.0001\", plot=True)"
   ]
  },
  {
   "cell_type": "markdown",
   "metadata": {
    "colab_type": "text",
    "id": "H93iN5_l60BO"
   },
   "source": [
    "### Part (c) - 2 pt\n",
    "Choose the best model out of all the ones that you have trained. Justify your choice."
   ]
  },
  {
   "cell_type": "markdown",
   "metadata": {
    "colab": {},
    "colab_type": "code",
    "id": "kIhcN7IG6zRO"
   },
   "source": [
    "# Explanation\n",
    "\n",
    "Something is going wrong, but typically a learning rate of 0.001 is appropriate."
   ]
  },
  {
   "cell_type": "markdown",
   "metadata": {
    "colab_type": "text",
    "id": "QzNA5oup67JO"
   },
   "source": [
    "### Part (d) - 2 pt\n",
    "Report the test accuracy of your best model. You should only do this step once and prior to this step you should have only used the training and validation data."
   ]
  },
  {
   "cell_type": "markdown",
   "metadata": {
    "colab": {},
    "colab_type": "code",
    "id": "2eJ7AbVl6-ax"
   },
   "source": [
    "# Explanation\n",
    "\n",
    "test_net function doesn't work - I should have used the holdout test set for this step."
   ]
  },
  {
   "cell_type": "markdown",
   "metadata": {
    "colab_type": "text",
    "id": "Wrem-iXV6_Bz"
   },
   "source": [
    "### 4. Transfer Learning [15 pt]\n",
    "For many image classification tasks, it is generally not a good idea to train a very large deep neural network\n",
    "model from scratch due to the enormous compute requirements and lack of sufficient amounts of training\n",
    "data.\n",
    "\n",
    "One of the better options is to try using an existing model that performs a similar task to the one you need\n",
    "to solve. This method of utilizing a pre-trained network for other similar tasks is broadly termed **Transfer\n",
    "Learning**. In this assignment, we will use Transfer Learning to extract features from the hand gesture\n",
    "images. Then, train a smaller network to use these features as input and classify the hand gestures.\n",
    "\n",
    "As you have learned from the CNN lecture, convolution layers extract various features from the images which\n",
    "get utilized by the fully connected layers for correct classification. AlexNet architecture played a pivotal\n",
    "role in establishing Deep Neural Nets as a go-to tool for image classification problems and we will use an\n",
    "ImageNet pre-trained AlexNet model to extract features in this assignment."
   ]
  },
  {
   "cell_type": "markdown",
   "metadata": {
    "colab_type": "text",
    "id": "rWdQJz4Q7O2F"
   },
   "source": [
    "### Part (a) - 5 pt\n",
    "Here is the code to load the AlexNet network, with pretrained weights. When you first run the code, PyTorch\n",
    "will download the pretrained weights from the internet."
   ]
  },
  {
   "cell_type": "code",
   "execution_count": 16,
   "metadata": {
    "colab": {},
    "colab_type": "code",
    "id": "BJKcTW9C7TZk"
   },
   "outputs": [],
   "source": [
    "import torchvision.models\n",
    "alexnet = torchvision.models.alexnet(pretrained=True)"
   ]
  },
  {
   "cell_type": "markdown",
   "metadata": {
    "colab_type": "text",
    "id": "NQ0GZYaP7VAR"
   },
   "source": [
    "The alexnet model is split up into two components: *alexnet.features* and *alexnet.classifier*. The\n",
    "first neural network component, *alexnet.features*, is used to compute convolutional features, which are\n",
    "taken as input in *alexnet.classifier*.\n",
    "\n",
    "The neural network alexnet.features expects an image tensor of shape Nx3x224x224 as input and it will\n",
    "output a tensor of shape Nx256x6x6 . (N = batch size).\n",
    "\n",
    "Compute the AlexNet features for each of your training, validation, and test data. Here is an example code\n",
    "snippet showing how you can compute the AlexNet features for some images (your actual code might be\n",
    "different):"
   ]
  },
  {
   "cell_type": "markdown",
   "metadata": {
    "colab_type": "text",
    "id": "DYcjHg_A7cCM"
   },
   "source": [
    "**Save the computed features**. You will be using these features as input to your neural network in Part\n",
    "(b), and you do not want to re-compute the features every time. Instead, run *alexnet.features* once for\n",
    "each image, and save the result."
   ]
  },
  {
   "cell_type": "code",
   "execution_count": 17,
   "metadata": {
    "colab": {},
    "colab_type": "code",
    "id": "TBo1BpL373LX"
   },
   "outputs": [],
   "source": [
    "alex_net = AlexNetClassifier()\n",
    "alex_net_config = torchvision.models.alexnet(pretrained=True)\n",
    "features = alex_net_config.features"
   ]
  },
  {
   "cell_type": "markdown",
   "metadata": {
    "colab_type": "text",
    "id": "OFWvvhFN73qY"
   },
   "source": [
    "### Part (b) - 3 pt\n",
    "Build a convolutional neural network model that takes as input these AlexNet features, and makes a\n",
    "prediction. Your model should be a subclass of nn.Module.\n",
    "\n",
    "Explain your choice of neural network architecture: how many layers did you choose? What types of layers\n",
    "did you use: fully-connected or convolutional? What about other decisions like pooling layers, activation\n",
    "functions, number of channels / hidden units in each layer?\n",
    "\n",
    "Here is an example of how your model may be called:"
   ]
  },
  {
   "cell_type": "markdown",
   "metadata": {
    "colab": {},
    "colab_type": "code",
    "id": "oVTuHUeV78-U"
   },
   "source": [
    "# Explanation\n",
    "\n",
    "Search for the **AlexNetClassifier** Class in the helper function and class definition area to see implementation. The structure was taken from the course documentation.\n",
    "- From the output of the AlexNet features, you have two fully connected layers. \n",
    "- Hidden units (trainable weights) = (256*6*6*10) + (10*5) = 92210 "
   ]
  },
  {
   "cell_type": "markdown",
   "metadata": {
    "colab_type": "text",
    "id": "wVAGuURu7-9q"
   },
   "source": [
    "### Part (c) - 5 pt\n",
    "Train your new network, including any hyperparameter tuning. Plot and submit the training curve of your\n",
    "best model only.\n",
    "\n",
    "Note: Depending on how you are caching (saving) your AlexNet features, PyTorch might still be tracking\n",
    "updates to the **AlexNet weights**, which we are not tuning. One workaround is to convert your AlexNet\n",
    "feature tensor into a numpy array, and then back into a PyTorch tensor."
   ]
  },
  {
   "cell_type": "code",
   "execution_count": 21,
   "metadata": {
    "colab": {},
    "colab_type": "code",
    "id": "JCmiH11x7-q1"
   },
   "outputs": [
    {
     "ename": "NameError",
     "evalue": "name 'tensor' is not defined",
     "output_type": "error",
     "traceback": [
      "\u001b[0;31m---------------------------------------------------------------------------\u001b[0m",
      "\u001b[0;31mNameError\u001b[0m                                 Traceback (most recent call last)",
      "\u001b[0;32m<ipython-input-21-c609095c5c78>\u001b[0m in \u001b[0;36m<module>\u001b[0;34m\u001b[0m\n\u001b[0;32m----> 1\u001b[0;31m \u001b[0mtensor\u001b[0m \u001b[0;34m=\u001b[0m \u001b[0mtorch\u001b[0m\u001b[0;34m.\u001b[0m\u001b[0mfrom_numpy\u001b[0m\u001b[0;34m(\u001b[0m\u001b[0mtensor\u001b[0m\u001b[0;34m.\u001b[0m\u001b[0mdetach\u001b[0m\u001b[0;34m(\u001b[0m\u001b[0;34m)\u001b[0m\u001b[0;34m.\u001b[0m\u001b[0mnumpy\u001b[0m\u001b[0;34m(\u001b[0m\u001b[0;34m)\u001b[0m\u001b[0;34m)\u001b[0m\u001b[0;34m\u001b[0m\u001b[0;34m\u001b[0m\u001b[0m\n\u001b[0m",
      "\u001b[0;31mNameError\u001b[0m: name 'tensor' is not defined"
     ]
    }
   ],
   "source": [
    "tensor = torch.from_numpy(tensor.detach().numpy())"
   ]
  },
  {
   "cell_type": "markdown",
   "metadata": {
    "colab_type": "text",
    "id": "hQ2tvqJ68Mqb"
   },
   "source": [
    "### Part (d) - 2 pt\n",
    "Report the test accuracy of your best model. How does the test accuracy compare to Part 3(d) without transfer learning?"
   ]
  },
  {
   "cell_type": "code",
   "execution_count": 22,
   "metadata": {
    "colab": {},
    "colab_type": "code",
    "id": "yCp_kFSg8Q2T"
   },
   "outputs": [
    {
     "name": "stdout",
     "output_type": "stream",
     "text": [
      "Iteration:  1 Progress:   0.01  % Time Elapsed:   9.00 s \n",
      "Iteration:  2 Progress:   0.02  % Time Elapsed:  17.89 s \n",
      "Iteration:  3 Progress:   0.03  % Time Elapsed:  26.83 s \n",
      "Iteration:  4 Progress:   0.04  % Time Elapsed:  35.88 s \n",
      "Iteration:  5 Progress:   0.05  % Time Elapsed:  45.06 s \n",
      "Iteration:  6 Progress:   0.06  % Time Elapsed:  54.16 s \n",
      "Iteration:  7 Progress:   0.07  % Time Elapsed:  63.25 s \n",
      "Iteration:  8 Progress:   0.08  % Time Elapsed:  72.57 s \n",
      "Iteration:  9 Progress:   0.09  % Time Elapsed:  81.73 s \n",
      "Iteration:  10 Progress:   0.10  % Time Elapsed:  90.94 s \n",
      "Iteration:  11 Progress:   0.11  % Time Elapsed:  99.96 s \n",
      "Iteration:  12 Progress:   0.12  % Time Elapsed:  108.97 s \n",
      "Iteration:  13 Progress:   0.13  % Time Elapsed:  117.96 s \n",
      "Iteration:  14 Progress:   0.14  % Time Elapsed:  126.89 s \n"
     ]
    },
    {
     "ename": "RuntimeError",
     "evalue": "Assertion `cur_target >= 0 && cur_target < n_classes' failed.  at /tmp/pip-req-build-9oilk29k/aten/src/THNN/generic/ClassNLLCriterion.c:97",
     "output_type": "error",
     "traceback": [
      "\u001b[0;31m---------------------------------------------------------------------------\u001b[0m",
      "\u001b[0;31mRuntimeError\u001b[0m                              Traceback (most recent call last)",
      "\u001b[0;32m<ipython-input-22-d2163ce54e41>\u001b[0m in \u001b[0;36m<module>\u001b[0;34m\u001b[0m\n\u001b[0;32m----> 1\u001b[0;31m \u001b[0mtrain_net\u001b[0m\u001b[0;34m(\u001b[0m\u001b[0malex_net\u001b[0m\u001b[0;34m,\u001b[0m \u001b[0mtrain_data\u001b[0m\u001b[0;34m,\u001b[0m \u001b[0mval_data\u001b[0m\u001b[0;34m,\u001b[0m \u001b[0mnum_epochs\u001b[0m\u001b[0;34m=\u001b[0m\u001b[0;36m5\u001b[0m \u001b[0;34m,\u001b[0m \u001b[0mtrial_name\u001b[0m \u001b[0;34m=\u001b[0m \u001b[0;34m'AlexNet_Test'\u001b[0m\u001b[0;34m,\u001b[0m \u001b[0mtrain_alexNet\u001b[0m \u001b[0;34m=\u001b[0m \u001b[0;32mTrue\u001b[0m\u001b[0;34m,\u001b[0m \u001b[0mALNC\u001b[0m \u001b[0;34m=\u001b[0m \u001b[0mfeatures\u001b[0m\u001b[0;34m,\u001b[0m \u001b[0mplot\u001b[0m \u001b[0;34m=\u001b[0m \u001b[0;32mTrue\u001b[0m\u001b[0;34m)\u001b[0m\u001b[0;34m\u001b[0m\u001b[0;34m\u001b[0m\u001b[0m\n\u001b[0m",
      "\u001b[0;32m<ipython-input-12-784a26c2158b>\u001b[0m in \u001b[0;36mtrain_net\u001b[0;34m(model, train_loader, val_loader, trial_name, batch_size, num_epochs, learn_rate, momentum, train_alexNet, ALNC, overfit_test, plot)\u001b[0m\n\u001b[1;32m    321\u001b[0m \u001b[0;34m\u001b[0m\u001b[0m\n\u001b[1;32m    322\u001b[0m                 \u001b[0mout\u001b[0m \u001b[0;34m=\u001b[0m \u001b[0mmodel\u001b[0m\u001b[0;34m(\u001b[0m\u001b[0mALNC\u001b[0m\u001b[0;34m(\u001b[0m\u001b[0mimgs\u001b[0m\u001b[0;34m)\u001b[0m\u001b[0;34m)\u001b[0m             \u001b[0;31m# forward pass\u001b[0m\u001b[0;34m\u001b[0m\u001b[0;34m\u001b[0m\u001b[0m\n\u001b[0;32m--> 323\u001b[0;31m                 \u001b[0mloss\u001b[0m \u001b[0;34m=\u001b[0m \u001b[0mcriterion\u001b[0m\u001b[0;34m(\u001b[0m\u001b[0mout\u001b[0m\u001b[0;34m,\u001b[0m \u001b[0mlabels\u001b[0m\u001b[0;34m)\u001b[0m \u001b[0;31m# compute the total loss\u001b[0m\u001b[0;34m\u001b[0m\u001b[0;34m\u001b[0m\u001b[0m\n\u001b[0m\u001b[1;32m    324\u001b[0m                 \u001b[0mloss\u001b[0m\u001b[0;34m.\u001b[0m\u001b[0mbackward\u001b[0m\u001b[0;34m(\u001b[0m\u001b[0;34m)\u001b[0m               \u001b[0;31m# backward pass (compute parameter updates)\u001b[0m\u001b[0;34m\u001b[0m\u001b[0;34m\u001b[0m\u001b[0m\n\u001b[1;32m    325\u001b[0m                 \u001b[0moptimizer\u001b[0m\u001b[0;34m.\u001b[0m\u001b[0mstep\u001b[0m\u001b[0;34m(\u001b[0m\u001b[0;34m)\u001b[0m              \u001b[0;31m# make the updates for each parameter\u001b[0m\u001b[0;34m\u001b[0m\u001b[0;34m\u001b[0m\u001b[0m\n",
      "\u001b[0;32m~/anaconda3/lib/python3.7/site-packages/torch/nn/modules/module.py\u001b[0m in \u001b[0;36m__call__\u001b[0;34m(self, *input, **kwargs)\u001b[0m\n\u001b[1;32m    539\u001b[0m             \u001b[0mresult\u001b[0m \u001b[0;34m=\u001b[0m \u001b[0mself\u001b[0m\u001b[0;34m.\u001b[0m\u001b[0m_slow_forward\u001b[0m\u001b[0;34m(\u001b[0m\u001b[0;34m*\u001b[0m\u001b[0minput\u001b[0m\u001b[0;34m,\u001b[0m \u001b[0;34m**\u001b[0m\u001b[0mkwargs\u001b[0m\u001b[0;34m)\u001b[0m\u001b[0;34m\u001b[0m\u001b[0;34m\u001b[0m\u001b[0m\n\u001b[1;32m    540\u001b[0m         \u001b[0;32melse\u001b[0m\u001b[0;34m:\u001b[0m\u001b[0;34m\u001b[0m\u001b[0;34m\u001b[0m\u001b[0m\n\u001b[0;32m--> 541\u001b[0;31m             \u001b[0mresult\u001b[0m \u001b[0;34m=\u001b[0m \u001b[0mself\u001b[0m\u001b[0;34m.\u001b[0m\u001b[0mforward\u001b[0m\u001b[0;34m(\u001b[0m\u001b[0;34m*\u001b[0m\u001b[0minput\u001b[0m\u001b[0;34m,\u001b[0m \u001b[0;34m**\u001b[0m\u001b[0mkwargs\u001b[0m\u001b[0;34m)\u001b[0m\u001b[0;34m\u001b[0m\u001b[0;34m\u001b[0m\u001b[0m\n\u001b[0m\u001b[1;32m    542\u001b[0m         \u001b[0;32mfor\u001b[0m \u001b[0mhook\u001b[0m \u001b[0;32min\u001b[0m \u001b[0mself\u001b[0m\u001b[0;34m.\u001b[0m\u001b[0m_forward_hooks\u001b[0m\u001b[0;34m.\u001b[0m\u001b[0mvalues\u001b[0m\u001b[0;34m(\u001b[0m\u001b[0;34m)\u001b[0m\u001b[0;34m:\u001b[0m\u001b[0;34m\u001b[0m\u001b[0;34m\u001b[0m\u001b[0m\n\u001b[1;32m    543\u001b[0m             \u001b[0mhook_result\u001b[0m \u001b[0;34m=\u001b[0m \u001b[0mhook\u001b[0m\u001b[0;34m(\u001b[0m\u001b[0mself\u001b[0m\u001b[0;34m,\u001b[0m \u001b[0minput\u001b[0m\u001b[0;34m,\u001b[0m \u001b[0mresult\u001b[0m\u001b[0;34m)\u001b[0m\u001b[0;34m\u001b[0m\u001b[0;34m\u001b[0m\u001b[0m\n",
      "\u001b[0;32m~/anaconda3/lib/python3.7/site-packages/torch/nn/modules/loss.py\u001b[0m in \u001b[0;36mforward\u001b[0;34m(self, input, target)\u001b[0m\n\u001b[1;32m    914\u001b[0m     \u001b[0;32mdef\u001b[0m \u001b[0mforward\u001b[0m\u001b[0;34m(\u001b[0m\u001b[0mself\u001b[0m\u001b[0;34m,\u001b[0m \u001b[0minput\u001b[0m\u001b[0;34m,\u001b[0m \u001b[0mtarget\u001b[0m\u001b[0;34m)\u001b[0m\u001b[0;34m:\u001b[0m\u001b[0;34m\u001b[0m\u001b[0;34m\u001b[0m\u001b[0m\n\u001b[1;32m    915\u001b[0m         return F.cross_entropy(input, target, weight=self.weight,\n\u001b[0;32m--> 916\u001b[0;31m                                ignore_index=self.ignore_index, reduction=self.reduction)\n\u001b[0m\u001b[1;32m    917\u001b[0m \u001b[0;34m\u001b[0m\u001b[0m\n\u001b[1;32m    918\u001b[0m \u001b[0;34m\u001b[0m\u001b[0m\n",
      "\u001b[0;32m~/anaconda3/lib/python3.7/site-packages/torch/nn/functional.py\u001b[0m in \u001b[0;36mcross_entropy\u001b[0;34m(input, target, weight, size_average, ignore_index, reduce, reduction)\u001b[0m\n\u001b[1;32m   2007\u001b[0m     \u001b[0;32mif\u001b[0m \u001b[0msize_average\u001b[0m \u001b[0;32mis\u001b[0m \u001b[0;32mnot\u001b[0m \u001b[0;32mNone\u001b[0m \u001b[0;32mor\u001b[0m \u001b[0mreduce\u001b[0m \u001b[0;32mis\u001b[0m \u001b[0;32mnot\u001b[0m \u001b[0;32mNone\u001b[0m\u001b[0;34m:\u001b[0m\u001b[0;34m\u001b[0m\u001b[0;34m\u001b[0m\u001b[0m\n\u001b[1;32m   2008\u001b[0m         \u001b[0mreduction\u001b[0m \u001b[0;34m=\u001b[0m \u001b[0m_Reduction\u001b[0m\u001b[0;34m.\u001b[0m\u001b[0mlegacy_get_string\u001b[0m\u001b[0;34m(\u001b[0m\u001b[0msize_average\u001b[0m\u001b[0;34m,\u001b[0m \u001b[0mreduce\u001b[0m\u001b[0;34m)\u001b[0m\u001b[0;34m\u001b[0m\u001b[0;34m\u001b[0m\u001b[0m\n\u001b[0;32m-> 2009\u001b[0;31m     \u001b[0;32mreturn\u001b[0m \u001b[0mnll_loss\u001b[0m\u001b[0;34m(\u001b[0m\u001b[0mlog_softmax\u001b[0m\u001b[0;34m(\u001b[0m\u001b[0minput\u001b[0m\u001b[0;34m,\u001b[0m \u001b[0;36m1\u001b[0m\u001b[0;34m)\u001b[0m\u001b[0;34m,\u001b[0m \u001b[0mtarget\u001b[0m\u001b[0;34m,\u001b[0m \u001b[0mweight\u001b[0m\u001b[0;34m,\u001b[0m \u001b[0;32mNone\u001b[0m\u001b[0;34m,\u001b[0m \u001b[0mignore_index\u001b[0m\u001b[0;34m,\u001b[0m \u001b[0;32mNone\u001b[0m\u001b[0;34m,\u001b[0m \u001b[0mreduction\u001b[0m\u001b[0;34m)\u001b[0m\u001b[0;34m\u001b[0m\u001b[0;34m\u001b[0m\u001b[0m\n\u001b[0m\u001b[1;32m   2010\u001b[0m \u001b[0;34m\u001b[0m\u001b[0m\n\u001b[1;32m   2011\u001b[0m \u001b[0;34m\u001b[0m\u001b[0m\n",
      "\u001b[0;32m~/anaconda3/lib/python3.7/site-packages/torch/nn/functional.py\u001b[0m in \u001b[0;36mnll_loss\u001b[0;34m(input, target, weight, size_average, ignore_index, reduce, reduction)\u001b[0m\n\u001b[1;32m   1836\u001b[0m                          .format(input.size(0), target.size(0)))\n\u001b[1;32m   1837\u001b[0m     \u001b[0;32mif\u001b[0m \u001b[0mdim\u001b[0m \u001b[0;34m==\u001b[0m \u001b[0;36m2\u001b[0m\u001b[0;34m:\u001b[0m\u001b[0;34m\u001b[0m\u001b[0;34m\u001b[0m\u001b[0m\n\u001b[0;32m-> 1838\u001b[0;31m         \u001b[0mret\u001b[0m \u001b[0;34m=\u001b[0m \u001b[0mtorch\u001b[0m\u001b[0;34m.\u001b[0m\u001b[0m_C\u001b[0m\u001b[0;34m.\u001b[0m\u001b[0m_nn\u001b[0m\u001b[0;34m.\u001b[0m\u001b[0mnll_loss\u001b[0m\u001b[0;34m(\u001b[0m\u001b[0minput\u001b[0m\u001b[0;34m,\u001b[0m \u001b[0mtarget\u001b[0m\u001b[0;34m,\u001b[0m \u001b[0mweight\u001b[0m\u001b[0;34m,\u001b[0m \u001b[0m_Reduction\u001b[0m\u001b[0;34m.\u001b[0m\u001b[0mget_enum\u001b[0m\u001b[0;34m(\u001b[0m\u001b[0mreduction\u001b[0m\u001b[0;34m)\u001b[0m\u001b[0;34m,\u001b[0m \u001b[0mignore_index\u001b[0m\u001b[0;34m)\u001b[0m\u001b[0;34m\u001b[0m\u001b[0;34m\u001b[0m\u001b[0m\n\u001b[0m\u001b[1;32m   1839\u001b[0m     \u001b[0;32melif\u001b[0m \u001b[0mdim\u001b[0m \u001b[0;34m==\u001b[0m \u001b[0;36m4\u001b[0m\u001b[0;34m:\u001b[0m\u001b[0;34m\u001b[0m\u001b[0;34m\u001b[0m\u001b[0m\n\u001b[1;32m   1840\u001b[0m         \u001b[0mret\u001b[0m \u001b[0;34m=\u001b[0m \u001b[0mtorch\u001b[0m\u001b[0;34m.\u001b[0m\u001b[0m_C\u001b[0m\u001b[0;34m.\u001b[0m\u001b[0m_nn\u001b[0m\u001b[0;34m.\u001b[0m\u001b[0mnll_loss2d\u001b[0m\u001b[0;34m(\u001b[0m\u001b[0minput\u001b[0m\u001b[0;34m,\u001b[0m \u001b[0mtarget\u001b[0m\u001b[0;34m,\u001b[0m \u001b[0mweight\u001b[0m\u001b[0;34m,\u001b[0m \u001b[0m_Reduction\u001b[0m\u001b[0;34m.\u001b[0m\u001b[0mget_enum\u001b[0m\u001b[0;34m(\u001b[0m\u001b[0mreduction\u001b[0m\u001b[0;34m)\u001b[0m\u001b[0;34m,\u001b[0m \u001b[0mignore_index\u001b[0m\u001b[0;34m)\u001b[0m\u001b[0;34m\u001b[0m\u001b[0;34m\u001b[0m\u001b[0m\n",
      "\u001b[0;31mRuntimeError\u001b[0m: Assertion `cur_target >= 0 && cur_target < n_classes' failed.  at /tmp/pip-req-build-9oilk29k/aten/src/THNN/generic/ClassNLLCriterion.c:97"
     ]
    }
   ],
   "source": [
    "train_net(alex_net, train_data, val_data, num_epochs=5 , trial_name = 'AlexNet_Test', train_alexNet = True, ALNC = features, plot = True)"
   ]
  },
  {
   "cell_type": "markdown",
   "metadata": {},
   "source": [
    "### 5. Additional Testing [5 pt]\n",
    "As a final step in testing we will be revisiting the sample images that you had collected and submitted at the start of this lab. These sample images should be untouched and will be used to demonstrate how well your model works at identifying your hand guestures. \n",
    "\n",
    "Using the best transfer learning model developed in Part 4. Report the test accuracy on your sample images and how it compares to the test accuracy obtained in Part 4(d)? How well did your model do for the different hand guestures? Provide an explanation for why you think your model performed the way it did?"
   ]
  },
  {
   "cell_type": "markdown",
   "metadata": {},
   "source": [
    "# Explanation\n",
    "\n",
    "Ran into errors, wasn't able to finish the portion of the lab."
   ]
  }
 ],
 "metadata": {
  "colab": {
   "collapsed_sections": [],
   "name": "Lab 3 - Gesture Recognition.ipynb",
   "provenance": []
  },
  "kernelspec": {
   "display_name": "Python 3",
   "language": "python",
   "name": "python3"
  },
  "language_info": {
   "codemirror_mode": {
    "name": "ipython",
    "version": 3
   },
   "file_extension": ".py",
   "mimetype": "text/x-python",
   "name": "python",
   "nbconvert_exporter": "python",
   "pygments_lexer": "ipython3",
   "version": "3.7.7"
  }
 },
 "nbformat": 4,
 "nbformat_minor": 1
}
